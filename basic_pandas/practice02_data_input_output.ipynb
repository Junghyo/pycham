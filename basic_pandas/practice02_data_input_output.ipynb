{
 "cells": [
  {
   "cell_type": "code",
   "execution_count": 54,
   "metadata": {
    "collapsed": true
   },
   "outputs": [
    {
     "data": {
      "text/plain": [
       "'\\npandas 데이터 입출력\\n\\npandas는 CSV(Comman Separated Value)를 포함한\\n다양한 포맷의 데이터 파일을 읽어 직접 데이터프레임을 만들 수 있다.\\npandas 입출력 가능한 포맷의 종류는 다음과 같다.\\n\\nCSV\\nClipboard\\nExcel\\nJSON\\nHTML\\nPython Pickling\\nFeather\\nMsgpack\\nHDF5\\nSAS\\nSTATA\\nSQL\\nGoogle BigQuery\\n여기에서는 가장 단순하지만 널리 사용되는 CSV 포맷 입출력에 대해 살펴본다.\\nCSV 파일 포맷은 값들이 comma로 구분되는 텍스트 파일이다.\\n'"
      ]
     },
     "execution_count": 53,
     "metadata": {},
     "output_type": "execute_result"
    }
   ],
   "source": [
    "\"\"\"\n",
    "pandas 데이터 입출력\n",
    "\n",
    "pandas는 CSV(Comman Separated Value)를 포함한\n",
    "다양한 포맷의 데이터 파일을 읽어 직접 데이터프레임을 만들 수 있다.\n",
    "pandas 입출력 가능한 포맷의 종류는 다음과 같다.\n",
    "\n",
    "CSV\n",
    "Clipboard\n",
    "Excel\n",
    "JSON\n",
    "HTML\n",
    "Python Pickling\n",
    "Feather\n",
    "Msgpack\n",
    "HDF5\n",
    "SAS\n",
    "STATA\n",
    "SQL\n",
    "Google BigQuery\n",
    "여기에서는 가장 단순하지만 널리 사용되는 CSV 포맷 입출력에 대해 살펴본다.\n",
    "CSV 파일 포맷은 값들이 comma로 구분되는 텍스트 파일이다.\n",
    "\"\"\""
   ]
  },
  {
   "cell_type": "code",
   "execution_count": 6,
   "metadata": {
    "collapsed": false
   },
   "outputs": [
    {
     "name": "stdout",
     "output_type": "stream",
     "text": [
      "Writing data/sample1.csv\n"
     ]
    }
   ],
   "source": [
    "# %%ritefile : magic command\n",
    "%%writefile data/sample1.csv\n",
    "c1, c2, c3\n",
    "1, 1.11, one\n",
    "2, 2.22, two\n",
    "3, 3.33, three"
   ]
  },
  {
   "cell_type": "code",
   "execution_count": 7,
   "metadata": {},
   "outputs": [],
   "source": [
    "import pandas as pd"
   ]
  }
 ],
 "metadata": {
  "kernelspec": {
   "display_name": "Python 2",
   "language": "python",
   "name": "python2"
  },
  "language_info": {
   "codemirror_mode": {
    "name": "ipython",
    "version": 2.0
   },
   "file_extension": ".py",
   "mimetype": "text/x-python",
   "name": "python",
   "nbconvert_exporter": "python",
   "pygments_lexer": "ipython2",
   "version": "2.7.6"
  }
 },
 "nbformat": 4,
 "nbformat_minor": 0
}