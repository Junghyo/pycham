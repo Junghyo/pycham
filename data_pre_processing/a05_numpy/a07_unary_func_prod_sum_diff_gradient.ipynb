{
 "cells": [
  {
   "cell_type": "code",
   "execution_count": 2,
   "metadata": {
    "collapsed": true
   },
   "outputs": [],
   "source": [
    "import numpy as np"
   ]
  },
  {
   "cell_type": "code",
   "execution_count": null,
   "metadata": {},
   "outputs": [],
   "source": [
    "\"\"\"\n",
    "(1) 1개의 배열에 적용하는 Unary Universal Functions (ufuncs)\n",
    "\n",
    "(2) 2개의 배열에 대해 적용하는 Binary Universal Functions (ufuncs)\n",
    "\n",
    "\"\"\""
   ]
  },
  {
   "cell_type": "code",
   "execution_count": 3,
   "metadata": {},
   "outputs": [
    {
     "data": {
      "text/plain": [
       "array([-4.62, -2.19,  0.  ,  1.57,  3.4 ,  4.06])"
      ]
     },
     "execution_count": 3,
     "metadata": {},
     "output_type": "execute_result"
    }
   ],
   "source": [
    "# (1-1) 올림 혹은 내림 범용 함수 (round universal functions)\n",
    "\n",
    "a = np.array([-4.62, -2.19, 0, 1.57, 3.40, 4.06])\n",
    "\n",
    "a"
   ]
  },
  {
   "cell_type": "code",
   "execution_count": 8,
   "metadata": {},
   "outputs": [
    {
     "name": "stdout",
     "output_type": "stream",
     "text": [
      "[-5. -2.  0.  2.  3.  4.]\n[-4.6 -2.2  0.   1.6  3.4  4.1]\n"
     ]
    }
   ],
   "source": [
    " # (1-1-1) np.around(a) : 반올림\n",
    "# 소수 첫째자리에서 반올림\n",
    "print(np.round(a))\n",
    "# 둘째 자리에서 반올림\n",
    "print(np.round(a, 1))"
   ]
  },
  {
   "cell_type": "code",
   "execution_count": 10,
   "metadata": {},
   "outputs": [
    {
     "data": {
      "text/plain": [
       "array([-5., -2.,  0.,  2.,  3.,  4.])"
      ]
     },
     "execution_count": 10,
     "metadata": {},
     "output_type": "execute_result"
    }
   ],
   "source": [
    "# np.rint(a) : 가장 가까운 정수로 올림 혹은 내림\n",
    "np.rint(a)"
   ]
  },
  {
   "cell_type": "code",
   "execution_count": 11,
   "metadata": {},
   "outputs": [
    {
     "data": {
      "text/plain": [
       "array([-4., -2.,  0.,  1.,  3.,  4.])"
      ]
     },
     "execution_count": 11,
     "metadata": {},
     "output_type": "execute_result"
    }
   ],
   "source": [
    "# np.fix(a) : '0' 방향으로 가장 가까운 정수로 올림 혹은 내림\n",
    "np.fix(a)"
   ]
  },
  {
   "cell_type": "code",
   "execution_count": 15,
   "metadata": {},
   "outputs": [
    {
     "data": {
      "text/plain": [
       "array([-4., -2.,  0.,  2.,  4.,  5.])"
      ]
     },
     "execution_count": 15,
     "metadata": {},
     "output_type": "execute_result"
    }
   ],
   "source": [
    "# np.ceil(a) : 올림\n",
    "np.ceil(a)"
   ]
  },
  {
   "cell_type": "code",
   "execution_count": 18,
   "metadata": {},
   "outputs": [
    {
     "data": {
      "text/plain": [
       "array([-5., -3.,  0.,  1.,  3.,  4.])"
      ]
     },
     "execution_count": 18,
     "metadata": {},
     "output_type": "execute_result"
    }
   ],
   "source": [
    "# np.floor() : 버림\n",
    "np.floor(a)"
   ]
  },
  {
   "cell_type": "code",
   "execution_count": 19,
   "metadata": {},
   "outputs": [
    {
     "data": {
      "text/plain": [
       "array([-4., -2.,  0.,  1.,  3.,  4.])"
      ]
     },
     "execution_count": 19,
     "metadata": {},
     "output_type": "execute_result"
    }
   ],
   "source": [
    "# np.trunc() : 소수점 미만은 잘라버리고 return\n",
    "np.trunc(a)"
   ]
  },
  {
   "cell_type": "code",
   "execution_count": 20,
   "metadata": {},
   "outputs": [
    {
     "name": "stdout",
     "output_type": "stream",
     "text": [
      "[1 2 3 4]\n[[1 2]\n [3 4]]\n"
     ]
    }
   ],
   "source": [
    "a = np.array([1, 2, 3, 4])\n",
    "b = np.arange(1, 5).reshape(2, 2)\n",
    "print(a)\n",
    "print(b)"
   ]
  },
  {
   "cell_type": "code",
   "execution_count": 25,
   "metadata": {},
   "outputs": [
    {
     "name": "stdout",
     "output_type": "stream",
     "text": [
      "24\n24\n[ 2 12]\n[3 8]\n"
     ]
    }
   ],
   "source": [
    "# 배열 원소 간 곱 범용 함수 (products universal funcstions) : np.prod()\n",
    "# 1 dimentional array\n",
    "print(np.prod(a))\n",
    "\n",
    "# 2 dimentional array\n",
    "print(np.prod(b)) # 전체 곱\n",
    "print(np.prod(b, axis=1)) # 행 곱\n",
    "print(np.prod(b, axis=0)) # 열 곱"
   ]
  },
  {
   "cell_type": "code",
   "execution_count": 34,
   "metadata": {},
   "outputs": [
    {
     "name": "stdout",
     "output_type": "stream",
     "text": [
      "10\n[10]\n10\n[[3]\n [7]]\n[[4 6]]\n"
     ]
    }
   ],
   "source": [
    "# 배열 원소 간 합치기 범용 함수 (sum universal functions) : np.sum()\n",
    "# 1 dimentional array\n",
    "print(np.sum(a))\n",
    "# keepdims=True : 차원 보존\n",
    "print(np.sum(a, keepdims=True)) \n",
    "\n",
    "# 2 dimentional array\n",
    "print(np.sum(b)) # 전체 합\n",
    "print(np.sum(b, axis=1, keepdims=True)) # 행 합\n",
    "print(np.sum(b, axis=0, keepdims=True)) # 열 합"
   ]
  },
  {
   "cell_type": "code",
   "execution_count": 35,
   "metadata": {},
   "outputs": [
    {
     "data": {
      "text/plain": [
       "array([[  1.,   2.],\n       [  3.,  nan]])"
      ]
     },
     "execution_count": 35,
     "metadata": {},
     "output_type": "execute_result"
    }
   ],
   "source": [
    "# NaN 이 포함된 배열 원소 간 곱하기 범용 함수 : np.nanprod()\n",
    "c = np.array([[1, 2], [3, np.nan]])\n",
    "c"
   ]
  },
  {
   "cell_type": "code",
   "execution_count": 39,
   "metadata": {},
   "outputs": [
    {
     "name": "stdout",
     "output_type": "stream",
     "text": [
      "6.0\n[[ 2.]\n [ 3.]]\n[[ 3.  2.]]\n"
     ]
    }
   ],
   "source": [
    "# nan값을 1로 계산\n",
    "print(np.nanprod(c)) # 전체\n",
    "print(np.nanprod(c, axis=1, keepdims=True)) # 행\n",
    "print(np.nanprod(c, axis=0, keepdims=True)) # 열"
   ]
  },
  {
   "cell_type": "code",
   "execution_count": 42,
   "metadata": {},
   "outputs": [
    {
     "name": "stdout",
     "output_type": "stream",
     "text": [
      "6.0\n[[ 4.  2.]]\n"
     ]
    }
   ],
   "source": [
    "# NaN이 포함된 배열 원소 간 더하기 범용 함수 : np.nansum()\n",
    "# nan값을 0으로 계산\n",
    "print(np.nansum(c))\n",
    "print(np.nansum(c, axis=0, keepdims=True))"
   ]
  },
  {
   "cell_type": "code",
   "execution_count": 49,
   "metadata": {},
   "outputs": [
    {
     "name": "stdout",
     "output_type": "stream",
     "text": [
      "[1 2 3 4]\n[[1 2]\n [3 4]]\n[ 1  2  6 24]\n[[ 1  2]\n [ 3 12]]\n[[1 2]\n [3 8]]\n"
     ]
    }
   ],
   "source": [
    "# 배열 원소 간 누적 곱하기 범용 함수 : np.cumprod()\n",
    "print(a)\n",
    "print(b)\n",
    "\n",
    "# 1 dimentional array\n",
    "print(np.cumprod(a))\n",
    "\n",
    "# 2 dimentional\n",
    "print(np.cumprod(b, axis=1)) # 행\n",
    "print(np.cumprod(b, axis=0)) # 열"
   ]
  },
  {
   "cell_type": "code",
   "execution_count": 50,
   "metadata": {},
   "outputs": [
    {
     "name": "stdout",
     "output_type": "stream",
     "text": [
      "[1 2 3 4]\n[[1 2]\n [3 4]]\n[ 1  3  6 10]\n[[1 3]\n [3 7]]\n[[1 2]\n [4 6]]\n"
     ]
    }
   ],
   "source": [
    "# 배열 원소 간 누적 합 구하기 범용 함수 : np.cumsum()\n",
    "print(a)\n",
    "print(b)\n",
    "\n",
    "# 1 dimentional array\n",
    "print(np.cumsum(a))\n",
    "\n",
    "# 2 dimentional\n",
    "print(np.cumsum(b, axis=1)) # 행\n",
    "print(np.cumsum(b, axis=0)) # 열"
   ]
  },
  {
   "cell_type": "code",
   "execution_count": 57,
   "metadata": {},
   "outputs": [
    {
     "name": "stdout",
     "output_type": "stream",
     "text": [
      "[ 1  2  4 10 13 20]\n[1 2 6 3 7]\n[ 1  4 -3  4]\n"
     ]
    }
   ],
   "source": [
    "# 배열 원소 간 n차 차분 구하기 : np.diff()\n",
    "g = np.array([1, 2, 4, 10, 13, 20])\n",
    "print(g)\n",
    "# 1차 차분 : [2-1, 4-2, 10-4, 13-10, 20-13]\n",
    "print(np.diff(g))\n",
    "\n",
    "# 2차 차분 : [2-1, 6-2, 3-6, 7-3]  \n",
    "print(np.diff(g, n=2))"
   ]
  },
  {
   "cell_type": "code",
   "execution_count": 62,
   "metadata": {},
   "outputs": [
    {
     "name": "stdout",
     "output_type": "stream",
     "text": [
      "[[6 1 4]\n [4 8 4]\n [6 3 5]]\n[[-5  3]\n [ 4 -4]\n [-3  2]]\n[[ 8]\n [-8]\n [ 5]]\n[[  4 -12   1]]\n"
     ]
    }
   ],
   "source": [
    "np.random.seed(0)\n",
    "h = np.random.randint(1, 10, 9).reshape(3, 3)\n",
    "print(h)\n",
    "# 행 1차 차분\n",
    "print(np.diff(h, axis=1))\n",
    "# 행 2차 차분\n",
    "print(np.diff(h, n=2, axis=1))\n",
    "\n",
    "# 열 2차 차분\n",
    "print(np.diff(h, n=2, axis=0))"
   ]
  },
  {
   "cell_type": "code",
   "execution_count": 70,
   "metadata": {},
   "outputs": [
    {
     "name": "stdout",
     "output_type": "stream",
     "text": [
      "[1 2 6 3 7]\n[[6 1 4]\n [4 8 4]\n [6 3 5]]\n[-5  3  0  4 -4  2 -3  2]\n[-100   99   -5    3    0    4   -4    2   -3    2 2000]\n"
     ]
    }
   ],
   "source": [
    "# 차분 결과를 1차원 배열(1 dimensional array)로 반환해주는 함수 : ediff1d()\n",
    "# 1차원 배열\n",
    "print(np.ediff1d(g))\n",
    "# 2차원 배열\n",
    "print(h)\n",
    "print(np.ediff1d(h))\n",
    "\n",
    "# to_begin, to_end 설정\n",
    "print(np.ediff1d(h, to_begin=np.array([-100, 99]), to_end=2000))"
   ]
  },
  {
   "cell_type": "code",
   "execution_count": 85,
   "metadata": {},
   "outputs": [
    {
     "name": "stdout",
     "output_type": "stream",
     "text": [
      "[ 1  2  4 10 13 20]\n[ 1.   1.5  4.   4.5  5.   7. ]\n[ 0.5  1.5  4.   4.5  5.   9. ]\n[ 0.5   0.75  2.    2.25  2.5   3.5 ]\n"
     ]
    }
   ],
   "source": [
    "# 기울기(gradient) 구하기 범용 함수 : np.gradient()\n",
    "print(g)\n",
    "\n",
    "# # [(2-1), {(2-1)+(4-2)}/2, {(4-2)+(10-4)}/2, \n",
    "# {(10-4)+(13-10)}/2, {(13-10)+(20-13)}/2, (20-13)]\n",
    "print(np.gradient(g))\n",
    "\n",
    "# 양 옆에만 2차 차분 : 1 - (1.5 -1) = 0.5,   7 + (7-5) = 9\n",
    "print(np.gradient(g, edge_order=2))\n",
    "\n",
    "# [(2-1)/2, {(2-1)+(4-2)}/2*2, {(4-2)+(10-4)}/2*2, \n",
    "# {(10-4)+(13-10)}/2*2, {(13-10)+(20-13)}/2*2, (20-13)/2] \n",
    "print(np.gradient(g, 2))\n"
   ]
  },
  {
   "cell_type": "code",
   "execution_count": 88,
   "metadata": {},
   "outputs": [
    {
     "name": "stdout",
     "output_type": "stream",
     "text": [
      "[[ 1  2  4  8]\n [10 13 20 15]]\n[array([[  9.,  11.,  16.,   7.],\n       [  9.,  11.,  16.,   7.]]), array([[ 1. ,  1.5,  3. ,  4. ],\n       [ 3. ,  5. ,  1. , -5. ]])]\n[[  9.  11.  16.   7.]\n [  9.  11.  16.   7.]]\n[[ 1.   1.5  3.   4. ]\n [ 3.   5.   1.  -5. ]]\n"
     ]
    }
   ],
   "source": [
    "h = np.array([[1, 2, 4, 8], [10, 13, 20, 15]])\n",
    "print(h)\n",
    "print(np.gradient(h)) # 열 + 행\n",
    "print(np.gradient(h, axis=0)) # 열\n",
    "print(np.gradient(h, axis=1)) # 행"
   ]
  }
 ],
 "metadata": {
  "kernelspec": {
   "display_name": "Python 2",
   "language": "python",
   "name": "python2"
  },
  "language_info": {
   "codemirror_mode": {
    "name": "ipython",
    "version": 2
   },
   "file_extension": ".py",
   "mimetype": "text/x-python",
   "name": "python",
   "nbconvert_exporter": "python",
   "pygments_lexer": "ipython2",
   "version": "2.7.6"
  }
 },
 "nbformat": 4,
 "nbformat_minor": 0
}
