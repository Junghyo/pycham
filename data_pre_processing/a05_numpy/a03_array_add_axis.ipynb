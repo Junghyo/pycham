{
 "cells": [
  {
   "cell_type": "code",
   "execution_count": 1,
   "metadata": {
    "collapsed": true
   },
   "outputs": [],
   "source": [
    "import numpy as np"
   ]
  },
  {
   "cell_type": "code",
   "execution_count": 11,
   "metadata": {},
   "outputs": [
    {
     "name": "stdout",
     "output_type": "stream",
     "text": [
      "[1 2 3 4]\n(4,)\n"
     ]
    }
   ],
   "source": [
    "a = np.array([1, 2, 3, 4])\n",
    "print(a)\n",
    "print(a.shape)"
   ]
  },
  {
   "cell_type": "code",
   "execution_count": 18,
   "metadata": {},
   "outputs": [
    {
     "name": "stdout",
     "output_type": "stream",
     "text": [
      "[[1 2 3 4]]\n(1, 4)\n"
     ]
    }
   ],
   "source": [
    "a1 = a[np.newaxis]\n",
    "print(a1)\n",
    "print(a1.shape)"
   ]
  },
  {
   "cell_type": "code",
   "execution_count": 19,
   "metadata": {},
   "outputs": [
    {
     "name": "stdout",
     "output_type": "stream",
     "text": [
      "[[[1 2 3 4]]]\n(1, 1, 4)\n"
     ]
    }
   ],
   "source": [
    "a2 = a1[np.newaxis]\n",
    "print(a2)\n",
    "print(a2.shape)"
   ]
  },
  {
   "cell_type": "code",
   "execution_count": 20,
   "metadata": {},
   "outputs": [
    {
     "name": "stdout",
     "output_type": "stream",
     "text": [
      "[[[[1 2 3 4]]]]\n(1, 1, 1, 4)\n"
     ]
    }
   ],
   "source": [
    "a3 = a2[np.newaxis]\n",
    "print(a3)\n",
    "print(a3.shape)"
   ]
  },
  {
   "cell_type": "code",
   "execution_count": 21,
   "metadata": {},
   "outputs": [
    {
     "name": "stdout",
     "output_type": "stream",
     "text": [
      "[[1]\n [2]\n [3]\n [4]]\n(4, 1)\n"
     ]
    }
   ],
   "source": [
    "b1 = a[:, np.newaxis]\n",
    "print(b1)\n",
    "print(b1.shape)"
   ]
  },
  {
   "cell_type": "code",
   "execution_count": 42,
   "metadata": {},
   "outputs": [
    {
     "name": "stdout",
     "output_type": "stream",
     "text": [
      "[[[1]]\n\n [[2]]\n\n [[3]]\n\n [[4]]]\n(4, 1, 1)\n"
     ]
    }
   ],
   "source": [
    "b2 = b1[:, :, np.newaxis]\n",
    "print(b2)\n",
    "print(b2.shape)"
   ]
  },
  {
   "cell_type": "code",
   "execution_count": 44,
   "metadata": {},
   "outputs": [
    {
     "name": "stdout",
     "output_type": "stream",
     "text": [
      "[[ 0  1  2  3]\n [ 4  5  6  7]\n [ 8  9 10 11]]\n(3, 4)\n"
     ]
    }
   ],
   "source": [
    "c = np.arange(12).reshape(3, 4)\n",
    "print(c)\n",
    "print(c.shape)"
   ]
  },
  {
   "cell_type": "code",
   "execution_count": 50,
   "metadata": {},
   "outputs": [
    {
     "name": "stdout",
     "output_type": "stream",
     "text": [
      "[[[ 0]\n  [ 1]\n  [ 2]\n  [ 3]]\n\n [[ 4]\n  [ 5]\n  [ 6]\n  [ 7]]\n\n [[ 8]\n  [ 9]\n  [10]\n  [11]]]\n(3, 4, 1)\n"
     ]
    }
   ],
   "source": [
    "c1 = c[:, :, np.newaxis]\n",
    "print(c1)\n",
    "print(c1.shape)"
   ]
  },
  {
   "cell_type": "code",
   "execution_count": 51,
   "metadata": {},
   "outputs": [
    {
     "name": "stdout",
     "output_type": "stream",
     "text": [
      "[[[ 0  1  2  3]]\n\n [[ 4  5  6  7]]\n\n [[ 8  9 10 11]]]\n(3, 1, 4)\n"
     ]
    }
   ],
   "source": [
    "c2 = c[:, np.newaxis, :]\n",
    "print(c2)\n",
    "print(c2.shape)"
   ]
  },
  {
   "cell_type": "code",
   "execution_count": 53,
   "metadata": {},
   "outputs": [
    {
     "name": "stdout",
     "output_type": "stream",
     "text": [
      "[0 1 2 3]\n(4,)\n"
     ]
    }
   ],
   "source": [
    "a = np.array([0, 1, 2, 3])\n",
    "print(a)\n",
    "print(a.shape)"
   ]
  },
  {
   "cell_type": "code",
   "execution_count": 54,
   "metadata": {},
   "outputs": [
    {
     "name": "stdout",
     "output_type": "stream",
     "text": [
      "[0 1 2 3 0 1 2 3]\n(8,)\n"
     ]
    }
   ],
   "source": [
    "a1 = np.tile(a, 2)\n",
    "print(a1)\n",
    "print(a1.shape)"
   ]
  },
  {
   "cell_type": "code",
   "execution_count": 58,
   "metadata": {},
   "outputs": [
    {
     "name": "stdout",
     "output_type": "stream",
     "text": [
      "[[0 1 2 3 0 1 2 3]\n [0 1 2 3 0 1 2 3]]\n(2, 8)\n"
     ]
    }
   ],
   "source": [
    "a2 = np.tile(a, reps=(2, 2))\n",
    "print(a2)\n",
    "print(a2.shape)"
   ]
  },
  {
   "cell_type": "code",
   "execution_count": 59,
   "metadata": {},
   "outputs": [
    {
     "name": "stdout",
     "output_type": "stream",
     "text": [
      "[[[0 1 2 3 0 1 2 3]\n  [0 1 2 3 0 1 2 3]]\n\n [[0 1 2 3 0 1 2 3]\n  [0 1 2 3 0 1 2 3]]\n\n [[0 1 2 3 0 1 2 3]\n  [0 1 2 3 0 1 2 3]]]\n(3, 2, 8)\n"
     ]
    }
   ],
   "source": [
    "a3 = np.tile(a, reps=(3, 2, 2))\n",
    "print(a3)\n",
    "print(a3.shape)"
   ]
  }
 ],
 "metadata": {
  "kernelspec": {
   "display_name": "Python 2",
   "language": "python",
   "name": "python2"
  },
  "language_info": {
   "codemirror_mode": {
    "name": "ipython",
    "version": 2
   },
   "file_extension": ".py",
   "mimetype": "text/x-python",
   "name": "python",
   "nbconvert_exporter": "python",
   "pygments_lexer": "ipython2",
   "version": "2.7.6"
  }
 },
 "nbformat": 4,
 "nbformat_minor": 0
}
