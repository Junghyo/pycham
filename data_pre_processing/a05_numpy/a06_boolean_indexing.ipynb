{
 "cells": [
  {
   "cell_type": "code",
   "execution_count": 1,
   "metadata": {
    "collapsed": true
   },
   "outputs": [],
   "source": [
    "import numpy as np"
   ]
  },
  {
   "cell_type": "code",
   "execution_count": 2,
   "metadata": {},
   "outputs": [
    {
     "data": {
      "text/plain": [
       "array([[ 0,  1,  2,  3],\n       [ 4,  5,  6,  7],\n       [ 8,  9, 10, 11],\n       [12, 13, 14, 15],\n       [16, 17, 18, 19]])"
      ]
     },
     "execution_count": 2,
     "metadata": {},
     "output_type": "execute_result"
    }
   ],
   "source": [
    "a = np.arange(20).reshape(5, 4)\n",
    "a"
   ]
  },
  {
   "cell_type": "code",
   "execution_count": 7,
   "metadata": {},
   "outputs": [
    {
     "data": {
      "text/plain": [
       "array(['A', 'A', 'B', 'C', 'C'],\n      dtype='<U1')"
      ]
     },
     "execution_count": 7,
     "metadata": {},
     "output_type": "execute_result"
    }
   ],
   "source": [
    "b = np.array([\"A\", \"A\", \"B\", \"C\", \"C\"])\n",
    "b"
   ]
  },
  {
   "cell_type": "code",
   "execution_count": 8,
   "metadata": {},
   "outputs": [
    {
     "data": {
      "text/plain": [
       "array([[0, 1, 2, 3],\n       [4, 5, 6, 7]])"
      ]
     },
     "execution_count": 8,
     "metadata": {},
     "output_type": "execute_result"
    }
   ],
   "source": [
    "a[b==\"A\"]"
   ]
  },
  {
   "cell_type": "code",
   "execution_count": 9,
   "metadata": {},
   "outputs": [
    {
     "data": {
      "text/plain": [
       "array([[12, 13, 14],\n       [16, 17, 18]])"
      ]
     },
     "execution_count": 9,
     "metadata": {},
     "output_type": "execute_result"
    }
   ],
   "source": [
    "a[b==\"C\", 0:3]"
   ]
  },
  {
   "cell_type": "code",
   "execution_count": 11,
   "metadata": {},
   "outputs": [
    {
     "name": "stdout",
     "output_type": "stream",
     "text": [
      "[[ 8  9 10 11]\n [12 13 14 15]\n [16 17 18 19]]\n[[ 8  9 10 11]\n [12 13 14 15]\n [16 17 18 19]]\n"
     ]
    }
   ],
   "source": [
    "# A가아닌 행 선택\n",
    "print(a[b!=\"A\"])\n",
    "print(a[~(b==\"A\")])"
   ]
  },
  {
   "cell_type": "code",
   "execution_count": 14,
   "metadata": {},
   "outputs": [
    {
     "name": "stdout",
     "output_type": "stream",
     "text": [
      "[[ 0  1  2  3]\n [ 4  5  6  7]\n [ 8  9 10 11]]\n[[12 13 14 15]\n [16 17 18 19]]\n"
     ]
    }
   ],
   "source": [
    "# A 또는 B 행\n",
    "print(a[(b==\"A\") | (b==\"B\")])\n",
    "# A와 B가 아닌 행\n",
    "print(a[(b!=\"A\") & (b!=\"B\")])"
   ]
  },
  {
   "cell_type": "code",
   "execution_count": 16,
   "metadata": {},
   "outputs": [
    {
     "name": "stdout",
     "output_type": "stream",
     "text": [
      "[[777   1 777   3]\n [777   5 777   7]\n [777   9 777  11]\n [777  13 777  15]\n [777  17 777  19]]\n[[777   1 777   3]\n [777   5 777   7]\n [777  10 777  10]\n [777  10 777  10]\n [777  17 777  19]]\n"
     ]
    }
   ],
   "source": [
    "# 짝수인 값을 777로 바꾸기\n",
    "a[a%2==0]=777\n",
    "print(a)\n",
    "# 8 이상 15 이하일 경우 10\n",
    "a[(a>=8) & (a<=15)] = 10\n",
    "print(a)"
   ]
  }
 ],
 "metadata": {
  "kernelspec": {
   "display_name": "Python 2",
   "language": "python",
   "name": "python2"
  },
  "language_info": {
   "codemirror_mode": {
    "name": "ipython",
    "version": 2
   },
   "file_extension": ".py",
   "mimetype": "text/x-python",
   "name": "python",
   "nbconvert_exporter": "python",
   "pygments_lexer": "ipython2",
   "version": "2.7.6"
  }
 },
 "nbformat": 4,
 "nbformat_minor": 0
}
