{
 "cells": [
  {
   "cell_type": "code",
   "execution_count": 1,
   "metadata": {
    "collapsed": true
   },
   "outputs": [],
   "source": [
    "import numpy as np\n",
    "import matplotlib as mpl\n",
    "import matplotlib.pylab as plt"
   ]
  },
  {
   "cell_type": "code",
   "execution_count": null,
   "metadata": {},
   "outputs": [],
   "source": [
    "\"\"\"\n",
    "    B\n",
    "    \n",
    "A   C\n",
    "삼각형이 있다고 가정하면\n",
    "sin = BC/AB\n",
    "cos = AC/AB\n",
    "tan = BC/AC = sin/cos\n",
    "\n",
    "csc = AB/BC = 1/sin\n",
    "sec = AB/AC = 1/cos\n",
    "cot = AC/BC = 1/tan = cos/sin\n",
    "\n",
    "degree = 0~360도\n",
    "radian = 부채꼴의 호의 길이와 반지름의 길이가 같게 되는 각도(1 radian)\n",
    "180 degree = π radian \n",
    "1 degree = π radian/180\n",
    "1 radian = 180 degree/ π = 57.3\n",
    "\n",
    "numpy 삼각함수는 radian을 사용하기 때문에 \n",
    "degree * np.pi/180\n",
    "\"\"\""
   ]
  },
  {
   "cell_type": "code",
   "execution_count": 4,
   "metadata": {},
   "outputs": [
    {
     "data": {
      "image/png": "[encoded data removed]",
      "text/plain": [
       "<matplotlib.figure.Figure at 0x8558ba8>"
      ]
     },
     "metadata": {},
     "output_type": "display_data"
    }
   ],
   "source": [
    "x = np.arange(0, 2*np.pi, 0.1)\n",
    "y = np.sin(x)\n",
    "plt.plot(x, y)\n",
    "plt.show()"
   ]
  },
  {
   "cell_type": "code",
   "execution_count": 9,
   "metadata": {},
   "outputs": [
    {
     "name": "stdout",
     "output_type": "stream",
     "text": [
      "3.14159265359\n180.0\n1.0\n"
     ]
    }
   ],
   "source": [
    "# 삼각함수 : np.tan(), np.cos(), np.sin()\n",
    "# 역삼각함수 : np.arcsin(), np.arccos(), np.arctan()\n",
    "\n",
    "# degree를 radian으로 변환 : np.deg2rad(x)\n",
    "# x * pi / 180\n",
    "\n",
    "# radian을 degree로 변환 : np.rad2deg(x)\n",
    "# 180 * x / pi\n",
    "print(np.deg2rad(180))\n",
    "print(np.rad2deg(np.pi))\n",
    "print(np.sin(90 * np.pi/180))"
   ]
  }
 ],
 "metadata": {
  "kernelspec": {
   "display_name": "Python 2",
   "language": "python",
   "name": "python2"
  },
  "language_info": {
   "codemirror_mode": {
    "name": "ipython",
    "version": 2
   },
   "file_extension": ".py",
   "mimetype": "text/x-python",
   "name": "python",
   "nbconvert_exporter": "python",
   "pygments_lexer": "ipython2",
   "version": "2.7.6"
  }
 },
 "nbformat": 4,
 "nbformat_minor": 0
}
