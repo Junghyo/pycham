{
 "cells": [
  {
   "cell_type": "code",
   "execution_count": 1,
   "metadata": {
    "collapsed": true
   },
   "outputs": [],
   "source": [
    "import numpy as np"
   ]
  },
  {
   "cell_type": "code",
   "execution_count": null,
   "metadata": {},
   "outputs": [],
   "source": [
    "\"\"\"\n",
    "지수함수(exponential function), 로그함수 (logarithmic function)\n",
    "\n",
    "로그함수(logarithmic function)는 지수함수의 역함수(inverse function) \n",
    "\n",
    "밑수가 자연상수e인 함수 : 자연로그\n",
    "e 생략하고 ln(x) 또는 log(x)로 사용\n",
    "\"\"\""
   ]
  },
  {
   "cell_type": "code",
   "execution_count": 8,
   "metadata": {},
   "outputs": [
    {
     "name": "stdout",
     "output_type": "stream",
     "text": [
      "[  1.00000000e-05   1.00000000e+00   2.00000000e+00   4.00000000e+00\n   1.00000000e+01   1.00000000e+02]\n[  1.00001000e+00   2.71828183e+00   7.38905610e+00   5.45981500e+01\n   2.20264658e+04   2.68811714e+43]\n"
     ]
    }
   ],
   "source": [
    "# 지수함수 (exponential function) : np.exp()\n",
    "x = np.array([0.00001, 1, 2, 4, 10, 100])\n",
    "print(x)\n",
    "print(np.exp(x))"
   ]
  },
  {
   "cell_type": "code",
   "execution_count": 10,
   "metadata": {},
   "outputs": [
    {
     "name": "stdout",
     "output_type": "stream",
     "text": [
      "[-11.51292546   0.           0.69314718   1.38629436   2.30258509\n   4.60517019]\n[-5.          0.          0.30103     0.60205999  1.          2.        ]\n[-16.60964047   0.           1.           2.           3.32192809\n   6.64385619]\n"
     ]
    }
   ],
   "source": [
    "# 로그함수 (logarithmic function) \n",
    "# np.log(x), np.log10(x), np.log2(x), log1p(z)\n",
    "print(np.log(x))\n",
    "print(np.log10(x))\n",
    "print(np.log2(x))"
   ]
  },
  {
   "cell_type": "code",
   "execution_count": 15,
   "metadata": {},
   "outputs": [
    {
     "name": "stdout",
     "output_type": "stream",
     "text": [
      "[ 0.    1.71]\n[       -inf  0.53649337]\n[ 0.          0.99694863]\n[ 0.          0.99694863]\n"
     ]
    },
    {
     "name": "stderr",
     "output_type": "stream",
     "text": [
      "C:\\Users\\acorn\\Anaconda3\\lib\\site-packages\\ipykernel_launcher.py:4: RuntimeWarning: divide by zero encountered in log\n  after removing the cwd from sys.path.\n"
     ]
    }
   ],
   "source": [
    "z = np.array([0, 1.71])\n",
    "print(z)\n",
    "# 로그 함수인 경우 x=0이면 -무한대 값을 가진다.\n",
    "print(np.log(z))\n",
    "# 이때 x의 값에 +1을 해줘서 0 -> 1로 바꿔준다\n",
    "# np.log1p(z) = np.log(z+1)\n",
    "print(np.log1p(z))\n",
    "print(np.log(z+1))"
   ]
  }
 ],
 "metadata": {
  "kernelspec": {
   "display_name": "Python 2",
   "language": "python",
   "name": "python2"
  },
  "language_info": {
   "codemirror_mode": {
    "name": "ipython",
    "version": 2
   },
   "file_extension": ".py",
   "mimetype": "text/x-python",
   "name": "python",
   "nbconvert_exporter": "python",
   "pygments_lexer": "ipython2",
   "version": "2.7.6"
  }
 },
 "nbformat": 4,
 "nbformat_minor": 0
}
