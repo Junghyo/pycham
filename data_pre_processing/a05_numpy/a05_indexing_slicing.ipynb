{
 "cells": [
  {
   "cell_type": "code",
   "execution_count": 1,
   "metadata": {
    "collapsed": true
   },
   "outputs": [],
   "source": [
    "import numpy as np"
   ]
  },
  {
   "cell_type": "code",
   "execution_count": 2,
   "metadata": {},
   "outputs": [
    {
     "data": {
      "text/plain": [
       "array([0, 1, 2, 3, 4, 5, 6, 7, 8, 9])"
      ]
     },
     "execution_count": 2,
     "metadata": {},
     "output_type": "execute_result"
    }
   ],
   "source": [
    "a = np.arange(10)\n",
    "a"
   ]
  },
  {
   "cell_type": "code",
   "execution_count": 7,
   "metadata": {},
   "outputs": [
    {
     "name": "stdout",
     "output_type": "stream",
     "text": [
      "0\n[1 3]\n[3 4 5 6 7 8]\n"
     ]
    }
   ],
   "source": [
    "print(a[0])\n",
    "print(a[[1, 3]])\n",
    "print(a[3:9])"
   ]
  },
  {
   "cell_type": "code",
   "execution_count": 14,
   "metadata": {},
   "outputs": [
    {
     "name": "stdout",
     "output_type": "stream",
     "text": [
      "[[ 0  1  2  3  4]\n [ 5  6  7  8  9]\n [10 11 12 13 14]\n [15 16 17 18 19]]\n"
     ]
    }
   ],
   "source": [
    "# 2 차원 배열\n",
    "b = np.arange(20).reshape(4, 5)\n",
    "print(b)"
   ]
  },
  {
   "cell_type": "code",
   "execution_count": 20,
   "metadata": {},
   "outputs": [
    {
     "name": "stdout",
     "output_type": "stream",
     "text": [
      "[0 1 2 3 4]\n3\n[[ 5  6  7  8  9]\n [15 16 17 18 19]]\n[[ 1  2]\n [11 12]]\n"
     ]
    }
   ],
   "source": [
    "# 1행\n",
    "print(b[0])\n",
    "# 1행 3열\n",
    "print(b[0, 3])\n",
    "# 2, 4행\n",
    "print(b[[1, 3]])\n",
    "# 1 3행, 2 3열\n",
    "print(b[[0, 2], 1:3])"
   ]
  },
  {
   "cell_type": "code",
   "execution_count": 22,
   "metadata": {},
   "outputs": [
    {
     "data": {
      "text/plain": [
       "array([[[ 0,  1,  2],\n        [ 3,  4,  5],\n        [ 6,  7,  8]],\n\n       [[ 9, 10, 11],\n        [12, 13, 14],\n        [15, 16, 17]],\n\n       [[18, 19, 20],\n        [21, 22, 23],\n        [24, 25, 26]]])"
      ]
     },
     "execution_count": 22,
     "metadata": {},
     "output_type": "execute_result"
    }
   ],
   "source": [
    "# 3차원 array\n",
    "c = np.arange(27).reshape(3, 3, 3)\n",
    "c"
   ]
  },
  {
   "cell_type": "code",
   "execution_count": 28,
   "metadata": {},
   "outputs": [
    {
     "name": "stdout",
     "output_type": "stream",
     "text": [
      "[[0 1 2]\n [3 4 5]\n [6 7 8]]\n[12 13 14]\n20\n[[12 13 14]\n [15 16 17]]\n"
     ]
    }
   ],
   "source": [
    "# 1면\n",
    "print(c[0])\n",
    "# 2면 2행\n",
    "print(c[1, 1])\n",
    "# 3면 1행 3열\n",
    "print(c[2, 0, 2])\n",
    "# 2면 2 3행, 모든열\n",
    "print(c[1, [1, 2], :])"
   ]
  }
 ],
 "metadata": {
  "kernelspec": {
   "display_name": "Python 2",
   "language": "python",
   "name": "python2"
  },
  "language_info": {
   "codemirror_mode": {
    "name": "ipython",
    "version": 2
   },
   "file_extension": ".py",
   "mimetype": "text/x-python",
   "name": "python",
   "nbconvert_exporter": "python",
   "pygments_lexer": "ipython2",
   "version": "2.7.6"
  }
 },
 "nbformat": 4,
 "nbformat_minor": 0
}
