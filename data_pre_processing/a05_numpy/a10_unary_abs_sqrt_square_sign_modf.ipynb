{
 "cells": [
  {
   "cell_type": "code",
   "execution_count": 1,
   "metadata": {
    "collapsed": true
   },
   "outputs": [],
   "source": [
    "import numpy as np"
   ]
  },
  {
   "cell_type": "code",
   "execution_count": null,
   "metadata": {},
   "outputs": [],
   "source": [
    "\"\"\"\n",
    "* 수 처리 함수 : 절대값(absolute value), 제곱근(square root),\n",
    "              제곱값(square), 정수와 소수점 값(integral and fractional parts)\n",
    "\n",
    " \n",
    "\n",
    "* 부호(sign) 판별 함수 : 1 (positive), 0(zero), -1(negative) 값 반환\n",
    "\n",
    "\n",
    "\n",
    "\"\"\""
   ]
  },
  {
   "cell_type": "code",
   "execution_count": 3,
   "metadata": {},
   "outputs": [
    {
     "name": "stdout",
     "output_type": "stream",
     "text": [
      "[-100    1   -4  100]\n[100   1   4 100]\n[ 100.    1.    4.  100.]\n"
     ]
    }
   ],
   "source": [
    "# 배열 원소의 절대값 (absolute value) 범용 함수 : np.abs(x), np.fabs(x)\n",
    "\n",
    "x = np.array([-100, 1, -4, 100])\n",
    "print(x)\n",
    "print(np.abs(x))\n",
    "print(np.fabs(x))"
   ]
  },
  {
   "cell_type": "code",
   "execution_count": 6,
   "metadata": {},
   "outputs": [
    {
     "name": "stdout",
     "output_type": "stream",
     "text": [
      "[  1   4 100]\n[  1.   2.  10.]\n[  1.   2.  10.]\n"
     ]
    }
   ],
   "source": [
    "# 배열 원소의 제곱근(Square Root) 범용 함수 : np.sqrt()\n",
    "x = np.array([1, 4, 100])\n",
    "print(x)\n",
    "print(np.sqrt(x))\n",
    "print(x ** 0.5)"
   ]
  },
  {
   "cell_type": "code",
   "execution_count": 7,
   "metadata": {},
   "outputs": [
    {
     "name": "stdout",
     "output_type": "stream",
     "text": [
      "[  1   4 100]\n[    1    16 10000]\n[    1    16 10000]\n"
     ]
    }
   ],
   "source": [
    "# 배열 원소의 제곱값 (square value) 범용 함수 : np.square()\n",
    "print(x)\n",
    "print(np.square(x))\n",
    "print(x**2)"
   ]
  },
  {
   "cell_type": "code",
   "execution_count": 11,
   "metadata": {},
   "outputs": [
    {
     "name": "stdout",
     "output_type": "stream",
     "text": [
      "[-13.12         3.1241       3.14159265   0.           1.          12.2556    ]\n[-0.12        0.1241      0.14159265  0.          0.          0.2556    ]\n[-13.   3.   3.   0.   1.  12.]\n"
     ]
    }
   ],
   "source": [
    "# 배열 원소의 정수와 소수점을 구분하여 2개의 배열 반환 : np.modf()\n",
    "x = np.array([-13.12, 3.1241, np.pi, 0, 1, 12.2556])\n",
    "print(x)\n",
    "print(np.modf(x)[0]) # 소수부분\n",
    "print(np.modf(x)[1]) # 정수부분"
   ]
  },
  {
   "cell_type": "code",
   "execution_count": 12,
   "metadata": {},
   "outputs": [
    {
     "name": "stdout",
     "output_type": "stream",
     "text": [
      "[-31.    -2.21   0.     1.    12.    14.  ]\n[-1. -1.  0.  1.  1.  1.]\n"
     ]
    }
   ],
   "source": [
    "# 배열 원소의 부호 판별 함수 : np.sign(x)  \n",
    "# ☞ 1 (positive), 0(zero), -1(negative)\n",
    "x = np.array([-31, -2.21, 0, 1, 12, 14])\n",
    "print(x)\n",
    "print(np.sign(x))"
   ]
  }
 ],
 "metadata": {
  "kernelspec": {
   "display_name": "Python 2",
   "language": "python",
   "name": "python2"
  },
  "language_info": {
   "codemirror_mode": {
    "name": "ipython",
    "version": 2
   },
   "file_extension": ".py",
   "mimetype": "text/x-python",
   "name": "python",
   "nbconvert_exporter": "python",
   "pygments_lexer": "ipython2",
   "version": "2.7.6"
  }
 },
 "nbformat": 4,
 "nbformat_minor": 0
}
