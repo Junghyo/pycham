{
 "cells": [
  {
   "cell_type": "code",
   "execution_count": 31,
   "metadata": {
    "collapsed": true
   },
   "outputs": [],
   "source": [
    "import numpy as np\n",
    "import pandas as pd\n",
    "import scipy as sp\n",
    "import scipy.stats as stats\n",
    "from sklearn.preprocessing import *\n",
    "import matplotlib as mpl\n",
    "import matplotlib.pylab as plt\n",
    "import seaborn as sns"
   ]
  },
  {
   "cell_type": "code",
   "execution_count": null,
   "metadata": {},
   "outputs": [],
   "source": [
    "\"\"\"\n",
    "1. binomial distribution\n",
    "np.random.binomial(n, p, size)\n",
    "\n",
    "2. hypergeometric distribution\n",
    "np.random.hypergeometric(ngood, nbad, nsample, size)\n",
    "\n",
    "3. poisson distribution\n",
    "np.random.poisson(lam, size)\n",
    "\n",
    "4. normal distribution\n",
    "np.random.normal(loc, scale, size)\n",
    "\n",
    "5. t distribution\n",
    "np.random.standard_t(df, size)\n",
    "\n",
    "6. uniform distribution\n",
    "np.random.uniform(low, high, size)\n",
    "\n",
    "7. f distribution\n",
    "np.random.f(dfnum, dfden, size)\n",
    "\"\"\""
   ]
  },
  {
   "cell_type": "code",
   "execution_count": 29,
   "metadata": {},
   "outputs": [
    {
     "data": {
      "text/plain": [
       "array([1, 1, 1, 0, 0, 0, 1, 1, 1, 1, 1, 1, 0, 0, 0, 1, 1, 0, 0, 0])"
      ]
     },
     "execution_count": 29,
     "metadata": {},
     "output_type": "execute_result"
    }
   ],
   "source": [
    "# random sampling from binomial\n",
    "# 앞 뒤(n=1), 확률 50% 동전 던지기 20번\n",
    "\n",
    "x = np.random.binomial(n=1, p=0.5, size=20)\n",
    "x"
   ]
  },
  {
   "cell_type": "code",
   "execution_count": 118,
   "metadata": {},
   "outputs": [
    {
     "data": {
      "text/plain": [
       "0.12013435363769531"
      ]
     },
     "execution_count": 118,
     "metadata": {},
     "output_type": "execute_result"
    }
   ],
   "source": [
    "rv = stats.binom(n=20, p=0.5)\n",
    "rv.pmf(12)"
   ]
  },
  {
   "cell_type": "code",
   "execution_count": 39,
   "metadata": {},
   "outputs": [
    {
     "data": {
      "text/plain": [
       "array([1, 1, 1, 1, 1, 1, 0, 3, 0, 1, 2, 0, 1, 1, 2, 0, 1, 1, 0, 0, 0, 3, 2,\n       0, 0, 0, 1, 3, 1, 1, 0, 0, 1, 0, 1, 2, 1, 1, 2, 1, 2, 1, 1, 1, 1, 2,\n       1, 0, 1, 1, 2, 1, 2, 1, 2, 0, 1, 2, 1, 1, 0, 1, 0, 1, 0, 1, 1, 2, 0,\n       2, 0, 1, 2, 1, 1, 0, 1, 0, 0, 0, 1, 1, 1, 1, 2, 1, 1, 0, 0, 2, 1, 1,\n       1, 1, 1, 1, 1, 3, 1, 0])"
      ]
     },
     "execution_count": 39,
     "metadata": {},
     "output_type": "execute_result"
    }
   ],
   "source": [
    "# random sampling from hypergeometric\n",
    "# good = 5개, bad=20개인 모집단에서 5개의 샘플을 무작위로 비복원추출\n",
    "# 100번 시뮬레이션\n",
    "np.random.seed(100)\n",
    "x = np.random.hypergeometric(ngood=5, nbad=20, nsample=5, size=100)\n",
    "x"
   ]
  },
  {
   "cell_type": "code",
   "execution_count": 49,
   "metadata": {},
   "outputs": [
    {
     "data": {
      "text/plain": [
       "array([[ 0, 27],\n       [ 1, 53],\n       [ 2, 16],\n       [ 3,  4]], dtype=int64)"
      ]
     },
     "execution_count": 49,
     "metadata": {},
     "output_type": "execute_result"
    }
   ],
   "source": [
    "unique, count = np.unique(x, return_counts=True)\n",
    "np.asarray([unique, count]).T"
   ]
  },
  {
   "cell_type": "code",
   "execution_count": 55,
   "metadata": {},
   "outputs": [
    {
     "data": {
      "image/png": "[encoded data removed]",
      "text/plain": [
       "<matplotlib.figure.Figure at 0xc0d89e8>"
      ]
     },
     "metadata": {},
     "output_type": "display_data"
    }
   ],
   "source": [
    "# plotting bar\n",
    "plt.bar(left=unique, height=count, width=0.5)\n",
    "plt.show()"
   ]
  },
  {
   "cell_type": "code",
   "execution_count": 108,
   "metadata": {},
   "outputs": [],
   "source": [
    "\"\"\"\n",
    "문제) 어떤 바리스타가 아메리카노 향 냄새를 맡아보기만 하면\n",
    " \"콜롬비아 원두\"로 만든 것인지 아닌지를 맞출 수 있다고 주장하였다고 합니다.  \n",
    " 그래서 그 바리스타를 데려다가 실험을 해보았습니다.  \n",
    " \"콜롬비아 원두\"로 만든 아메리카노 5잔 (m=5), \n",
    "콜롬비아 원두 말고 다른 지역 원두로 만든 아메리카노 20잔 (n=20) 을\n",
    "만들어 놓고 그 바리스타에게 \"콜롬비아 원두\"로 만든 아메리카노 5잔을 \n",
    "골라내 보라고 시켰습니다.  \n",
    "이때 \"콜롬비아 원두\"로 만든 아메리카노를 4잔 골라낼 확률은?\n",
    "\n",
    "\n",
    "\"\"\"\n"
   ]
  },
  {
   "cell_type": "code",
   "execution_count": 108,
   "metadata": {},
   "outputs": [
    {
     "data": {
      "text/plain": [
       "0.0018821757952192761"
      ]
     },
     "execution_count": 108,
     "metadata": {},
     "output_type": "execute_result"
    }
   ],
   "source": [
    "# M = 25(총 커피수), n=5(콜롬비아원두), N=5(5개 추출)\n",
    "rv = stats.hypergeom(M=25, n=5, N=5)\n",
    "rv.pmf(4)"
   ]
  },
  {
   "cell_type": "code",
   "execution_count": null,
   "metadata": {},
   "outputs": [],
   "source": [
    "\"\"\"\n",
    "문제 2) TV를 생산하는 제조회사에서 생산한 TV 100 대 중에서\n",
    "품질이 양호한 TV가 95대, 불량품이 5대가 재고창고에 들어있다고 합니다.\n",
    "이 재고 창고에서 TV 10개를 비복원추출한다고 했을 때 \n",
    "불량품이 3개가 포함되어 있을 확률은?\n",
    "\"\"\""
   ]
  },
  {
   "cell_type": "code",
   "execution_count": 109,
   "metadata": {},
   "outputs": [
    {
     "data": {
      "text/plain": [
       "0.006383528106650326"
      ]
     },
     "execution_count": 109,
     "metadata": {},
     "output_type": "execute_result"
    }
   ],
   "source": [
    "# M = 100(총100대) n=5(불량품 수), N=10(10개 추출)\n",
    "rv = stats.hypergeom(M=100, n=5, N=10)\n",
    "rv.pmf(3)"
   ]
  },
  {
   "cell_type": "code",
   "execution_count": 119,
   "metadata": {},
   "outputs": [
    {
     "data": {
      "text/plain": [
       "array([21, 19, 22, 14, 26, 15, 25, 25, 19, 25, 15, 24, 21, 13, 26, 23, 21,\n       16, 24, 17, 18, 18, 15, 18, 22, 28, 21, 18, 17, 31, 23, 13, 20, 19,\n       24, 17, 20, 13, 19, 16, 16, 21, 16, 21, 19, 20, 20, 19, 19, 20, 13,\n       29,  9, 13, 20, 29, 15, 15, 21, 20, 21, 18, 16, 20, 23, 18, 22, 14,\n       19, 20, 18, 17, 20, 24, 20, 15, 19, 19, 25, 17, 19, 27, 20, 17, 12,\n       22, 16, 23, 17, 11, 15, 19, 16, 21, 21, 25, 26, 23, 15, 25])"
      ]
     },
     "execution_count": 119,
     "metadata": {},
     "output_type": "execute_result"
    }
   ],
   "source": [
    "# random sampling from poisson\n",
    "# 사건의 평균 회수(lamda)=20\n",
    "np.random.seed(100)\n",
    "x = np.random.poisson(lam=20, size=100)\n",
    "x"
   ]
  },
  {
   "cell_type": "code",
   "execution_count": 121,
   "metadata": {},
   "outputs": [
    {
     "data": {
      "text/plain": [
       "array([[ 9,  1],\n       [11,  1],\n       [12,  1],\n       [13,  5],\n       [14,  2],\n       [15,  8],\n       [16,  7],\n       [17,  7],\n       [18,  7],\n       [19, 12],\n       [20, 12],\n       [21, 10],\n       [22,  4],\n       [23,  5],\n       [24,  4],\n       [25,  6],\n       [26,  3],\n       [27,  1],\n       [28,  1],\n       [29,  2],\n       [31,  1]], dtype=int64)"
      ]
     },
     "execution_count": 121,
     "metadata": {},
     "output_type": "execute_result"
    }
   ],
   "source": [
    "unique, count = np.unique(x, return_counts=True)\n",
    "np.array([unique, count]).T"
   ]
  },
  {
   "cell_type": "code",
   "execution_count": 125,
   "metadata": {},
   "outputs": [
    {
     "data": {
      "image/png": "[encoded data removed]",
      "text/plain": [
       "<matplotlib.figure.Figure at 0xc137588>"
      ]
     },
     "metadata": {},
     "output_type": "display_data"
    }
   ],
   "source": [
    "plt.bar(left=unique, height=count, width=0.5)\n",
    "plt.show()"
   ]
  },
  {
   "cell_type": "code",
   "execution_count": null,
   "metadata": {},
   "outputs": [],
   "source": [
    "\"\"\"\n",
    "문제)  어느 은행의 1시간 당 방문 고객 수가 λ = 20 인 \n",
    "포아송 분포를 따른다고 한다.  그럼 1시간 당 방문고객수가 15명일 확률은?\n",
    "\"\"\"\n"
   ]
  },
  {
   "cell_type": "code",
   "execution_count": 130,
   "metadata": {},
   "outputs": [
    {
     "data": {
      "text/plain": [
       "0.051648853531758139"
      ]
     },
     "execution_count": 130,
     "metadata": {},
     "output_type": "execute_result"
    }
   ],
   "source": [
    "rv = stats.poisson(20)\n",
    "rv.pmf(15)"
   ]
  },
  {
   "cell_type": "code",
   "execution_count": null,
   "metadata": {},
   "outputs": [],
   "source": [
    "\"\"\"\n",
    "문제)  어느 은행의 1시간 당 방문 고객 수가 λ = 20 인 \n",
    "포아송 분포를 따른다고 한다.  \n",
    "그럼 1시간 당 방문고객수가 15명 이하일 확률은?\n",
    "\"\"\""
   ]
  },
  {
   "cell_type": "code",
   "execution_count": 147,
   "metadata": {},
   "outputs": [
    {
     "name": "stdout",
     "output_type": "stream",
     "text": [
      "0.15651313464\n0.15651313464\n"
     ]
    }
   ],
   "source": [
    "i = 0\n",
    "result = 0\n",
    "while i <= 15:\n",
    "    result += rv.pmf(i)\n",
    "    i+=1\n",
    "\n",
    "print(result)\n",
    "print(rv.cdf(15))"
   ]
  },
  {
   "cell_type": "code",
   "execution_count": 161,
   "metadata": {},
   "outputs": [],
   "source": [
    "\"\"\"\n",
    "문제) 어느 은행의 1시간 당 방문 고객 수가 λ = 20 인 \n",
    "포아송 분포를 따른다고 한다.  \n",
    "만약 1시간 동안 방문한 고객수에 해당하는 확률이 15.65131% 이라면 \n",
    "이는 몇 명에 해당하는가?\n",
    "\n",
    "\"\"\""
   ]
  },
  {
   "cell_type": "code",
   "execution_count": 161,
   "metadata": {},
   "outputs": [
    {
     "data": {
      "text/plain": [
       "15.0"
      ]
     },
     "execution_count": 161,
     "metadata": {},
     "output_type": "execute_result"
    }
   ],
   "source": [
    "stats.poisson.ppf(q=0.1565131, mu=20)"
   ]
  },
  {
   "cell_type": "code",
   "execution_count": 162,
   "metadata": {},
   "outputs": [
    {
     "data": {
      "text/plain": [
       "array([-5.24929642,  1.02804121,  3.45910741, -0.75730811,  2.94396236,\n        1.54265652,  0.66353901, -3.21012999, -0.56848749,  0.76500433,\n       -1.37408096,  1.30549046, -1.75078515,  2.45054122,  2.01816242,\n       -0.31323343, -1.59384113,  3.08919806, -1.31440687, -3.35495474,\n        4.85694498,  4.62481552, -0.75563742, -2.52730721,  0.55355607,\n        2.8112466 ,  2.19300103,  4.08466838, -0.97871418,  0.16702804,\n        0.66719883, -4.32965099, -2.26905692,  2.44936203,  2.25133428,\n       -1.36784078,  3.5688668 , -5.07185048, -4.06919715, -3.69730354,\n       -1.63331749, -2.00451521,  0.02194369, -1.83881621,  3.89924422,\n       -5.19928687, -2.9499303 ,  1.07252326, -4.84073551,  4.4121416 ,\n       -3.56405279, -1.64923858, -2.82013848, -2.48379709,  0.3265904 ,\n        1.52342877, -2.58668204,  3.74840923, -0.23883374, -2.66919444,\n       -2.64539517,  0.05591685,  0.71353387,  0.04064565, -4.9065882 ,\n       -3.13262963,  1.83911665,  2.20861564,  3.08076432, -4.29657183,\n       -5.5235649 ,  1.09827968, -0.99533141, -2.06765393,  6.10382268,\n       -1.65214324,  2.25135999, -3.92097702,  1.74172001, -3.31356928,\n        2.07036441,  2.0606702 , -4.70006259,  2.71492236,  2.3364672 ,\n        1.28469861,  0.32661597,  0.0848509 , -1.73647747, -3.5983536 ,\n       -5.11785602,  1.10749187,  5.62972028, -1.13071005,  5.49580825,\n        0.0090523 , -0.2280704 ,  0.01187278, -0.55504233, -7.46145461])"
      ]
     },
     "execution_count": 162,
     "metadata": {},
     "output_type": "execute_result"
    }
   ],
   "source": [
    "# random sampling from normal\n",
    "# mu = 0, sigma = 3\n",
    "np.random.seed(100)\n",
    "x = np.random.normal(loc=0, scale=3, size=100)\n",
    "x"
   ]
  },
  {
   "cell_type": "code",
   "execution_count": 165,
   "metadata": {},
   "outputs": [
    {
     "data": {
      "image/png": "[encoded data removed]",
      "text/plain": [
       "<matplotlib.figure.Figure at 0xc226d68>"
      ]
     },
     "metadata": {},
     "output_type": "display_data"
    }
   ],
   "source": [
    "# plotting hist\n",
    "# normed = True : percentage\n",
    "plt.hist(x, normed=True)\n",
    "plt.show()"
   ]
  },
  {
   "cell_type": "code",
   "execution_count": 167,
   "metadata": {},
   "outputs": [
    {
     "data": {
      "image/png": "[encoded data removed]",
      "text/plain": [
       "<matplotlib.figure.Figure at 0xc3df2b0>"
      ]
     },
     "metadata": {},
     "output_type": "display_data"
    }
   ],
   "source": [
    "sns.distplot(x)\n",
    "plt.show()"
   ]
  },
  {
   "cell_type": "code",
   "execution_count": 168,
   "metadata": {},
   "outputs": [
    {
     "data": {
      "image/png": "[encoded data removed]",
      "text/plain": [
       "<matplotlib.figure.Figure at 0xc068470>"
      ]
     },
     "metadata": {},
     "output_type": "display_data"
    }
   ],
   "source": [
    "# qqplot\n",
    "stats.probplot(x, plot=plt)\n",
    "plt.show()"
   ]
  },
  {
   "cell_type": "code",
   "execution_count": 169,
   "metadata": {},
   "outputs": [
    {
     "data": {
      "text/plain": [
       "(0.9899469614028931, 0.660305917263031)"
      ]
     },
     "execution_count": 169,
     "metadata": {},
     "output_type": "execute_result"
    }
   ],
   "source": [
    "# normality test\n",
    "stats.shapiro(x)\n",
    "# 0.6603으로 귀무가설 채택\n",
    "# 정규분포를 따른다"
   ]
  },
  {
   "cell_type": "code",
   "execution_count": 190,
   "metadata": {},
   "outputs": [
    {
     "data": {
      "text/plain": [
       "array([-1.70633623,  0.61010003,  0.45753218, -0.85709656, -0.42990712,\n       -0.7437467 ,  0.8444005 , -0.4040428 ,  2.13905276, -0.10844638,\n        0.67238716,  1.88720362, -2.57340231, -0.69724955, -3.40107659,\n       -0.57745433, -0.36487447,  3.95862541,  2.34665412, -0.94310449,\n        0.81852816, -0.48391289,  0.01380029, -0.43003718, -2.25784604,\n       -0.18216847, -1.21433582,  0.46347964,  0.50024665, -1.1595865 ,\n        0.02358778, -1.18879826, -0.38767689,  2.24289791, -2.80798472,\n       -2.838893  , -0.39222432, -1.61499121, -1.78498184,  0.44618923,\n       -1.5181203 ,  5.44389927,  4.17743903, -0.49617121, -0.02996529,\n        0.89595015,  1.14860485, -3.16541308,  0.14279246,  0.83121743,\n       -0.32403947,  0.59297222, -0.39750861,  0.57634934,  0.81587478,\n       -1.29367024, -0.28580516, -0.48422765, -0.83697192,  0.50702557,\n       -1.98915687,  2.92965716, -1.19522074,  0.65511251,  2.12055605,\n       -0.03640814, -0.41931018,  3.31199804, -0.61725596,  0.79681204,\n        1.86805014, -0.54345259,  3.11909936,  0.86410458,  2.66353682,\n        0.23735454, -0.76306875,  0.24471792, -0.13515045,  0.26402784,\n        4.68946895,  0.70573709, -0.17783758,  1.85205955, -0.18352788,\n       -0.65713104, -0.73674278,  2.16549569,  1.22326388, -0.5112858 ,\n       -1.54451989, -1.73428432,  0.46947115,  1.66594804,  0.51687137,\n        1.51361314, -2.22193709,  0.89557421,  0.56222653, -0.55564416])"
      ]
     },
     "execution_count": 190,
     "metadata": {},
     "output_type": "execute_result"
    }
   ],
   "source": [
    "# random sampling t \n",
    "# degree of freedom : 3\n",
    "np.random.seed(100)\n",
    "x = np.random.standard_t(df=3, size=100)\n",
    "x"
   ]
  },
  {
   "cell_type": "code",
   "execution_count": 199,
   "metadata": {},
   "outputs": [
    {
     "data": {
      "image/png": "[encoded data removed]",
      "text/plain": [
       "<matplotlib.figure.Figure at 0xbf9d278>"
      ]
     },
     "metadata": {},
     "output_type": "display_data"
    }
   ],
   "source": [
    "sns.distplot(x, bins=20, norm_hist=True)\n",
    "plt.show()"
   ]
  },
  {
   "cell_type": "code",
   "execution_count": 210,
   "metadata": {},
   "outputs": [
    {
     "data": {
      "text/plain": [
       "array([ 5.43404942,  2.78369385,  4.24517591,  8.44776132,  0.04718856,\n        1.21569121,  6.70749085,  8.25852755,  1.3670659 ,  5.75093329,\n        8.91321954,  2.09202122,  1.8532822 ,  1.0837689 ,  2.19697493,\n        9.78623785,  8.11683149,  1.71941013,  8.16224749,  2.74073747,\n        4.31704184,  9.4002982 ,  8.17649379,  3.3611195 ,  1.75410454,\n        3.72832046,  0.05688507,  2.52426353,  7.95662508,  0.15254971,\n        5.98843377,  6.03804539,  1.05147685,  3.81943445,  0.36476057,\n        8.90411563,  9.80920857,  0.59941989,  8.90545945,  5.76901499,\n        7.42479689,  6.30183936,  5.81842192,  0.20439132,  2.10026578,\n        5.44684878,  7.69115171,  2.50695229,  2.8589569 ,  8.52395088,\n        9.75006494,  8.84853293,  3.59507844,  5.98858946,  3.54795612,\n        3.40190215,  1.7808099 ,  2.37694209,  0.44862282,  5.0543143 ,\n        3.76252454,  5.92805401,  6.29941876,  1.42600314,  9.33841299,\n        9.46379881,  6.02296658,  3.8776628 ,  3.63188004,  2.04345277,\n        2.76765061,  2.46535881,  1.73608002,  9.66609694,  9.570126  ,\n        5.97973684,  7.31300753,  3.40385223,  0.92055603,  4.63498019,\n        5.08698893,  0.88460173,  5.28035223,  9.92158037,  3.95035932,\n        3.35596442,  8.05450537,  7.54348995,  3.13066442,  6.34036683,\n        5.40404575,  2.96793751,  1.10787901,  3.12640298,  4.5697913 ,\n        6.5894007 ,  2.54257518,  6.41101259,  2.00123607,  6.57624806])"
      ]
     },
     "execution_count": 210,
     "metadata": {},
     "output_type": "execute_result"
    }
   ],
   "source": [
    "# random sampling from uniform\n",
    "# min:0, max:10\n",
    "np.random.seed(100)\n",
    "x = np.random.uniform(low=0, high=10, size=100)\n",
    "x"
   ]
  },
  {
   "cell_type": "code",
   "execution_count": 214,
   "metadata": {},
   "outputs": [
    {
     "data": {
      "image/png": "[encoded data removed]",
      "text/plain": [
       "<matplotlib.figure.Figure at 0xc2b64e0>"
      ]
     },
     "metadata": {},
     "output_type": "display_data"
    }
   ],
   "source": [
    "plt.hist(x, bins=10, normed=True)\n",
    "plt.show()\n"
   ]
  },
  {
   "cell_type": "code",
   "execution_count": 215,
   "metadata": {},
   "outputs": [
    {
     "data": {
      "text/plain": [
       "array([ 8,  8,  3,  7,  7,  0, 10,  4,  2,  5,  2,  2,  2,  1,  0,  8,  4,\n       10,  0,  9,  6,  2,  4,  1,  5,  3,  4,  4,  3,  7,  1,  1,  7,  7,\n        0,  2,  9,  9,  3,  2,  5,  8,  1,  0,  7,  6,  2,  0,  8,  2,  5,\n       10,  1,  8, 10,  1,  5,  4,  2,  8,  3,  5,  0,  9, 10,  3,  6,  3,\n        4, 10,  7,  6,  3,  9,  0,  4,  4,  5,  7,  6,  6,  2, 10,  4,  2,\n        7,  1, 10,  6, 10,  6,  0, 10,  7,  2,  3,  5,  4,  2,  4])"
      ]
     },
     "execution_count": 215,
     "metadata": {},
     "output_type": "execute_result"
    }
   ],
   "source": [
    "# random sampling from discrete uniform\n",
    "# 0-10 까지 정수형 난수 만들기\n",
    "np.random.seed(100)\n",
    "x = np.random.randint(low=0, high=11, size=100)\n",
    "x"
   ]
  },
  {
   "cell_type": "code",
   "execution_count": 217,
   "metadata": {},
   "outputs": [
    {
     "data": {
      "image/png": "[encoded data removed]",
      "text/plain": [
       "<matplotlib.figure.Figure at 0xbb4f7f0>"
      ]
     },
     "metadata": {},
     "output_type": "display_data"
    }
   ],
   "source": [
    "plt.hist(x, bins=10, normed=True)\n",
    "plt.show()"
   ]
  },
  {
   "cell_type": "code",
   "execution_count": 234,
   "metadata": {},
   "outputs": [
    {
     "data": {
      "text/plain": [
       "array([ 0.17509245,  1.34830314,  0.7250835 ,  0.55013536,  1.49183341,\n        1.19802261,  1.24949706,  0.70015548,  0.71890936,  0.37020715,\n        4.70371284,  0.86726338,  5.12146941,  0.12848202,  0.68237285,\n        0.79663258,  1.36935299,  1.08005188,  0.99311831,  0.15607878,\n        3.7778542 ,  2.35609305,  0.16850985,  0.98599364,  1.12567067,\n        3.21579679,  0.87982087,  0.38319493,  0.96834789,  1.00428004,\n        1.65589171,  1.2581278 ,  1.71881244,  0.11251552,  1.65949951,\n        1.15809569,  1.33210756,  0.37989215,  0.252446  ,  1.22409406,\n        1.86571485,  0.42345727,  3.52740557,  1.32989807,  2.0095314 ,\n        1.20016474,  3.5067706 ,  0.67232354,  2.79268109,  0.38115844,\n        1.3978449 ,  0.7089553 ,  2.12685211,  0.73462708,  2.03686026,\n        0.50287078,  0.31183315,  1.66994305,  5.36906534,  1.55708073,\n        2.66826698,  1.31701804,  0.66126086,  0.19123589,  0.58223398,\n        0.41897952,  2.17842598,  0.98481411,  0.46953552,  0.99266818,\n        0.4463218 ,  0.43809118,  0.37791494,  2.46417893,  0.91230902,\n        0.50247167,  1.0960922 ,  0.61328846,  2.07107491,  0.65524443,\n        4.00311763,  1.61430287,  0.16159395,  2.42851301,  1.38124899,\n        0.33750889,  1.93776135,  1.55612023,  0.59284748,  0.56785228,\n        1.09259657,  1.22611626,  0.0744978 ,  0.10373193,  1.95616674,\n        2.29130443,  0.62968361,  0.67477008,  0.60981642,  0.58408102])"
      ]
     },
     "execution_count": 234,
     "metadata": {},
     "output_type": "execute_result"
    }
   ],
   "source": [
    "# random sampling from F\n",
    "# df1 = 5, df2 = 10\n",
    "np.random.seed(100)\n",
    "x = np.random.f(dfnum=5, dfden=10, size=100)\n",
    "x"
   ]
  },
  {
   "cell_type": "code",
   "execution_count": 236,
   "metadata": {},
   "outputs": [
    {
     "data": {
      "image/png": "[encoded data removed]",
      "text/plain": [
       "<matplotlib.figure.Figure at 0xc011518>"
      ]
     },
     "metadata": {},
     "output_type": "display_data"
    }
   ],
   "source": [
    "sns.distplot(x, bins=20)\n",
    "plt.xlim(0, 6)\n",
    "plt.show()"
   ]
  },
  {
   "cell_type": "code",
   "execution_count": 227,
   "metadata": {},
   "outputs": [
    {
     "data": {
      "text/plain": [
       "array([  1.56791674e+00,   6.52483769e-01,   1.10509323e+00,\n         3.72577379e+00,   9.46005029e-03,   2.59236110e-01,\n         2.22187032e+00,   3.49570821e+00,   2.94001314e-01,\n         1.71177147e+00,   4.43873095e+00,   4.69425742e-01,\n         4.09939940e-01,   2.29423517e-01,   4.96147209e-01,\n         7.69095282e+00,   3.33925872e+00,   3.77341773e-01,\n         3.38808346e+00,   6.40613699e-01,   1.13022638e+00,\n         5.62781567e+00,   3.40364791e+00,   8.19283487e-01,\n         3.85739072e-01,   9.33081811e-01,   1.14094971e-02,\n         5.81844910e-01,   3.17596456e+00,   3.07450508e-02,\n         1.82680669e+00,   1.85169520e+00,   2.22193172e-01,\n         9.62350625e-01,   7.43158820e-02,   4.42204683e+00,\n         7.91831906e+00,   1.23627383e-01,   4.42450081e+00,\n         1.72030053e+00,   2.71331337e+00,   1.98949905e+00,\n         1.74379278e+00,   4.13018033e-02,   4.71511953e-01,\n         1.57353105e+00,   2.93167254e+00,   5.77218949e-01,\n         6.73452471e-01,   3.82643217e+00,   7.37827846e+00,\n         4.32309651e+00,   8.91036809e-01,   1.82688432e+00,\n         8.76376262e-01,   8.31607381e-01,   3.92226832e-01,\n         5.42815006e-01,   9.17994841e-02,   1.40813894e+00,\n         9.44019133e-01,   1.79692816e+00,   1.98819039e+00,\n         3.07702183e-01,   5.43139774e+00,   5.85166185e+00,\n         1.84409785e+00,   9.81282349e-01,   9.02561614e-01,\n         4.57179904e-01,   6.48042320e-01,   5.66147763e-01,\n         3.81372088e-01,   6.79897935e+00,   6.29369648e+00,\n         1.82247546e+00,   2.62832513e+00,   8.32198571e-01,\n         1.93144279e-01,   1.24537005e+00,   1.42139617e+00,\n         1.85239984e-01,   1.50170184e+00,   9.69653206e+00,\n         1.00517243e+00,   8.17731091e-01,   3.27413768e+00,\n         2.80768685e+00,   7.51035408e-01,   2.01044435e+00,\n         1.55481738e+00,   7.04210092e-01,   2.34838981e-01,\n         7.49795080e-01,   1.22121505e+00,   2.15139414e+00,\n         5.86749873e-01,   2.04942998e+00,   4.46596145e-01,\n         2.14369617e+00])"
      ]
     },
     "execution_count": 227,
     "metadata": {},
     "output_type": "execute_result"
    }
   ],
   "source": [
    "# random sampling from chi-squared\n",
    "# df = 2\n",
    "np.random.seed(100)\n",
    "x = np.random.chisquare(df=2, size=100)\n",
    "x"
   ]
  },
  {
   "cell_type": "code",
   "execution_count": 231,
   "metadata": {},
   "outputs": [
    {
     "data": {
      "image/png": "[encoded data removed]",
      "text/plain": [
       "<matplotlib.figure.Figure at 0xc2c7cf8>"
      ]
     },
     "metadata": {},
     "output_type": "display_data"
    }
   ],
   "source": [
    "sns.distplot(x, bins=20)\n",
    "plt.xlim(0, 10)\n",
    "plt.show()"
   ]
  }
 ],
 "metadata": {
  "kernelspec": {
   "display_name": "Python 2",
   "language": "python",
   "name": "python2"
  },
  "language_info": {
   "codemirror_mode": {
    "name": "ipython",
    "version": 2
   },
   "file_extension": ".py",
   "mimetype": "text/x-python",
   "name": "python",
   "nbconvert_exporter": "python",
   "pygments_lexer": "ipython2",
   "version": "2.7.6"
  }
 },
 "nbformat": 4,
 "nbformat_minor": 0
}
