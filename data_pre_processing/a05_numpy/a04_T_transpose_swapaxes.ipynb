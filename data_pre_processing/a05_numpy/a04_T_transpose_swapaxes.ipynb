{
 "cells": [
  {
   "cell_type": "code",
   "execution_count": 1,
   "metadata": {
    "collapsed": true
   },
   "outputs": [],
   "source": [
    "import numpy as np"
   ]
  },
  {
   "cell_type": "code",
   "execution_count": 2,
   "metadata": {},
   "outputs": [
    {
     "name": "stdout",
     "output_type": "stream",
     "text": [
      "[[ 0  1  2  3  4]\n [ 5  6  7  8  9]\n [10 11 12 13 14]]\n[[ 0  5 10]\n [ 1  6 11]\n [ 2  7 12]\n [ 3  8 13]\n [ 4  9 14]]\n"
     ]
    }
   ],
   "source": [
    "a = np.arange(15).reshape(3, 5)\n",
    "print(a)\n",
    "print(a.T)"
   ]
  },
  {
   "cell_type": "code",
   "execution_count": 9,
   "metadata": {},
   "outputs": [
    {
     "data": {
      "text/plain": [
       "array([[ 0,  5, 10],\n       [ 1,  6, 11],\n       [ 2,  7, 12],\n       [ 3,  8, 13],\n       [ 4,  9, 14]])"
      ]
     },
     "execution_count": 9,
     "metadata": {},
     "output_type": "execute_result"
    }
   ],
   "source": [
    "# transpose()\n",
    "np.transpose(a)"
   ]
  },
  {
   "cell_type": "code",
   "execution_count": 19,
   "metadata": {},
   "outputs": [
    {
     "data": {
      "text/plain": [
       "array([[ 0,  5, 10],\n       [ 1,  6, 11],\n       [ 2,  7, 12],\n       [ 3,  8, 13],\n       [ 4,  9, 14]])"
      ]
     },
     "execution_count": 19,
     "metadata": {},
     "output_type": "execute_result"
    }
   ],
   "source": [
    "# swapaxes()\n",
    "np.swapaxes(a, 0, 1)"
   ]
  },
  {
   "cell_type": "code",
   "execution_count": 10,
   "metadata": {},
   "outputs": [
    {
     "data": {
      "text/plain": [
       "array([[125, 140, 155, 170, 185],\n       [140, 158, 176, 194, 212],\n       [155, 176, 197, 218, 239],\n       [170, 194, 218, 242, 266],\n       [185, 212, 239, 266, 293]])"
      ]
     },
     "execution_count": 10,
     "metadata": {},
     "output_type": "execute_result"
    }
   ],
   "source": [
    "# 내적 계산\n",
    "np.dot(a.T, a)"
   ]
  },
  {
   "cell_type": "code",
   "execution_count": 23,
   "metadata": {},
   "outputs": [
    {
     "name": "stdout",
     "output_type": "stream",
     "text": [
      "[[[ 0  1  2  3]\n  [ 4  5  6  7]\n  [ 8  9 10 11]]\n\n [[12 13 14 15]\n  [16 17 18 19]\n  [20 21 22 23]]]\n(2, 3, 4)\n"
     ]
    }
   ],
   "source": [
    "# 3차원 array\n",
    "b = np.arange(24).reshape(2, 3, 4)\n",
    "print(b)\n",
    "print(b.shape)"
   ]
  },
  {
   "cell_type": "code",
   "execution_count": 22,
   "metadata": {},
   "outputs": [
    {
     "name": "stdout",
     "output_type": "stream",
     "text": [
      "[[[ 0 12]\n  [ 4 16]\n  [ 8 20]]\n\n [[ 1 13]\n  [ 5 17]\n  [ 9 21]]\n\n [[ 2 14]\n  [ 6 18]\n  [10 22]]\n\n [[ 3 15]\n  [ 7 19]\n  [11 23]]]\n(4, 3, 2)\n"
     ]
    }
   ],
   "source": [
    "print(b.T)\n",
    "print(b.T.shape)"
   ]
  },
  {
   "cell_type": "code",
   "execution_count": 37,
   "metadata": {},
   "outputs": [
    {
     "name": "stdout",
     "output_type": "stream",
     "text": [
      "[[[ 0 12]\n  [ 4 16]\n  [ 8 20]]\n\n [[ 1 13]\n  [ 5 17]\n  [ 9 21]]\n\n [[ 2 14]\n  [ 6 18]\n  [10 22]]\n\n [[ 3 15]\n  [ 7 19]\n  [11 23]]]\n(4, 3, 2)\n"
     ]
    }
   ],
   "source": [
    "print(np.transpose(b, (2, 1, 0)))\n",
    "print(np.transpose(b, (2, 1, 0)).shape)"
   ]
  },
  {
   "cell_type": "code",
   "execution_count": 39,
   "metadata": {},
   "outputs": [
    {
     "name": "stdout",
     "output_type": "stream",
     "text": [
      "[[[ 0 12]\n  [ 1 13]\n  [ 2 14]\n  [ 3 15]]\n\n [[ 4 16]\n  [ 5 17]\n  [ 6 18]\n  [ 7 19]]\n\n [[ 8 20]\n  [ 9 21]\n  [10 22]\n  [11 23]]]\n(3, 4, 2)\n"
     ]
    }
   ],
   "source": [
    "print(np.transpose(b, (1, 2, 0)))\n",
    "print(np.transpose(b, (1, 2, 0)).shape)"
   ]
  },
  {
   "cell_type": "code",
   "execution_count": 40,
   "metadata": {},
   "outputs": [
    {
     "name": "stdout",
     "output_type": "stream",
     "text": [
      "[[[ 0  4  8]\n  [ 1  5  9]\n  [ 2  6 10]\n  [ 3  7 11]]\n\n [[12 16 20]\n  [13 17 21]\n  [14 18 22]\n  [15 19 23]]]\n(2, 4, 3)\n"
     ]
    }
   ],
   "source": [
    "print(np.transpose(b, (0, 2, 1)))\n",
    "print(np.transpose(b, (0, 2, 1)).shape)\n"
   ]
  },
  {
   "cell_type": "code",
   "execution_count": 42,
   "metadata": {},
   "outputs": [
    {
     "name": "stdout",
     "output_type": "stream",
     "text": [
      "[[[ 0  1  2  3]\n  [ 4  5  6  7]\n  [ 8  9 10 11]]\n\n [[12 13 14 15]\n  [16 17 18 19]\n  [20 21 22 23]]]\n(2, 3, 4)\n"
     ]
    }
   ],
   "source": [
    "print(np.transpose(b, (0, 1, 2)))\n",
    "print(np.transpose(b, (0, 1, 2)).shape)"
   ]
  },
  {
   "cell_type": "code",
   "execution_count": 67,
   "metadata": {},
   "outputs": [
    {
     "name": "stdout",
     "output_type": "stream",
     "text": [
      "[[[ 0 12]\n  [ 4 16]\n  [ 8 20]]\n\n [[ 1 13]\n  [ 5 17]\n  [ 9 21]]\n\n [[ 2 14]\n  [ 6 18]\n  [10 22]]\n\n [[ 3 15]\n  [ 7 19]\n  [11 23]]]\n(4, 3, 2)\n"
     ]
    }
   ],
   "source": [
    "print(np.swapaxes(b, 0, 2))\n",
    "print(np.swapaxes(b, 0, 2).shape)"
   ]
  }
 ],
 "metadata": {
  "kernelspec": {
   "display_name": "Python 2",
   "language": "python",
   "name": "python2"
  },
  "language_info": {
   "codemirror_mode": {
    "name": "ipython",
    "version": 2
   },
   "file_extension": ".py",
   "mimetype": "text/x-python",
   "name": "python",
   "nbconvert_exporter": "python",
   "pygments_lexer": "ipython2",
   "version": "2.7.6"
  }
 },
 "nbformat": 4,
 "nbformat_minor": 0
}
