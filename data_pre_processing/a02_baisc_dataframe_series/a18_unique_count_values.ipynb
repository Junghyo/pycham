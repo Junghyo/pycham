{
 "cells": [
  {
   "cell_type": "code",
   "execution_count": 1,
   "metadata": {
    "collapsed": true
   },
   "outputs": [],
   "source": [
    "import numpy as np\n",
    "import pandas as pd\n",
    "import matplotlib as mpl\n",
    "import matplotlib.pylab as plt\n",
    "import scipy as sp"
   ]
  },
  {
   "cell_type": "code",
   "execution_count": 9,
   "metadata": {},
   "outputs": [
    {
     "data": {
      "text/html": [
       "<div>\n",
       "<style>\n",
       "    .dataframe thead tr:only-child th {\n",
       "        text-align: right;\n",
       "    }\n",
       "\n",
       "    .dataframe thead th {\n",
       "        text-align: left;\n",
       "    }\n",
       "\n",
       "    .dataframe tbody tr th {\n",
       "        vertical-align: top;\n",
       "    }\n",
       "</style>\n",
       "<table border=\"1\" class=\"dataframe\">\n",
       "  <thead>\n",
       "    <tr style=\"text-align: right;\">\n",
       "      <th></th>\n",
       "      <th>A</th>\n",
       "      <th>B</th>\n",
       "      <th>C</th>\n",
       "    </tr>\n",
       "  </thead>\n",
       "  <tbody>\n",
       "    <tr>\n",
       "      <th>0</th>\n",
       "      <td>A1</td>\n",
       "      <td>B1</td>\n",
       "      <td>1</td>\n",
       "    </tr>\n",
       "    <tr>\n",
       "      <th>1</th>\n",
       "      <td>A1</td>\n",
       "      <td>B1</td>\n",
       "      <td>1</td>\n",
       "    </tr>\n",
       "    <tr>\n",
       "      <th>2</th>\n",
       "      <td>A2</td>\n",
       "      <td>B1</td>\n",
       "      <td>3</td>\n",
       "    </tr>\n",
       "    <tr>\n",
       "      <th>3</th>\n",
       "      <td>A2</td>\n",
       "      <td>B1</td>\n",
       "      <td>4</td>\n",
       "    </tr>\n",
       "    <tr>\n",
       "      <th>4</th>\n",
       "      <td>A3</td>\n",
       "      <td>B2</td>\n",
       "      <td>4</td>\n",
       "    </tr>\n",
       "    <tr>\n",
       "      <th>5</th>\n",
       "      <td>A3</td>\n",
       "      <td>NaN</td>\n",
       "      <td>4</td>\n",
       "    </tr>\n",
       "  </tbody>\n",
       "</table>\n",
       "</div>"
      ],
      "text/plain": [
       "<div>\n",
       "<style>\n",
       "    .dataframe thead tr:only-child th {\n",
       "        text-align: right;\n",
       "    }\n",
       "\n",
       "    .dataframe thead th {\n",
       "        text-align: left;\n",
       "    }\n",
       "\n",
       "    .dataframe tbody tr th {\n",
       "        vertical-align: top;\n",
       "    }\n",
       "</style>\n",
       "<table border=\"1\" class=\"dataframe\">\n",
       "  <thead>\n",
       "    <tr style=\"text-align: right;\">\n",
       "      <th></th>\n",
       "      <th>A</th>\n",
       "      <th>B</th>\n",
       "      <th>C</th>\n",
       "    </tr>\n",
       "  </thead>\n",
       "  <tbody>\n",
       "    <tr>\n",
       "      <th>0</th>\n",
       "      <td>A1</td>\n",
       "      <td>B1</td>\n",
       "      <td>1</td>\n",
       "    </tr>\n",
       "    <tr>\n",
       "      <th>1</th>\n",
       "      <td>A1</td>\n",
       "      <td>B1</td>\n",
       "      <td>1</td>\n",
       "    </tr>\n",
       "    <tr>\n",
       "      <th>2</th>\n",
       "      <td>A2</td>\n",
       "      <td>B1</td>\n",
       "      <td>3</td>\n",
       "    </tr>\n",
       "    <tr>\n",
       "      <th>3</th>\n",
       "      <td>A2</td>\n",
       "      <td>B1</td>\n",
       "      <td>4</td>\n",
       "    </tr>\n",
       "    <tr>\n",
       "      <th>4</th>\n",
       "      <td>A3</td>\n",
       "      <td>B2</td>\n",
       "      <td>4</td>\n",
       "    </tr>\n",
       "    <tr>\n",
       "      <th>5</th>\n",
       "      <td>A3</td>\n",
       "      <td>NaN</td>\n",
       "      <td>4</td>\n",
       "    </tr>\n",
       "  </tbody>\n",
       "</table>\n",
       "</div>"
      ]
     },
     "execution_count": 9,
     "metadata": {},
     "output_type": "execute_result"
    }
   ],
   "source": [
    "# making df\n",
    "df = pd.DataFrame({'A': ['A1', 'A1', 'A2', 'A2', 'A3', 'A3'],\n",
    "                   'B': ['B1', 'B1', 'B1', 'B1', 'B2', np.nan],\n",
    "                   'C': [1, 1, 3, 4, 4, 4]})\n",
    "\n",
    "df"
   ]
  },
  {
   "cell_type": "code",
   "execution_count": 12,
   "metadata": {},
   "outputs": [
    {
     "name": "stdout",
     "output_type": "stream",
     "text": [
      "['A1' 'A2' 'A3']\n['B1' 'B2' nan]\n"
     ]
    }
   ],
   "source": [
    "# 유일한 값 찾기 : pd.Series.unique()\n",
    "\n",
    "# A컬럼의 unique값 찾기\n",
    "print(df.loc[:, \"A\"].unique())\n",
    "\n",
    "# B컬럼의 unique값 찾기\n",
    "print(df.loc[:, \"B\"].unique()) # NaN값도 unique로 포함된다.\n"
   ]
  },
  {
   "cell_type": "code",
   "execution_count": 16,
   "metadata": {},
   "outputs": [],
   "source": [
    "# 유일한 값별로 개수 세기 : pd.Series.value_counts()\n",
    "\"\"\"\n",
    "pd.Series.value_counts(\n",
    "\n",
    "normalize=False, \n",
    "# False면 개수, True면 상대 비율 구함\n",
    "\n",
    "sort=True, \n",
    "# True면 개수 기준 정렬, False면 유일한 값 기준 정렬\n",
    "\n",
    "ascending=False, \n",
    "# False면 내림차순 정렬, True면 오름차순 정렬\n",
    "\n",
    "bins=None, \n",
    "# None이면 유일값 기준 개수, None아니면 Bins Group별 개수\n",
    "\n",
    "dropna=True \n",
    "# True면 NaN 무시, False면 유일값에 NaN 포함\n",
    ")\n",
    "\n",
    "\n",
    "\n",
    "\n",
    "\"\"\""
   ]
  },
  {
   "cell_type": "code",
   "execution_count": 23,
   "metadata": {},
   "outputs": [
    {
     "name": "stdout",
     "output_type": "stream",
     "text": [
      "A2    2\nA3    2\nA1    2\nName: A, dtype: int64\nB1    4\nB2    1\nName: B, dtype: int64\n"
     ]
    }
   ],
   "source": [
    "# A컬럼 데이터별 빈도수 세기\n",
    "print(df.loc[:, \"A\"].value_counts())\n",
    "\n",
    "# B컬럼 데이터별 빈도수 세기\n",
    "print(df.loc[:, \"B\"].value_counts())\n",
    "# unique값에는 NaN이 포함되어 있지만 빈도수를 셀 경우에는 포함하지 않음\n"
   ]
  },
  {
   "cell_type": "code",
   "execution_count": 24,
   "metadata": {},
   "outputs": [
    {
     "name": "stdout",
     "output_type": "stream",
     "text": [
      "4    0.500000\n1    0.333333\n3    0.166667\nName: C, dtype: float64\nB1    0.8\nB2    0.2\nName: B, dtype: float64\n"
     ]
    }
   ],
   "source": [
    "# 유일 값 별 상대적 비율 : pd.Series.value_counts(normalize=True)\n",
    "# C컬럼 데이터별 상대적 비율 구하기\n",
    "print(df.loc[:, \"C\"].value_counts(normalize=True))\n",
    "\n",
    "# B컬럼 데이터별 상대적 비율 구하기\n",
    "print(df.loc[:, \"B\"].value_counts(normalize=True))"
   ]
  },
  {
   "cell_type": "code",
   "execution_count": 35,
   "metadata": {},
   "outputs": [
    {
     "name": "stdout",
     "output_type": "stream",
     "text": [
      "    A    B  C\n0  A1   B1  1\n1  A1   B1  1\n2  A2   B1  3\n3  A2   B1  4\n4  A3   B2  4\n5  A3  NaN  4\n4    3\n1    2\n3    1\nName: C, dtype: int64\n3    1\n1    2\n4    3\nName: C, dtype: int64\n1    2\n3    1\n4    3\nName: C, dtype: int64\n"
     ]
    }
   ],
   "source": [
    "# 유일한 값 기준 정렬 : pd.Series.value_counts(sort=True, ascending=True)\n",
    "print(df)\n",
    "\n",
    "# sort=T , ascending=F : default : 내림차순\n",
    "print(df[\"C\"].value_counts(sort=True, ascending=False))\n",
    "\n",
    "# sort=T , ascending=T : 오름차순\n",
    "print(df[\"C\"].value_counts(sort=True, ascending=True))\n",
    "\n",
    "# sort=F : 데이터 값 대로 오름차순\n",
    "print(df[\"C\"].value_counts(sort=False))"
   ]
  },
  {
   "cell_type": "code",
   "execution_count": 36,
   "metadata": {},
   "outputs": [
    {
     "name": "stdout",
     "output_type": "stream",
     "text": [
      "B1    4\nB2    1\nName: B, dtype: int64\nB1     4\nB2     1\nNaN    1\nName: B, dtype: int64\n"
     ]
    }
   ],
   "source": [
    "# 결측값을 유일한 값에 포함할지 여부 : pd.Series.value_counts(dropna=True)\n",
    "print(df[\"B\"].value_counts(dropna=True)) # default\n",
    "print(df[\"B\"].value_counts(dropna=False)) # 결측치 포함"
   ]
  },
  {
   "cell_type": "code",
   "execution_count": 55,
   "metadata": {},
   "outputs": [
    {
     "name": "stdout",
     "output_type": "stream",
     "text": [
      "    A    B  C\n0  A1   B1  1\n1  A1   B1  1\n2  A2   B1  3\n3  A2   B1  4\n4  A3   B2  4\n5  A3  NaN  4\n(-0.001, 1.0]    2\n(1.0, 2.0]       0\n(2.0, 3.0]       1\n(3.0, 4.0]       3\n(4.0, 5.0]       0\nName: C, dtype: int64\n"
     ]
    }
   ],
   "source": [
    "# Bins Group별 값 개수 세기 : pd.Series.value_counts(bins=[ , , ,])\n",
    "# 오직 숫자데이터만 사용 가능\n",
    "\n",
    "print(df)\n",
    "\n",
    "print(df[\"C\"].value_counts(bins=[0, 1, 2, 3, 4, 5], sort=False))"
   ]
  },
  {
   "cell_type": "code",
   "execution_count": 69,
   "metadata": {},
   "outputs": [
    {
     "name": "stdout",
     "output_type": "stream",
     "text": [
      "0    (0, 1]\n1    (0, 1]\n2    (2, 3]\n3    (3, 4]\n4    (3, 4]\n5    (3, 4]\nName: C, dtype: category\nCategories (5, interval[int64]): [(0, 1] < (1, 2] < (2, 3] < (3, 4] < (4, 5]]\n(0, 1]    2\n(1, 2]    0\n(2, 3]    1\n(3, 4]    3\n(4, 5]    0\nName: C, dtype: int64\n"
     ]
    }
   ],
   "source": [
    "# pd.cut(series, bins=[]) 사용\n",
    "out = pd.cut(df[\"C\"], bins=[0, 1, 2, 3, 4, 5])\n",
    "print(out)\n",
    "print(pd.value_counts(out, sort=False))"
   ]
  }
 ],
 "metadata": {
  "kernelspec": {
   "display_name": "Python 2",
   "language": "python",
   "name": "python2"
  },
  "language_info": {
   "codemirror_mode": {
    "name": "ipython",
    "version": 2
   },
   "file_extension": ".py",
   "mimetype": "text/x-python",
   "name": "python",
   "nbconvert_exporter": "python",
   "pygments_lexer": "ipython2",
   "version": "2.7.6"
  }
 },
 "nbformat": 4,
 "nbformat_minor": 0
}
