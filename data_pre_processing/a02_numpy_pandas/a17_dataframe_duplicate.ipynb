{
 "cells": [
  {
   "cell_type": "code",
   "execution_count": 1,
   "metadata": {
    "collapsed": true
   },
   "outputs": [],
   "source": [
    "import numpy as np\n",
    "import pandas as pd\n",
    "import matplotlib as mpl\n",
    "import matplotlib.pylab as plt\n",
    "import scipy as sp"
   ]
  },
  {
   "cell_type": "code",
   "execution_count": 5,
   "metadata": {},
   "outputs": [
    {
     "data": {
      "text/html": [
       "<div>\n",
       "<style>\n",
       "    .dataframe thead tr:only-child th {\n",
       "        text-align: right;\n",
       "    }\n",
       "\n",
       "    .dataframe thead th {\n",
       "        text-align: left;\n",
       "    }\n",
       "\n",
       "    .dataframe tbody tr th {\n",
       "        vertical-align: top;\n",
       "    }\n",
       "</style>\n",
       "<table border=\"1\" class=\"dataframe\">\n",
       "  <thead>\n",
       "    <tr style=\"text-align: right;\">\n",
       "      <th></th>\n",
       "      <th>key1</th>\n",
       "      <th>key2</th>\n",
       "      <th>value</th>\n",
       "    </tr>\n",
       "  </thead>\n",
       "  <tbody>\n",
       "    <tr>\n",
       "      <th>0</th>\n",
       "      <td>a</td>\n",
       "      <td>v</td>\n",
       "      <td>1</td>\n",
       "    </tr>\n",
       "    <tr>\n",
       "      <th>1</th>\n",
       "      <td>b</td>\n",
       "      <td>w</td>\n",
       "      <td>2</td>\n",
       "    </tr>\n",
       "    <tr>\n",
       "      <th>2</th>\n",
       "      <td>b</td>\n",
       "      <td>w</td>\n",
       "      <td>3</td>\n",
       "    </tr>\n",
       "    <tr>\n",
       "      <th>3</th>\n",
       "      <td>c</td>\n",
       "      <td>x</td>\n",
       "      <td>4</td>\n",
       "    </tr>\n",
       "    <tr>\n",
       "      <th>4</th>\n",
       "      <td>c</td>\n",
       "      <td>y</td>\n",
       "      <td>5</td>\n",
       "    </tr>\n",
       "  </tbody>\n",
       "</table>\n",
       "</div>"
      ],
      "text/plain": [
       "<div>\n",
       "<style>\n",
       "    .dataframe thead tr:only-child th {\n",
       "        text-align: right;\n",
       "    }\n",
       "\n",
       "    .dataframe thead th {\n",
       "        text-align: left;\n",
       "    }\n",
       "\n",
       "    .dataframe tbody tr th {\n",
       "        vertical-align: top;\n",
       "    }\n",
       "</style>\n",
       "<table border=\"1\" class=\"dataframe\">\n",
       "  <thead>\n",
       "    <tr style=\"text-align: right;\">\n",
       "      <th></th>\n",
       "      <th>key1</th>\n",
       "      <th>key2</th>\n",
       "      <th>value</th>\n",
       "    </tr>\n",
       "  </thead>\n",
       "  <tbody>\n",
       "    <tr>\n",
       "      <th>0</th>\n",
       "      <td>a</td>\n",
       "      <td>v</td>\n",
       "      <td>1</td>\n",
       "    </tr>\n",
       "    <tr>\n",
       "      <th>1</th>\n",
       "      <td>b</td>\n",
       "      <td>w</td>\n",
       "      <td>2</td>\n",
       "    </tr>\n",
       "    <tr>\n",
       "      <th>2</th>\n",
       "      <td>b</td>\n",
       "      <td>w</td>\n",
       "      <td>3</td>\n",
       "    </tr>\n",
       "    <tr>\n",
       "      <th>3</th>\n",
       "      <td>c</td>\n",
       "      <td>x</td>\n",
       "      <td>4</td>\n",
       "    </tr>\n",
       "    <tr>\n",
       "      <th>4</th>\n",
       "      <td>c</td>\n",
       "      <td>y</td>\n",
       "      <td>5</td>\n",
       "    </tr>\n",
       "  </tbody>\n",
       "</table>\n",
       "</div>"
      ]
     },
     "execution_count": 5,
     "metadata": {},
     "output_type": "execute_result"
    }
   ],
   "source": [
    "# making df\n",
    "data = {\n",
    "    \"key1\": [\"a\", \"b\", \"b\", \"c\", \"c\"],\n",
    "    \"key2\": [\"v\", \"w\", \"w\", \"x\", \"y\"],\n",
    "    \"value\": [1, 2, 3, 4, 5]\n",
    "}\n",
    "df = pd.DataFrame(data, columns=[\"key1\", \"key2\", \"value\"])\n",
    "df"
   ]
  },
  {
   "cell_type": "code",
   "execution_count": 11,
   "metadata": {},
   "outputs": [
    {
     "name": "stdout",
     "output_type": "stream",
     "text": [
      "0    False\n1    False\n2     True\n3    False\n4     True\ndtype: bool\n0    False\n1    False\n2     True\n3    False\n4    False\ndtype: bool\n"
     ]
    }
   ],
   "source": [
    "# 중복 데이터가 있는지 확인하기 : DataFrame.duplicated()\n",
    "# 중복이 있다면 첫번째가 아닌 그 다음의 값들이 True로 return\n",
    "# keep=\"first\" default\n",
    "\n",
    "# key1 기준\n",
    "print(df.duplicated([\"key1\"]))\n",
    "\n",
    "# key1, key2 기준\n",
    "print(df.duplicated([\"key1\", \"key2\"]))"
   ]
  },
  {
   "cell_type": "code",
   "execution_count": 12,
   "metadata": {},
   "outputs": [
    {
     "name": "stdout",
     "output_type": "stream",
     "text": [
      "0    False\n1     True\n2    False\n3     True\n4    False\ndtype: bool\n0    False\n1     True\n2    False\n3    False\n4    False\ndtype: bool\n"
     ]
    }
   ],
   "source": [
    "# keep=last : 첫번쨰 중복된 값을 True로 return\n",
    "# key1 기준\n",
    "print(df.duplicated([\"key1\"], keep=\"last\"))\n",
    "\n",
    "# key1, key2 기준\n",
    "print(df.duplicated([\"key1\", \"key2\"], keep=\"last\"))"
   ]
  },
  {
   "cell_type": "code",
   "execution_count": 13,
   "metadata": {},
   "outputs": [
    {
     "name": "stdout",
     "output_type": "stream",
     "text": [
      "0    False\n1     True\n2     True\n3     True\n4     True\ndtype: bool\n0    False\n1     True\n2     True\n3    False\n4    False\ndtype: bool\n"
     ]
    }
   ],
   "source": [
    "# keep=False : 중복된 값들이면 무조건 True로 return\n",
    "# key1 기준\n",
    "print(df.duplicated([\"key1\"], keep=False))\n",
    "\n",
    "# key1, key2 기준\n",
    "print(df.duplicated([\"key1\", \"key2\"], keep=False))"
   ]
  },
  {
   "cell_type": "code",
   "execution_count": 18,
   "metadata": {},
   "outputs": [
    {
     "name": "stdout",
     "output_type": "stream",
     "text": [
      "  key1 key2  value\n0    a    v      1\n1    b    w      2\n2    b    w      3\n3    c    x      4\n4    c    y      5\n  key1 key2  value\n0    a    v      1\n1    b    w      2\n3    c    x      4\n  key1 key2  value\n0    a    v      1\n2    b    w      3\n4    c    y      5\n  key1 key2  value\n0    a    v      1\n"
     ]
    }
   ],
   "source": [
    "# 중복값 처리(unique한 1개의 key만 남기고 나머지 중복은 제거) \n",
    "# DataFrame.drop_duplicates()\n",
    "print(df)\n",
    "\n",
    "# key1 기준 keep=\"first\" : 첫번째 중복값 이외의 중복값들은 제거\n",
    "print(df.drop_duplicates([\"key1\"], keep=\"first\"))\n",
    "\n",
    "# key1 기준 keep=\"last\" : 마지막 중복값만 남기기\n",
    "print(df.drop_duplicates([\"key1\"], keep=\"last\"))\n",
    "\n",
    "# key1 기준 keep=False : 중복된 값들은 남기지 않고 전부 제거\n",
    "print(df.drop_duplicates([\"key1\"], keep=False))"
   ]
  }
 ],
 "metadata": {
  "kernelspec": {
   "display_name": "Python 2",
   "language": "python",
   "name": "python2"
  },
  "language_info": {
   "codemirror_mode": {
    "name": "ipython",
    "version": 2
   },
   "file_extension": ".py",
   "mimetype": "text/x-python",
   "name": "python",
   "nbconvert_exporter": "python",
   "pygments_lexer": "ipython2",
   "version": "2.7.6"
  }
 },
 "nbformat": 4,
 "nbformat_minor": 0
}
