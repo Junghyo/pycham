{
 "cells": [
  {
   "cell_type": "code",
   "execution_count": 2,
   "metadata": {
    "collapsed": true
   },
   "outputs": [],
   "source": [
    "import numpy as np\n",
    "import pandas as pd\n",
    "import matplotlib as mpl\n",
    "import matplotlib.pylab as plt\n",
    "import scipy as sp\n",
    "import scipy.stats as stats"
   ]
  },
  {
   "cell_type": "code",
   "execution_count": null,
   "metadata": {},
   "outputs": [],
   "source": [
    "\"\"\"\n",
    "표준화 중에서도 모집단이 \n",
    "'정규분포 (normal distribution, Gaussian distribution)을 따르는 경우 \n",
    "평균이 0, 표준편차는 1 인 표준정규분포(standard normal distribution)로 \n",
    "표준화 하는 방법을 많이 사용\n",
    "\n",
    "z = (X-mu)/σ\n",
    "\"\"\"\n"
   ]
  },
  {
   "cell_type": "code",
   "execution_count": 39,
   "metadata": {},
   "outputs": [
    {
     "data": {
      "text/plain": [
       "array([[12, 15, 21,  0,  3],\n       [27,  3,  7,  9, 19],\n       [21, 18,  4, 23,  6],\n       [24, 24, 12, 26,  1],\n       [ 6,  7, 23, 14, 24],\n       [17,  5, 25, 13,  8]])"
      ]
     },
     "execution_count": 39,
     "metadata": {},
     "output_type": "execute_result"
    }
   ],
   "source": [
    "np.random.seed(0)\n",
    "data = np.random.randint(30, size=(6, 5))\n",
    "data"
   ]
  },
  {
   "cell_type": "code",
   "execution_count": 30,
   "metadata": {},
   "outputs": [
    {
     "name": "stdout",
     "output_type": "stream",
     "text": [
      "[[-0.81572007  0.39620291  0.69987892 -1.641612   -0.84969618]\n [ 1.28184583 -1.18860872 -1.02923371 -0.59870555  1.04729994]\n [ 0.44281947  0.79240582 -1.39975785  1.02359337 -0.49400941]\n [ 0.86233265  1.58481163 -0.41169348  1.37122885 -1.0868207 ]\n [-1.65474644 -0.66033818  0.94689502 -0.01931308  1.64011123]\n [-0.11653144 -0.92447345  1.19391111 -0.13519158 -0.25688489]]\n[  1.50342701e-16   5.55111512e-17  -1.48029737e-16   8.78926561e-17\n   4.62592927e-17]\n[ 1.  1.  1.  1.  1.]\n"
     ]
    }
   ],
   "source": [
    "# numpy를 이용한 표준화 : z = (x-mean())/std()\n",
    "def standard(x):\n",
    "    stand = (x - x.mean(axis=0))/x.std(axis=0)\n",
    "    return stand\n",
    "\n",
    "stand = standard(data)\n",
    "print(stand)\n",
    "# check mean=0 and std=1\n",
    "print(stand.mean(axis=0))\n",
    "print(stand.std(axis=0))"
   ]
  },
  {
   "cell_type": "code",
   "execution_count": 33,
   "metadata": {},
   "outputs": [
    {
     "name": "stdout",
     "output_type": "stream",
     "text": [
      "[[-0.81572007  0.39620291  0.69987892 -1.641612   -0.84969618]\n [ 1.28184583 -1.18860872 -1.02923371 -0.59870555  1.04729994]\n [ 0.44281947  0.79240582 -1.39975785  1.02359337 -0.49400941]\n [ 0.86233265  1.58481163 -0.41169348  1.37122885 -1.0868207 ]\n [-1.65474644 -0.66033818  0.94689502 -0.01931308  1.64011123]\n [-0.11653144 -0.92447345  1.19391111 -0.13519158 -0.25688489]]\n[  1.50342701e-16   5.55111512e-17  -1.48029737e-16   8.78926561e-17\n   4.62592927e-17]\n[ 1.  1.  1.  1.  1.]\n"
     ]
    }
   ],
   "source": [
    "# scipy.stats를 이용한 표준화 : stats.zscore()\n",
    "stand = stats.zscore(data)\n",
    "print(stand)\n",
    "# check mean=0 and std=1\n",
    "print(stand.mean(axis=0))\n",
    "print(stand.std(axis=0))"
   ]
  },
  {
   "cell_type": "code",
   "execution_count": 42,
   "metadata": {},
   "outputs": [
    {
     "name": "stdout",
     "output_type": "stream",
     "text": [
      "[[-0.81572007  0.39620291  0.69987892 -1.641612   -0.84969618]\n [ 1.28184583 -1.18860872 -1.02923371 -0.59870555  1.04729994]\n [ 0.44281947  0.79240582 -1.39975785  1.02359337 -0.49400941]\n [ 0.86233265  1.58481163 -0.41169348  1.37122885 -1.0868207 ]\n [-1.65474644 -0.66033818  0.94689502 -0.01931308  1.64011123]\n [-0.11653144 -0.92447345  1.19391111 -0.13519158 -0.25688489]]\n[  1.50342701e-16   5.55111512e-17  -1.48029737e-16   8.78926561e-17\n   4.62592927e-17]\n[ 1.  1.  1.  1.  1.]\n"
     ]
    },
    {
     "name": "stderr",
     "output_type": "stream",
     "text": [
      "C:\\Users\\acorn\\Anaconda3\\lib\\site-packages\\sklearn\\utils\\validation.py:429: DataConversionWarning: Data with input dtype int32 was converted to float64 by StandardScaler.\n  warnings.warn(msg, _DataConversionWarning)\n"
     ]
    }
   ],
   "source": [
    "# sklearn.preprocessing 을 이용한 표준화 \n",
    "# StandardScaler().fit_transform()\n",
    "from sklearn.preprocessing import StandardScaler\n",
    "stand = StandardScaler().fit_transform(data)\n",
    "print(stand)\n",
    "# check mean=0 and std=1\n",
    "print(stand.mean(axis=0))\n",
    "print(stand.std(axis=0))"
   ]
  }
 ],
 "metadata": {
  "kernelspec": {
   "display_name": "Python 2",
   "language": "python",
   "name": "python2"
  },
  "language_info": {
   "codemirror_mode": {
    "name": "ipython",
    "version": 2
   },
   "file_extension": ".py",
   "mimetype": "text/x-python",
   "name": "python",
   "nbconvert_exporter": "python",
   "pygments_lexer": "ipython2",
   "version": "2.7.6"
  }
 },
 "nbformat": 4,
 "nbformat_minor": 0
}
