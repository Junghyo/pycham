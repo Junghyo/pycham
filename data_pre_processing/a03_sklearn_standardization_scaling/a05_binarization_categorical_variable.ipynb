{
 "cells": [
  {
   "cell_type": "code",
   "execution_count": 1,
   "metadata": {
    "collapsed": true
   },
   "outputs": [],
   "source": [
    "import numpy as np\n",
    "import pandas as pd\n",
    "import matplotlib as mpl\n",
    "import matplotlib.pylab as plt\n",
    "import scipy as sp\n",
    "import scipy.stats as stats\n",
    "from sklearn.preprocessing import *"
   ]
  },
  {
   "cell_type": "code",
   "execution_count": null,
   "metadata": {},
   "outputs": [],
   "source": [
    "\"\"\"\n",
    "sklearn.preprocessing.OneHotEncoder()를 사용한\n",
    "범주형 변수를 이항변수화(binarization of categorical feature)\n",
    "\n",
    "데이터가 해당컬럼 값이면 1 아니면 0으로 표기\n",
    "ex) 고객1이 성별이 남자면\n",
    "          성별\n",
    "       남자  여자\n",
    "고객1   1     0\n",
    "\"\"\""
   ]
  },
  {
   "cell_type": "code",
   "execution_count": 17,
   "metadata": {},
   "outputs": [
    {
     "data": {
      "text/plain": [
       "array([[0, 0, 0],\n       [0, 1, 1],\n       [0, 2, 2],\n       [1, 0, 3],\n       [1, 1, 4]])"
      ]
     },
     "execution_count": 17,
     "metadata": {},
     "output_type": "execute_result"
    }
   ],
   "source": [
    "# making training data\n",
    "data_train = np.array([[0, 0, 0],\n",
    "                       [0, 1, 1],\n",
    "                       [0, 2, 2],\n",
    "                       [1, 0, 3],\n",
    "                       [1, 1, 4]])\n",
    "data_train\n",
    "\n",
    "# 1열은 성별 : 0 남자, 1 여자\n",
    "# 2열은 연령대 : 0 20대, 1 30대, 2 40대\n",
    "# 3열은 등급 : 0~4 S, A, B, C, D"
   ]
  },
  {
   "cell_type": "code",
   "execution_count": 20,
   "metadata": {},
   "outputs": [
    {
     "data": {
      "text/plain": [
       "OneHotEncoder(categorical_features='all', dtype=<class 'numpy.float64'>,\n       handle_unknown='error', n_values='auto', sparse=True)"
      ]
     },
     "execution_count": 20,
     "metadata": {},
     "output_type": "execute_result"
    }
   ],
   "source": [
    "# (1) OneHotEncoder() 로 범주형 변수의 이항변수화 적합시키기 \n",
    "#     OneHotEncoder().fit(), enc.fit()\n",
    "\n",
    "# making the utility class OneHotEncoder\n",
    "enc = OneHotEncoder()\n",
    "\n",
    "# fitting OneHotEncoder\n",
    "enc.fit(data_train)"
   ]
  },
  {
   "cell_type": "code",
   "execution_count": 30,
   "metadata": {},
   "outputs": [
    {
     "name": "stdout",
     "output_type": "stream",
     "text": [
      "[0 1 2 3 4 5 6 7 8 9]\n[2 3 5]\n[ 0  2  5 10]\n"
     ]
    }
   ],
   "source": [
    "# (2) 적합된(fitted) OneHotEncoder()의 Attributes 확인해보기\n",
    "#     enc.active_features_ , enc.n_values_ , enc.feature_indices_\n",
    "\n",
    "# active_features_ \n",
    "# : Indices for active features, actually occur in the training set\n",
    "print(enc.active_features_)\n",
    "# [0 1 2 3 4 5 6 7 8 9]\n",
    "# [남, 녀, 20대, 30대, 40대, S, A, B, C, D]\n",
    "#   성별      연령대             등급\n",
    "\n",
    "# n_values_ : number of values per feature\n",
    "print(enc.n_values_)\n",
    "# [2 3 5] : 성별 2개 범주, 연령대 3개 범주, 등급 5개 범주\n",
    "\n",
    "# feature_indices_ : indices to feature ranges\n",
    "print(enc.feature_indices_)\n",
    "# [ 0  2  5 10] : 성별 0이상 2미만, 연령대 2이상 5미만, 등급 5이상 10미만\n"
   ]
  },
  {
   "cell_type": "code",
   "execution_count": 45,
   "metadata": {},
   "outputs": [
    {
     "name": "stdout",
     "output_type": "stream",
     "text": [
      "[[ 0.  1.  0.  0.  1.  0.  0.  0.  0.  1.]]\n[[ 1.  0.  0.  1.  0.  0.  0.  1.  0.  0.]]\n"
     ]
    }
   ],
   "source": [
    "# (3) 적합된 OneHotEncoder()로 새로운 범주형 데이터셋을 이항변수화 변환하기\n",
    "# making new data : female(1), age 40s(2), d grade(4)\n",
    "p1 = np.array([1, 2, 4]).reshape(1,-1)\n",
    "\n",
    "# applying OneHotEncoder as enc to p1 (return array)\n",
    "print(enc.transform(p1).toarray())\n",
    "\n",
    "# p2  : male(0), age 30s(1), b grade(2)\n",
    "p2 = np.array([0, 1, 2]).reshape(1, -1)\n",
    "print(enc.transform(p2).toarray())"
   ]
  }
 ],
 "metadata": {
  "kernelspec": {
   "display_name": "Python 2",
   "language": "python",
   "name": "python2"
  },
  "language_info": {
   "codemirror_mode": {
    "name": "ipython",
    "version": 2
   },
   "file_extension": ".py",
   "mimetype": "text/x-python",
   "name": "python",
   "nbconvert_exporter": "python",
   "pygments_lexer": "ipython2",
   "version": "2.7.6"
  }
 },
 "nbformat": 4,
 "nbformat_minor": 0
}
