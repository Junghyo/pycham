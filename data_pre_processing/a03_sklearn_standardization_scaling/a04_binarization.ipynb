{
 "cells": [
  {
   "cell_type": "code",
   "execution_count": 1,
   "metadata": {
    "collapsed": true
   },
   "outputs": [],
   "source": [
    "import numpy as np\n",
    "import pandas as pd\n",
    "import matplotlib as mpl\n",
    "import matplotlib.pylab as plt\n",
    "import scipy as sp\n",
    "import scipy.stats as stats\n",
    "from sklearn.preprocessing import *"
   ]
  },
  {
   "cell_type": "code",
   "execution_count": null,
   "metadata": {},
   "outputs": [],
   "source": [
    "\"\"\"\n",
    "sklearn.preprocessing.Binarizer()를 사용해서 연속형 변수를 \n",
    "특정 기준값 이하(equal or less the threshold)이면 '0', \n",
    "특정 기준값 초과(above the threshold)이면 '1'\n",
    "두 개의 값만을 가지는 변수로 변환\n",
    "\n",
    "확률변수 X가 binomial distribution을 따를 경우 '0' 또는 '1'의 값만을\n",
    "가지는 이항변수화가 필요.\n",
    "\n",
    "범주형 자료에 대한 회귀분석, 연관성 분석, text mining 시 \n",
    "'0'과 '1'의 값을 가지는 dummy variable를 만들어서 분석하기도 한다.\n",
    "\n",
    "\n",
    "\"\"\""
   ]
  },
  {
   "cell_type": "code",
   "execution_count": 2,
   "metadata": {},
   "outputs": [
    {
     "data": {
      "text/plain": [
       "array([[  2,   5, -10],\n       [ -7,  -7,  -3],\n       [ -1,   9,   8]])"
      ]
     },
     "execution_count": 2,
     "metadata": {},
     "output_type": "execute_result"
    }
   ],
   "source": [
    "# making test data\n",
    "np.random.seed(0)\n",
    "X = np.random.randint(-10, 10, 9).reshape(3, 3)\n",
    "X"
   ]
  },
  {
   "cell_type": "code",
   "execution_count": 14,
   "metadata": {},
   "outputs": [
    {
     "name": "stdout",
     "output_type": "stream",
     "text": [
      "[[  2   5 -10]\n [ -7  -7  -3]\n [ -1   9   8]]\n[[1 1 0]\n [0 0 0]\n [0 1 1]]\n[[0 0 0]\n [0 0 0]\n [0 1 1]]\n"
     ]
    }
   ],
   "source": [
    "# (1) sklearn.preprocessing.Binarizer() method를 사용한 이항변수화\n",
    "# threshold = 0.0 : defalut 기준선. 0 보다 크면 1, 0 이하면 0\n",
    "print(X)\n",
    "print(Binarizer(threshold=0.0).fit_transform(X))\n",
    "print(Binarizer(threshold=5.0).transform(X))"
   ]
  },
  {
   "cell_type": "code",
   "execution_count": 16,
   "metadata": {},
   "outputs": [
    {
     "name": "stdout",
     "output_type": "stream",
     "text": [
      "[[1 1 0]\n [0 0 0]\n [0 1 1]]\n[[1 1 0]\n [0 0 0]\n [1 1 1]]\n"
     ]
    }
   ],
   "source": [
    "# sklearn.preprocessing.binarize() 함수를 사용한 이항변수화\n",
    "print(binarize(X)) # threshold=0.0 default\n",
    "\n",
    "print(binarize(X, threshold=-3.0))"
   ]
  },
  {
   "cell_type": "code",
   "execution_count": 17,
   "metadata": {},
   "outputs": [
    {
     "name": "stdout",
     "output_type": "stream",
     "text": [
      "[[1 1 0]\n [0 0 0]\n [0 1 1]]\n[[1 1 0]\n [0 0 0]\n [0 1 1]]\n"
     ]
    }
   ],
   "source": [
    "# copy=False로 설정하면 original data 자체가 이항변수화된 값으로 바뀜\n",
    "print(binarize(X, copy=False))\n",
    "print(X)"
   ]
  }
 ],
 "metadata": {
  "kernelspec": {
   "display_name": "Python 2",
   "language": "python",
   "name": "python2"
  },
  "language_info": {
   "codemirror_mode": {
    "name": "ipython",
    "version": 2
   },
   "file_extension": ".py",
   "mimetype": "text/x-python",
   "name": "python",
   "nbconvert_exporter": "python",
   "pygments_lexer": "ipython2",
   "version": "2.7.6"
  }
 },
 "nbformat": 4,
 "nbformat_minor": 0
}
