{
 "cells": [
  {
   "cell_type": "code",
   "execution_count": 2,
   "metadata": {
    "collapsed": true
   },
   "outputs": [],
   "source": [
    "import numpy as np\n",
    "import pandas as pd\n",
    "import matplotlib as mpl\n",
    "import matplotlib.pylab as plt\n",
    "import scipy as sp\n",
    "import scipy.stats as stats\n",
    "from sklearn.preprocessing import *"
   ]
  },
  {
   "cell_type": "code",
   "execution_count": null,
   "metadata": {},
   "outputs": [],
   "source": [
    "\"\"\"\n",
    "이상치, 특이값 처리\n",
    "\n",
    "1. \"이상치, 특이값을 찾아서 제거\"한 후 표준정규분포로 \n",
    "    표준화 변환을 해서 분석, 모델링을 진행하는 방법\n",
    "    \n",
    "2. \"이상치, 특이값에 덜 민감한\" 중앙값(median)과 \n",
    "    IQR(Inter-Quartile Range)을 이용해서 척도를 표준화하는 방법.  \n",
    "    K-NN 같은 non-parametric modeling은 두번째 방법도 사용 가능.\n",
    "    \n",
    "Python 의 sklearn.preprocessing의\n",
    "\n",
    "(1) StandardScaler() method를 이용한 표준정규분포로의 표준화 (x-mean)/std \n",
    "\n",
    "(2) RobustScaler() method를 이용한 표준화 (x-median)/IQR\n",
    "\n",
    "\n",
    "\n",
    "\n",
    "\"\"\""
   ]
  },
  {
   "cell_type": "code",
   "execution_count": 3,
   "metadata": {},
   "outputs": [
    {
     "data": {
      "text/plain": [
       "array([ 12.66,  11.43,   6.91,   9.98,  11.24,   8.56,  10.53,  10.22,\n        10.01,   9.65,  10.87,  12.41,   8.07,  12.06,  10.46,  10.89,\n         7.73,  10.27,  12.97,   7.84,   6.04,   6.51,  10.53,  14.77,\n        12.25,  13.35,  10.2 ,  12.8 ,   9.46,  11.23,   9.47,   8.9 ,\n        10.27,   9.05,  12.62,  10.39,  10.8 ,   9.32,  12.51,   8.54,\n        11.32,   9.3 ,   8.12,   9.02,   8.39,   9.57,   9.32,  10.62,\n        11.13,   9.71,   9.95,  10.58,   8.92,  11.42,  11.68,  10.41,\n        14.79,  11.83,   9.78,   9.28,   9.54,   9.  ,  12.26,   8.6 ,\n         9.84,   8.94,  12.09,   7.16,   9.28,   9.76,  10.64,  10.92,\n         9.57,  11.98,  10.63,  14.94,   6.98,  11.24,   7.91,   8.4 ,\n        13.97,  13.49,   6.29,   9.55,   9.87,   5.74,   9.9 ,  10.79,\n        10.43,   6.01,  12.22,  10.49,   9.88,   8.49,  11.42,  11.84,\n         9.04,  10.18,  11.65,   6.09])"
      ]
     },
     "execution_count": 3,
     "metadata": {},
     "output_type": "execute_result"
    }
   ],
   "source": [
    "# setting the number of digits of precision for floating point output\n",
    "# 소수점 2자리까지만 \n",
    "np.set_printoptions(precision=2)\n",
    "\n",
    "# setting random seed number : 난수 고정\n",
    "np.random.seed(10)\n",
    "\n",
    "# making 100 random data ~ N(10, 2)\n",
    "mu, sigma = 10, 2\n",
    "x = mu + sigma * np.random.randn(100)\n",
    "x"
   ]
  },
  {
   "cell_type": "code",
   "execution_count": 4,
   "metadata": {},
   "outputs": [
    {
     "data": {
      "image/png": "[encoded data removed]",
      "text/plain": [
       "<matplotlib.figure.Figure at 0x52d43c8>"
      ]
     },
     "metadata": {},
     "output_type": "display_data"
    }
   ],
   "source": [
    "# plotting histogram\n",
    "plt.hist(x)\n",
    "plt.show()"
   ]
  },
  {
   "cell_type": "code",
   "execution_count": 4,
   "metadata": {},
   "outputs": [
    {
     "name": "stdout",
     "output_type": "stream",
     "text": [
      "10.1588333259\n1.93407895423\n"
     ]
    }
   ],
   "source": [
    "# checking mean, std\n",
    "print(x.mean())\n",
    "print(x.std())"
   ]
  },
  {
   "cell_type": "code",
   "execution_count": 6,
   "metadata": {},
   "outputs": [
    {
     "data": {
      "text/plain": [
       "array([  12.66,   11.43,    6.91,    9.98,   11.24,    8.56,   10.53,\n         10.22,   10.01,    9.65,   10.87,   12.41,    8.07,   12.06,\n         10.46,   10.89,    7.73,   10.27,   12.97,    7.84,    6.04,\n          6.51,   10.53,   14.77,   12.25,   13.35,   10.2 ,   12.8 ,\n          9.46,   11.23,    9.47,    8.9 ,   10.27,    9.05,   12.62,\n         10.39,   10.8 ,    9.32,   12.51,    8.54,   11.32,    9.3 ,\n          8.12,    9.02,    8.39,    9.57,    9.32,   10.62,   11.13,\n          9.71,    9.95,   10.58,    8.92,   11.42,   11.68,   10.41,\n         14.79,   11.83,    9.78,    9.28,    9.54,    9.  ,   12.26,\n          8.6 ,    9.84,    8.94,   12.09,    7.16,    9.28,    9.76,\n         10.64,   10.92,    9.57,   11.98,   10.63,   14.94,    6.98,\n         11.24,    7.91,    8.4 ,   13.97,   13.49,    6.29,    9.55,\n          9.87,    5.74,    9.9 ,   10.79,   10.43,    6.01,   12.22,\n         10.49,    9.88,    8.49,   11.42,   11.84,    9.04,   10.18,\n        100.  ,  100.  ])"
      ]
     },
     "execution_count": 6,
     "metadata": {},
     "output_type": "execute_result"
    }
   ],
   "source": [
    "# inserting outliers : 이상치 넣기\n",
    "x[98:100] = 100\n",
    "x"
   ]
  },
  {
   "cell_type": "code",
   "execution_count": 7,
   "metadata": {},
   "outputs": [
    {
     "name": "stdout",
     "output_type": "stream",
     "text": [
      "11.9813835958\n12.714552556\n"
     ]
    }
   ],
   "source": [
    "# checking change of mean, std \n",
    "print(x.mean())\n",
    "print(x.std())\n",
    "# 표준편차가 상당히 증가됨"
   ]
  },
  {
   "cell_type": "code",
   "execution_count": 8,
   "metadata": {},
   "outputs": [
    {
     "data": {
      "image/png": "[encoded data removed]",
      "text/plain": [
       "<matplotlib.figure.Figure at 0xb7c7c18>"
      ]
     },
     "metadata": {},
     "output_type": "display_data"
    }
   ],
   "source": [
    "# plotting histogram to check outliers\n",
    "plt.hist(x, bins=np.arange(0, 102, 2))\n",
    "plt.show()"
   ]
  },
  {
   "cell_type": "code",
   "execution_count": 9,
   "metadata": {},
   "outputs": [
    {
     "name": "stderr",
     "output_type": "stream",
     "text": [
      "C:\\Users\\acorn\\Anaconda3\\lib\\site-packages\\sklearn\\preprocessing\\data.py:586: DeprecationWarning: Passing 1d arrays as data is deprecated in 0.17 and will raise ValueError in 0.19. Reshape your data either using X.reshape(-1, 1) if your data has a single feature or X.reshape(1, -1) if it contains a single sample.\n  warnings.warn(DEPRECATION_MSG_1D, DeprecationWarning)\nC:\\Users\\acorn\\Anaconda3\\lib\\site-packages\\sklearn\\preprocessing\\data.py:649: DeprecationWarning: Passing 1d arrays as data is deprecated in 0.17 and will raise ValueError in 0.19. Reshape your data either using X.reshape(-1, 1) if your data has a single feature or X.reshape(1, -1) if it contains a single sample.\n  warnings.warn(DEPRECATION_MSG_1D, DeprecationWarning)\n"
     ]
    },
    {
     "data": {
      "text/plain": [
       "array([  5.36e-02,  -4.33e-02,  -3.99e-01,  -1.57e-01,  -5.81e-02,\n        -2.69e-01,  -1.14e-01,  -1.39e-01,  -1.55e-01,  -1.83e-01,\n        -8.77e-02,   3.34e-02,  -3.08e-01,   5.91e-03,  -1.20e-01,\n        -8.58e-02,  -3.35e-01,  -1.35e-01,   7.77e-02,  -3.26e-01,\n        -4.67e-01,  -4.30e-01,  -1.14e-01,   2.19e-01,   2.09e-02,\n         1.07e-01,  -1.40e-01,   6.41e-02,  -1.99e-01,  -5.94e-02,\n        -1.98e-01,  -2.42e-01,  -1.35e-01,  -2.31e-01,   5.00e-02,\n        -1.25e-01,  -9.29e-02,  -2.09e-01,   4.18e-02,  -2.71e-01,\n        -5.20e-02,  -2.11e-01,  -3.04e-01,  -2.33e-01,  -2.82e-01,\n        -1.89e-01,  -2.09e-01,  -1.07e-01,  -6.69e-02,  -1.79e-01,\n        -1.60e-01,  -1.10e-01,  -2.41e-01,  -4.44e-02,  -2.34e-02,\n        -1.24e-01,   2.21e-01,  -1.15e-02,  -1.73e-01,  -2.13e-01,\n        -1.92e-01,  -2.35e-01,   2.17e-02,  -2.66e-01,  -1.69e-01,\n        -2.39e-01,   8.73e-03,  -3.79e-01,  -2.13e-01,  -1.75e-01,\n        -1.06e-01,  -8.33e-02,  -1.90e-01,  -2.55e-04,  -1.06e-01,\n         2.32e-01,  -3.93e-01,  -5.82e-02,  -3.20e-01,  -2.81e-01,\n         1.56e-01,   1.19e-01,  -4.48e-01,  -1.91e-01,  -1.66e-01,\n        -4.91e-01,  -1.64e-01,  -9.40e-02,  -1.22e-01,  -4.70e-01,\n         1.84e-02,  -1.17e-01,  -1.66e-01,  -2.74e-01,  -4.38e-02,\n        -1.14e-02,  -2.32e-01,  -1.42e-01,   6.92e+00,   6.92e+00])"
      ]
     },
     "execution_count": 9,
     "metadata": {},
     "output_type": "execute_result"
    }
   ],
   "source": [
    "# 이상치가 포함된 데이터의 표준정규분포로의 표준화 \n",
    "# sklearn.preprocessing.StandardScaler()\n",
    "x_stand = StandardScaler().fit_transform(x)\n",
    "x_stand\n",
    "# 6.92e+00,   6.92e+00 : 이상치"
   ]
  },
  {
   "cell_type": "code",
   "execution_count": 10,
   "metadata": {},
   "outputs": [
    {
     "name": "stdout",
     "output_type": "stream",
     "text": [
      "5.3290705182e-17\n1.0\n"
     ]
    }
   ],
   "source": [
    "# checking mean, std : Z~N(0, 1)\n",
    "print(x_stand.mean())\n",
    "print(x_stand.std())"
   ]
  },
  {
   "cell_type": "code",
   "execution_count": 11,
   "metadata": {},
   "outputs": [
    {
     "data": {
      "image/png": "[encoded data removed]",
      "text/plain": [
       "<matplotlib.figure.Figure at 0xbd5aa90>"
      ]
     },
     "metadata": {},
     "output_type": "display_data"
    }
   ],
   "source": [
    "# plotting histogram\n",
    "plt.hist(x_stand)\n",
    "plt.show()"
   ]
  },
  {
   "cell_type": "code",
   "execution_count": 12,
   "metadata": {},
   "outputs": [
    {
     "name": "stdout",
     "output_type": "stream",
     "text": [
      "98\n"
     ]
    },
    {
     "data": {
      "image/png": "[encoded data removed]",
      "text/plain": [
       "<matplotlib.figure.Figure at 0xc03e668>"
      ]
     },
     "metadata": {},
     "output_type": "display_data"
    }
   ],
   "source": [
    "# 이상치 제거한 후 확인\n",
    "x_stand_zoom = x_stand[x_stand < 5]\n",
    "print(len(x_stand_zoom)) # 이상치 제거한 98개\n",
    "plt.hist(x_stand_zoom, bins=np.arange(-3, 3, 0.2))\n",
    "plt.show()"
   ]
  },
  {
   "cell_type": "code",
   "execution_count": 43,
   "metadata": {},
   "outputs": [
    {
     "name": "stdout",
     "output_type": "stream",
     "text": [
      "(0.9873930215835571, 0.479479044675827)\n"
     ]
    },
    {
     "data": {
      "image/png": "[encoded data removed]",
      "text/plain": [
       "<matplotlib.figure.Figure at 0xbbba4a8>"
      ]
     },
     "metadata": {},
     "output_type": "display_data"
    }
   ],
   "source": [
    "# normality-test(shapiro wilk)\n",
    "print(stats.shapiro(x_stand_zoom))\n",
    "# 귀무가설을 채택하여 정규성을 만족한다고 볼 수 있다.\n",
    "\n",
    "\n",
    "# plotting qq plot(probplot)\n",
    "stats.probplot(x_stand_zoom, plot=plt)\n",
    "plt.show()"
   ]
  },
  {
   "cell_type": "code",
   "execution_count": null,
   "metadata": {},
   "outputs": [],
   "source": [
    "\"\"\"\n",
    "범위를 -3 ~ 3 까지 하고 hist를 plotting 했을 때, \n",
    "StandardScaler()에 의한 표준화는 이상치에 영향을 심하게 받아서 값들이\n",
    "촘촘하게 서로 붙어있다. \n",
    "\"\"\"\n"
   ]
  },
  {
   "cell_type": "code",
   "execution_count": 23,
   "metadata": {},
   "outputs": [
    {
     "name": "stdout",
     "output_type": "stream",
     "text": [
      "[  12.66   11.43    6.91    9.98   11.24    8.56   10.53   10.22   10.01\n    9.65   10.87   12.41    8.07   12.06   10.46   10.89    7.73   10.27\n   12.97    7.84    6.04    6.51   10.53   14.77   12.25   13.35   10.2\n   12.8     9.46   11.23    9.47    8.9    10.27    9.05   12.62   10.39\n   10.8     9.32   12.51    8.54   11.32    9.3     8.12    9.02    8.39\n    9.57    9.32   10.62   11.13    9.71    9.95   10.58    8.92   11.42\n   11.68   10.41   14.79   11.83    9.78    9.28    9.54    9.     12.26\n    8.6     9.84    8.94   12.09    7.16    9.28    9.76   10.64   10.92\n    9.57   11.98   10.63   14.94    6.98   11.24    7.91    8.4    13.97\n   13.49    6.29    9.55    9.87    5.74    9.9    10.79   10.43    6.01\n   12.22   10.49    9.88    8.49   11.42   11.84    9.04   10.18  100.\n  100.  ]\n"
     ]
    }
   ],
   "source": [
    "# 이상치가 포함된 데이터의 중앙값과 IQR 를 이용한 표준화\n",
    "# sklearn.preprocessing.RobustScaler()\n",
    "print(x)\n",
    "\n",
    "\n",
    "\n"
   ]
  },
  {
   "cell_type": "code",
   "execution_count": 13,
   "metadata": {},
   "outputs": [
    {
     "data": {
      "text/plain": [
       "count    100.000000\nmean      11.981384\nstd       12.778606\nmin        5.736576\n25%        9.044740\n50%       10.207698\n75%       11.418220\nmax      100.000000\ndtype: float64"
      ]
     },
     "execution_count": 13,
     "metadata": {},
     "output_type": "execute_result"
    }
   ],
   "source": [
    "# checking statistics (using pandas.series.describe) \n",
    "s = pd.Series(x)\n",
    "s.describe()"
   ]
  },
  {
   "cell_type": "code",
   "execution_count": 20,
   "metadata": {},
   "outputs": [
    {
     "name": "stdout",
     "output_type": "stream",
     "text": [
      "10.2076977416\n9.04474040819\n11.4182195381\n2.37347912996\n"
     ]
    }
   ],
   "source": [
    "# median\n",
    "print(np.median(x))\n",
    "# Q1 (25%)\n",
    "q1 = np.percentile(x, 25, axis=0)\n",
    "print(q1)\n",
    "# Q3 (75%)\n",
    "q3 = np.percentile(x, 75)\n",
    "print(q3)\n",
    "# IQR = Q3 - Q1\n",
    "iqr = q3 - q1\n",
    "print(iqr)"
   ]
  },
  {
   "cell_type": "code",
   "execution_count": 27,
   "metadata": {},
   "outputs": [
    {
     "name": "stderr",
     "output_type": "stream",
     "text": [
      "C:\\Users\\acorn\\Anaconda3\\lib\\site-packages\\sklearn\\preprocessing\\data.py:986: DeprecationWarning: Passing 1d arrays as data is deprecated in 0.17 and will raise ValueError in 0.19. Reshape your data either using X.reshape(-1, 1) if your data has a single feature or X.reshape(1, -1) if it contains a single sample.\n  warnings.warn(DEPRECATION_MSG_1D, DeprecationWarning)\nC:\\Users\\acorn\\Anaconda3\\lib\\site-packages\\sklearn\\preprocessing\\data.py:1008: DeprecationWarning: Passing 1d arrays as data is deprecated in 0.17 and will raise ValueError in 0.19. Reshape your data either using X.reshape(-1, 1) if your data has a single feature or X.reshape(1, -1) if it contains a single sample.\n  warnings.warn(DEPRECATION_MSG_1D, DeprecationWarning)\nC:\\Users\\acorn\\Anaconda3\\lib\\site-packages\\sklearn\\preprocessing\\data.py:986: DeprecationWarning: Passing 1d arrays as data is deprecated in 0.17 and will raise ValueError in 0.19. Reshape your data either using X.reshape(-1, 1) if your data has a single feature or X.reshape(1, -1) if it contains a single sample.\n  warnings.warn(DEPRECATION_MSG_1D, DeprecationWarning)\nC:\\Users\\acorn\\Anaconda3\\lib\\site-packages\\sklearn\\preprocessing\\data.py:1037: DeprecationWarning: Passing 1d arrays as data is deprecated in 0.17 and will raise ValueError in 0.19. Reshape your data either using X.reshape(-1, 1) if your data has a single feature or X.reshape(1, -1) if it contains a single sample.\n  warnings.warn(DEPRECATION_MSG_1D, DeprecationWarning)\n"
     ]
    },
    {
     "data": {
      "text/plain": [
       "array([  8.46e-01,   1.19e-01,  -1.40e-01,  -7.23e-01,   5.12e-01,\n         6.86e-01,  -4.94e-01,  -1.20e-02,   3.78e+01,   3.78e+01])"
      ]
     },
     "execution_count": 27,
     "metadata": {},
     "output_type": "execute_result"
    }
   ],
   "source": [
    "# .sklearn.preprocesssing.RobustScaler()\n",
    "x_robust = RobustScaler().fit_transform(x)\n",
    "# 마지막 10번째 값들 확인\n",
    "x_robust[-10:]"
   ]
  },
  {
   "cell_type": "code",
   "execution_count": 32,
   "metadata": {},
   "outputs": [
    {
     "name": "stdout",
     "output_type": "stream",
     "text": [
      "0.0\n5.35692620824\n0.747293638222\n"
     ]
    }
   ],
   "source": [
    "# RobustScaler() removes the median and scales the data \n",
    "# according to IQR(Inerquartile Range)\n",
    "print(np.median(x_robust))\n",
    "print(np.std(x_robust))\n",
    "print(np.mean(x_robust))"
   ]
  },
  {
   "cell_type": "code",
   "execution_count": 44,
   "metadata": {},
   "outputs": [
    {
     "data": {
      "image/png": "[encoded data removed]",
      "text/plain": [
       "<matplotlib.figure.Figure at 0xc3f5470>"
      ]
     },
     "metadata": {},
     "output_type": "display_data"
    }
   ],
   "source": [
    "# plotting histogram\n",
    "plt.hist(x_robust)\n",
    "plt.show()"
   ]
  },
  {
   "cell_type": "code",
   "execution_count": 46,
   "metadata": {},
   "outputs": [
    {
     "data": {
      "image/png": "[encoded data removed]",
      "text/plain": [
       "<matplotlib.figure.Figure at 0xbd05b00>"
      ]
     },
     "metadata": {},
     "output_type": "display_data"
    }
   ],
   "source": [
    "# 이상치 제거 후 다시 확인\n",
    "x_robust_zoom = x_robust[x_robust < 5]\n",
    "plt.hist(x_robust_zoom, bins=np.arange(-3, 3, 0.2))\n",
    "plt.show()"
   ]
  },
  {
   "cell_type": "code",
   "execution_count": 48,
   "metadata": {},
   "outputs": [
    {
     "name": "stdout",
     "output_type": "stream",
     "text": [
      "(0.9873932003974915, 0.47949546575546265)\n"
     ]
    },
    {
     "data": {
      "image/png": "[encoded data removed]",
      "text/plain": [
       "<matplotlib.figure.Figure at 0xc298e10>"
      ]
     },
     "metadata": {},
     "output_type": "display_data"
    }
   ],
   "source": [
    "# normality test (shapiro wilk)\n",
    "print(stats.shapiro(x_robust_zoom))\n",
    "\n",
    "# plotting qqplot(probplot)\n",
    "stats.probplot(x_robust_zoom, plot=plt)\n",
    "plt.show()"
   ]
  },
  {
   "cell_type": "code",
   "execution_count": 52,
   "metadata": {},
   "outputs": [
    {
     "data": {
      "image/png": "[encoded data removed]",
      "text/plain": [
       "<matplotlib.figure.Figure at 0xc2b07f0>"
      ]
     },
     "metadata": {},
     "output_type": "display_data"
    }
   ],
   "source": [
    "plt.figure(figsize=(10, 7))\n",
    "plt.subplot(221)\n",
    "plt.hist(x_stand_zoom, bins=np.arange(-3, 3, 0.2))\n",
    "plt.title(\"histogram using stadardscaler\")\n",
    "plt.subplot(222)\n",
    "plt.hist(x_robust_zoom, bins=np.arange(-3, 3, 0.2))\n",
    "plt.title(\"histogram using robustscaler\")\n",
    "plt.show()"
   ]
  },
  {
   "cell_type": "code",
   "execution_count": null,
   "metadata": {},
   "outputs": [],
   "source": [
    "\"\"\"\n",
    "두 개의 히스토그램은 이상치, 특이값(outlier)이 포함되어 있는 데이터를 \n",
    "표준화하는 경우\n",
    "\n",
    "(1) 평균과 표준편차를 이용한 표준정규분포 표준화 결과 \n",
    "(outlier 미포함한 범위의 zoom in)\n",
    "\n",
    "(2) 중앙값과 IQR(Interquartile Range)를 이용한 이상치에 견고한 표준화 \n",
    "(outlier 미포함한 범위의 zoom in) 결과의 분포\n",
    "\n",
    "왼쪽의 StandardScaler()에 의한 표준화보다 \n",
    "오른쪽의 RobustScaler()에 의한 표준화가 \n",
    "동일한 값을 더 넓게 분포시키고 있음을 알 수 있다.  \n",
    "즉, 목표변수 y값을 분류나 예측하는데 있어 산포가 더 크기 때문에 \n",
    "설명변수 x변수로서 더 유용할 수 있다고 추정 가능.\n",
    "\n",
    "\n",
    "\n",
    "\"\"\""
   ]
  }
 ],
 "metadata": {
  "kernelspec": {
   "display_name": "Python 2",
   "language": "python",
   "name": "python2"
  },
  "language_info": {
   "codemirror_mode": {
    "name": "ipython",
    "version": 2
   },
   "file_extension": ".py",
   "mimetype": "text/x-python",
   "name": "python",
   "nbconvert_exporter": "python",
   "pygments_lexer": "ipython2",
   "version": "2.7.6"
  }
 },
 "nbformat": 4,
 "nbformat_minor": 0
}
