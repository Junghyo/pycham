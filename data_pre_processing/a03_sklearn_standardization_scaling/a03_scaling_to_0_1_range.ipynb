{
 "cells": [
  {
   "cell_type": "code",
   "execution_count": 2,
   "metadata": {
    "collapsed": true
   },
   "outputs": [],
   "source": [
    "import numpy as np\n",
    "import pandas as pd\n",
    "import matplotlib as mpl\n",
    "import matplotlib.pylab as plt\n",
    "import scipy as sp\n",
    "import scipy.stats as stats\n",
    "from sklearn.preprocessing import *"
   ]
  },
  {
   "cell_type": "code",
   "execution_count": null,
   "metadata": {},
   "outputs": [],
   "source": [
    "\"\"\"\n",
    "최소값(Min)과 최대값(Max)을 사용해서 '0~1' 사이의 범위(range)로 \n",
    "데이터를 표준화해주는 '0~1 변환'\n",
    "\n",
    "보통 인공신경망, 딥러닝 할 때 변수들을 '0~1' 범위로 변환해서 사용\n",
    "\n",
    "\n",
    "sklearn.preprocessing.MinMaxScaler() method\n",
    "sklearn.preprocessing.minmax_scale()\n",
    "\"\"\""
   ]
  },
  {
   "cell_type": "code",
   "execution_count": 15,
   "metadata": {},
   "outputs": [
    {
     "data": {
      "text/plain": [
       "array([[ -1,  -6,   5],\n       [-10,   7,   6],\n       [  7,  -2,  -1]])"
      ]
     },
     "execution_count": 15,
     "metadata": {},
     "output_type": "execute_result"
    }
   ],
   "source": [
    "# making data array\n",
    "np.random.seed(10)\n",
    "X = np.random.randint(-10, 11, 9).reshape(3, 3)\n",
    "X\n"
   ]
  },
  {
   "cell_type": "code",
   "execution_count": 16,
   "metadata": {},
   "outputs": [
    {
     "name": "stdout",
     "output_type": "stream",
     "text": [
      "[-10  -6  -1]\n[7 7 6]\n"
     ]
    },
    {
     "data": {
      "text/plain": [
       "array([[ 0.52941176,  0.        ,  0.85714286],\n       [ 0.        ,  1.        ,  1.        ],\n       [ 1.        ,  0.30769231,  0.        ]])"
      ]
     },
     "execution_count": 16,
     "metadata": {},
     "output_type": "execute_result"
    }
   ],
   "source": [
    "# (1) 최소, 최대값을 구해서 '0~1' 범위로 변환\n",
    "# (x-min)/(max-min)\n",
    "print(X.min(axis=0))\n",
    "print(X.max(axis=0))\n",
    "\n",
    "def minmax(x):\n",
    "    x_minmax = (x - x.min(axis=0))/(x.max(axis=0)-x.min(axis=0))\n",
    "    return x_minmax\n",
    "\n",
    "minmax(X)"
   ]
  },
  {
   "cell_type": "code",
   "execution_count": 51,
   "metadata": {},
   "outputs": [
    {
     "name": "stdout",
     "output_type": "stream",
     "text": [
      "[[ 0.52941176  0.          0.85714286]\n [ 0.          1.          1.        ]\n [ 1.          0.30769231  0.        ]]\n[[ 1.11764706 -0.30769231  0.28571429]\n [ 0.88235294  0.07692308  0.57142857]\n [ 0.64705882  0.46153846  0.85714286]]\n"
     ]
    },
    {
     "name": "stderr",
     "output_type": "stream",
     "text": [
      "C:\\Users\\acorn\\Anaconda3\\lib\\site-packages\\sklearn\\utils\\validation.py:429: DataConversionWarning: Data with input dtype int32 was converted to float64 by MinMaxScaler.\n  warnings.warn(msg, _DataConversionWarning)\n"
     ]
    }
   ],
   "source": [
    "# (2) sklearn.preprocessing.MinMaxScaler()를 사용한 \n",
    "#     최소.최대 '0~1' 범위 변환\n",
    "\n",
    "# 1. training\n",
    "min_max_scaler = MinMaxScaler()\n",
    "x_train = min_max_scaler.fit_transform(X)\n",
    "print(x_train)\n",
    "\n",
    "\n",
    "# making new test data\n",
    "x1 = np.array([[9, -10, 1],\n",
    "              [5, -5, 3],\n",
    "              [1, 0, 5]])\n",
    "\n",
    "# 훈련 된 것을 기반으로 새로운 데이터 1~0 범위 변환\n",
    "x1_test = min_max_scaler.transform(X1)\n",
    "print(x1_test)"
   ]
  },
  {
   "cell_type": "code",
   "execution_count": 50,
   "metadata": {},
   "outputs": [
    {
     "name": "stderr",
     "output_type": "stream",
     "text": [
      "C:\\Users\\acorn\\Anaconda3\\lib\\site-packages\\sklearn\\utils\\validation.py:429: DataConversionWarning: Data with input dtype int32 was converted to float64.\n  warnings.warn(msg, _DataConversionWarning)\n"
     ]
    },
    {
     "data": {
      "text/plain": [
       "array([[ 0.52941176,  0.        ,  0.85714286],\n       [ 0.        ,  1.        ,  1.        ],\n       [ 1.        ,  0.30769231,  0.        ]])"
      ]
     },
     "execution_count": 50,
     "metadata": {},
     "output_type": "execute_result"
    }
   ],
   "source": [
    "# (3) sklearn.preprocessing.minmax_scale()를 \n",
    "#     사용한 최소.최대 '0~1' 범위 변환\n",
    "\n",
    "# scaling X  to min~max 0~1 range\n",
    "x_minmax = minmax_scale(X, axis=0)\n",
    "x_minmax"
   ]
  }
 ],
 "metadata": {
  "kernelspec": {
   "display_name": "Python 2",
   "language": "python",
   "name": "python2"
  },
  "language_info": {
   "codemirror_mode": {
    "name": "ipython",
    "version": 2
   },
   "file_extension": ".py",
   "mimetype": "text/x-python",
   "name": "python",
   "nbconvert_exporter": "python",
   "pygments_lexer": "ipython2",
   "version": "2.7.6"
  }
 },
 "nbformat": 4,
 "nbformat_minor": 0
}
