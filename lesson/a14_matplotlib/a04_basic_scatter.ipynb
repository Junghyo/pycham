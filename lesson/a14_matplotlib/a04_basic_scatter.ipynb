{
 "cells": [
  {
   "cell_type": "code",
   "execution_count": null,
   "metadata": {
    "collapsed": true
   },
   "outputs": [],
   "source": [
    "\"\"\"\n",
    "1. import\n",
    "    matplotlib.pyplot as plt\n",
    "2. 영역 객체 생성..\n",
    "    plt.figure()\n",
    "3. 출력\n",
    "    plt.show()\n",
    "4. 그래프     \n",
    "    시간 프름에 따라 비교할 때 꺾은 선 그래프를 처리..\n",
    "    \n",
    "5. 크기 변경\n",
    "    figure를 호출할 때, figsize=(가로크기, 세로크기),\n",
    "    단위 inch\n",
    "6. 그리드 적용..\n",
    "    grid()\n",
    "7. 축의 라벨 설정..\n",
    "    xlabel, ylabel 함수를 이용해서 축의 이름 설정..\n",
    "8. 그래프의 제목 설정..\n",
    "    title 함수..\n",
    "9. 범례 설정..\n",
    "     plot  label 텍스트 입력, legend 함수 호출..\n",
    "\n",
    "10 색상변경 : color = 영문색상 rgb\n",
    "11 선두께 : lw\n",
    "12 xlim(최소, 최대값), ylim(최소,최대)\n",
    "13 눈금 간격 : xticks/yticks   range()\n",
    "14 눈금 문자열  xticklabels/yticklabels\n",
    "15 marker 선모양..\n",
    "    \".\" point\n",
    "\"\"\""
   ]
  },
  {
   "cell_type": "code",
   "execution_count": 1,
   "metadata": {},
   "outputs": [],
   "source": [
    "import numpy as np\n",
    "import pandas as pd\n",
    "import matplotlib as mpl\n",
    "import matplotlib.pylab as plt"
   ]
  },
  {
   "cell_type": "code",
   "execution_count": 8,
   "metadata": {},
   "outputs": [
    {
     "data": {
      "text/plain": [
       "(0     54900\n 1     71800\n 2     71756\n 3    122000\n dtype: int64, 0    80500\n 1    82000\n 2    71736\n 3    90000\n dtype: int64)"
      ]
     },
     "execution_count": 8,
     "metadata": {},
     "output_type": "execute_result"
    }
   ],
   "source": [
    "# data\n",
    "s1 = pd.Series([54900,71800,71756,122000])\n",
    "s2 = pd.Series([80500,82000,71736,90000])\n",
    "s1, s2"
   ]
  },
  {
   "cell_type": "code",
   "execution_count": 16,
   "metadata": {},
   "outputs": [
    {
     "data": {
      "image/png": "[encoded data removed]",
      "text/plain": [
       "<matplotlib.figure.Figure at 0xb4e11d0>"
      ]
     },
     "metadata": {},
     "output_type": "display_data"
    }
   ],
   "source": [
    "# 크기 설정\n",
    "plt.figure(figsize=(10, 4))\n",
    "plt.plot(s1, label=\"08-01\", marker=\"o\", ls=\":\", c=\"#00ff00\")\n",
    "plt.plot(s2, label=\"08-02\", ls=\"--\")\n",
    "plt.grid()\n",
    "# x, y축 라벨\n",
    "plt.xlabel(\"index\")\n",
    "plt.ylabel(\"stock\")\n",
    "plt.title(\"plot graph\")\n",
    "plt.legend()\n",
    "plt.show()"
   ]
  },
  {
   "cell_type": "code",
   "execution_count": null,
   "metadata": {},
   "outputs": [],
   "source": [
    "\"\"\"\n",
    "# 산포도 그래프\n",
    "    1. 자료의 분포를 표시할 때, 많이 사용\n",
    "    2. 생성 : scatter\n",
    "    3. 생상변화 줄 항목 : c\n",
    "    4. colorbar() 인덱스에 해당하는 색상 출력\n",
    "# 차트에 표시해야하는 문자에 한글이 있는 경우..\n",
    "from matplotlib import font_manager, rc\n",
    "font_name = font_manager.FontProperties(fname=\"글꼴파일이름\").get_name()\n",
    "rc(\"font\", family=font_name)   \n",
    "\n",
    "\"\"\""
   ]
  },
  {
   "cell_type": "code",
   "execution_count": 32,
   "metadata": {},
   "outputs": [],
   "source": [
    "import numpy as np\n",
    "import pandas as pd\n",
    "import matplotlib as mpl\n",
    "import matplotlib.pylab as plt\n",
    "from matplotlib import font_manager, rc\n",
    "font_name= font_manager.FontProperties(fname=\"c:/Windows/Fonts/malgun.ttf\").get_name()\n",
    "rc('font', family=font_name)"
   ]
  },
  {
   "cell_type": "code",
   "execution_count": 28,
   "metadata": {},
   "outputs": [
    {
     "name": "stdout",
     "output_type": "stream",
     "text": [
      "C:\\pycharm\\lesson\\a14_matplotlib\n"
     ]
    },
    {
     "data": {
      "text/html": [
       "<div>\n",
       "<style>\n",
       "    .dataframe thead tr:only-child th {\n",
       "        text-align: right;\n",
       "    }\n",
       "\n",
       "    .dataframe thead th {\n",
       "        text-align: left;\n",
       "    }\n",
       "\n",
       "    .dataframe tbody tr th {\n",
       "        vertical-align: top;\n",
       "    }\n",
       "</style>\n",
       "<table border=\"1\" class=\"dataframe\">\n",
       "  <thead>\n",
       "    <tr style=\"text-align: right;\">\n",
       "      <th></th>\n",
       "      <th>이름</th>\n",
       "      <th>과목</th>\n",
       "      <th>점수</th>\n",
       "    </tr>\n",
       "  </thead>\n",
       "  <tbody>\n",
       "    <tr>\n",
       "      <th>0</th>\n",
       "      <td>박지영</td>\n",
       "      <td>국어</td>\n",
       "      <td>90</td>\n",
       "    </tr>\n",
       "    <tr>\n",
       "      <th>1</th>\n",
       "      <td>김태함</td>\n",
       "      <td>국어</td>\n",
       "      <td>70</td>\n",
       "    </tr>\n",
       "    <tr>\n",
       "      <th>2</th>\n",
       "      <td>김효섭</td>\n",
       "      <td>국어</td>\n",
       "      <td>92</td>\n",
       "    </tr>\n",
       "    <tr>\n",
       "      <th>3</th>\n",
       "      <td>임경희</td>\n",
       "      <td>국어</td>\n",
       "      <td>76</td>\n",
       "    </tr>\n",
       "    <tr>\n",
       "      <th>4</th>\n",
       "      <td>권혁진</td>\n",
       "      <td>국어</td>\n",
       "      <td>97</td>\n",
       "    </tr>\n",
       "    <tr>\n",
       "      <th>5</th>\n",
       "      <td>하혜진</td>\n",
       "      <td>국어</td>\n",
       "      <td>80</td>\n",
       "    </tr>\n",
       "    <tr>\n",
       "      <th>6</th>\n",
       "      <td>이준원</td>\n",
       "      <td>국어</td>\n",
       "      <td>20</td>\n",
       "    </tr>\n",
       "    <tr>\n",
       "      <th>7</th>\n",
       "      <td>윤정웅</td>\n",
       "      <td>국어</td>\n",
       "      <td>50</td>\n",
       "    </tr>\n",
       "    <tr>\n",
       "      <th>8</th>\n",
       "      <td>주시현</td>\n",
       "      <td>국어</td>\n",
       "      <td>95</td>\n",
       "    </tr>\n",
       "  </tbody>\n",
       "</table>\n",
       "</div>"
      ],
      "text/plain": [
       "<div>\n",
       "<style>\n",
       "    .dataframe thead tr:only-child th {\n",
       "        text-align: right;\n",
       "    }\n",
       "\n",
       "    .dataframe thead th {\n",
       "        text-align: left;\n",
       "    }\n",
       "\n",
       "    .dataframe tbody tr th {\n",
       "        vertical-align: top;\n",
       "    }\n",
       "</style>\n",
       "<table border=\"1\" class=\"dataframe\">\n",
       "  <thead>\n",
       "    <tr style=\"text-align: right;\">\n",
       "      <th></th>\n",
       "      <th>이름</th>\n",
       "      <th>과목</th>\n",
       "      <th>점수</th>\n",
       "    </tr>\n",
       "  </thead>\n",
       "  <tbody>\n",
       "    <tr>\n",
       "      <th>0</th>\n",
       "      <td>박지영</td>\n",
       "      <td>국어</td>\n",
       "      <td>90</td>\n",
       "    </tr>\n",
       "    <tr>\n",
       "      <th>1</th>\n",
       "      <td>김태함</td>\n",
       "      <td>국어</td>\n",
       "      <td>70</td>\n",
       "    </tr>\n",
       "    <tr>\n",
       "      <th>2</th>\n",
       "      <td>김효섭</td>\n",
       "      <td>국어</td>\n",
       "      <td>92</td>\n",
       "    </tr>\n",
       "    <tr>\n",
       "      <th>3</th>\n",
       "      <td>임경희</td>\n",
       "      <td>국어</td>\n",
       "      <td>76</td>\n",
       "    </tr>\n",
       "    <tr>\n",
       "      <th>4</th>\n",
       "      <td>권혁진</td>\n",
       "      <td>국어</td>\n",
       "      <td>97</td>\n",
       "    </tr>\n",
       "    <tr>\n",
       "      <th>5</th>\n",
       "      <td>하혜진</td>\n",
       "      <td>국어</td>\n",
       "      <td>80</td>\n",
       "    </tr>\n",
       "    <tr>\n",
       "      <th>6</th>\n",
       "      <td>이준원</td>\n",
       "      <td>국어</td>\n",
       "      <td>20</td>\n",
       "    </tr>\n",
       "    <tr>\n",
       "      <th>7</th>\n",
       "      <td>윤정웅</td>\n",
       "      <td>국어</td>\n",
       "      <td>50</td>\n",
       "    </tr>\n",
       "    <tr>\n",
       "      <th>8</th>\n",
       "      <td>주시현</td>\n",
       "      <td>국어</td>\n",
       "      <td>95</td>\n",
       "    </tr>\n",
       "  </tbody>\n",
       "</table>\n",
       "</div>"
      ]
     },
     "execution_count": 28,
     "metadata": {},
     "output_type": "execute_result"
    }
   ],
   "source": [
    "# 경로설정\n",
    "%cd C:\\pycharm\\lesson\\a14_matplotlib\n",
    "df = pd.read_csv(\"korea.csv\", encoding=\"ms949\")\n",
    "df\n"
   ]
  },
  {
   "cell_type": "code",
   "execution_count": 37,
   "metadata": {},
   "outputs": [
    {
     "data": {
      "image/png": "[encoded data removed]",
      "text/plain": [
       "<matplotlib.figure.Figure at 0xa024be0>"
      ]
     },
     "metadata": {},
     "output_type": "display_data"
    }
   ],
   "source": [
    "# 색상의 분포 내용 표시\n",
    "plt.scatter(x=df.index, y=df[\"점수\"], c=df.index)\n",
    "# xticks : 범위, 명칭, rotaion은 범위텍스트를 세로 아니면 가로 설정\n",
    "plt.xticks(range(0, len(df[\"점수\"]), 1), df[\"이름\"], rotation=\"vertical\")\n",
    "# 사이드에 colorbar 설정\n",
    "plt.colorbar()\n",
    "plt.title(\"학생별 국어점수 산포도\")\n",
    "plt.show()"
   ]
  }
 ],
 "metadata": {
  "kernelspec": {
   "display_name": "Python 2",
   "language": "python",
   "name": "python2"
  },
  "language_info": {
   "codemirror_mode": {
    "name": "ipython",
    "version": 2
   },
   "file_extension": ".py",
   "mimetype": "text/x-python",
   "name": "python",
   "nbconvert_exporter": "python",
   "pygments_lexer": "ipython2",
   "version": "2.7.6"
  }
 },
 "nbformat": 4,
 "nbformat_minor": 0
}
