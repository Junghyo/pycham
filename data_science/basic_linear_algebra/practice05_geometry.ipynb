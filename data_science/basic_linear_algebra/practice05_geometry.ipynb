{
 "cells": [
  {
   "cell_type": "code",
   "execution_count": 10,
   "metadata": {
    "collapsed": true
   },
   "outputs": [],
   "source": [
    "\"\"\"\n",
    "벡터의 기하학적 의미\n",
    "\n",
    "N차원 벡터(vector)  a는  N차원의 공간상에서\n",
    "\n",
    "벡터  a의 값으로 표시되는 점(point) 또는\n",
    "원점과 벡터  a의 값으로 표시되는 점을 연결한 화살표(arrow)로 간주할 수 있다.\n",
    "\n",
    "\"\"\""
   ]
  },
  {
   "cell_type": "code",
   "execution_count": 6,
   "metadata": {},
   "outputs": [],
   "source": [
    "import numpy as np\n",
    "import matplotlib as mpl\n",
    "import matplotlib.pylab as plt"
   ]
  },
  {
   "cell_type": "code",
   "execution_count": 7,
   "metadata": {},
   "outputs": [
    {
     "data": {
      "image/png": "[encoded data removed]",
      "text/plain": [
       "<matplotlib.figure.Figure at 0x89d3080>"
      ]
     },
     "metadata": {},
     "output_type": "display_data"
    }
   ],
   "source": [
    "a = np.array([1, 2])\n",
    "\n",
    "plt.annotate('', xy=a, xytext=(0,0), arrowprops=dict(facecolor='black'))\n",
    "plt.plot(0, 0, 'ro', ms=10)\n",
    "plt.plot(a[0], a[1], 'ro', ms=10)\n",
    "plt.text(0.35, 1.15, \"$a$\", fontdict={\"size\": 18})\n",
    "plt.xticks(np.arange(-2, 4))\n",
    "plt.yticks(np.arange(-1, 4))\n",
    "plt.xlim(-2.4, 3.4)\n",
    "plt.ylim(-1.2, 3.2)\n",
    "plt.grid()\n",
    "plt.show()"
   ]
  },
  {
   "cell_type": "code",
   "execution_count": 10,
   "metadata": {},
   "outputs": [],
   "source": [
    "\"\"\" \n",
    "벡터의 길이\n",
    "2차원 벡터  a의 길이는 피타고라스 정리를 이용하여 \n",
    "놈(norm) ‖a‖ 으로 계산할 수 있다.\n",
    " 마찬가지로 다른 차원의 벡터의 길이도 다음과 같아 놈으로 정의한다.\n",
    "\"\"\"\n"
   ]
  },
  {
   "cell_type": "code",
   "execution_count": 9,
   "metadata": {},
   "outputs": [
    {
     "data": {
      "text/plain": [
       "2.2360679774997898"
      ]
     },
     "execution_count": 9,
     "metadata": {},
     "output_type": "execute_result"
    }
   ],
   "source": [
    "# numpy의 linalg 서브 패키지의 norm 명령으로 벡터의 길이를 계산할 수 있다.\n",
    "np.linalg.norm(a)"
   ]
  },
  {
   "cell_type": "code",
   "execution_count": 10,
   "metadata": {},
   "outputs": [
    {
     "name": "stdout",
     "output_type": "stream",
     "text": [
      "2.2360679775\n"
     ]
    }
   ],
   "source": [
    "# 피타고라스 정리 사용\n",
    "print(np.sqrt(np.square(1)+np.square(2)))"
   ]
  },
  {
   "cell_type": "code",
   "execution_count": 12,
   "metadata": {},
   "outputs": [
    {
     "data": {
      "text/plain": [
       "array([-1,  1])"
      ]
     },
     "execution_count": 12,
     "metadata": {},
     "output_type": "execute_result"
    }
   ],
   "source": [
    "a = np.array([1, 2])\n",
    "b = np.array([2, 1])\n",
    "c = a - b\n",
    "c"
   ]
  },
  {
   "cell_type": "code",
   "execution_count": 14,
   "metadata": {},
   "outputs": [],
   "source": [
    "\"\"\"\n",
    "벡터의 직교\n",
    "\n",
    "두 벡터  a와  b가 이루는 각이 90도이면 서로 직교(orthogonal)라고 하며 \n",
    "a⊥b로 표시한다.\n",
    "\n",
    "cos90∘=0이므로 서로 직교인 두 벡터의 \n",
    "벡터 내적(inner product, dot product)는 0이 된다.\n",
    "\n",
    "a.T * b = b.T * a = 0 <--> a⊥b\n",
    "\n",
    "예를 들어 다음 두 벡터는 서로 직교한다.\n",
    "\n",
    "\"\"\""
   ]
  },
  {
   "cell_type": "code",
   "execution_count": 14,
   "metadata": {},
   "outputs": [
    {
     "data": {
      "text/plain": [
       "0"
      ]
     },
     "execution_count": 14,
     "metadata": {},
     "output_type": "execute_result"
    }
   ],
   "source": [
    "a = np.array([1, 1])\n",
    "b = np.array([-1, 1])\n",
    "np.dot(a.T, b)"
   ]
  },
  {
   "cell_type": "code",
   "execution_count": null,
   "metadata": {},
   "outputs": [],
   "source": [
    "\"\"\"\n",
    "투영\n",
    "\n",
    "벡터 a를 \n",
    "다른 벡터 b에 직교하는 성분 a1과 \n",
    "벡터 b에 평행한 성분 a2로 분해할 수 있는 데, \n",
    "이 때 성분  a2의 길이를 벡터 a의 벡터 b에 대한 투영(projection)이라고 한다. \n",
    "이 상황은 다음 그림과 같이 나타낼 수 있다.\n",
    "\n",
    "a = a1 + a2\n",
    "a1⊥b and a2 = a − a1\n",
    "\n",
    "투명은 다음과 같은 수식으로 구할 수 있다.\n",
    "∥a2∥ = a.T * (b/∥b∥) = (a.T *b)/∥b∥ = (b.T *a)/∥b∥\n",
    "\"\"\""
   ]
  },
  {
   "cell_type": "code",
   "execution_count": 36,
   "metadata": {},
   "outputs": [
    {
     "data": {
      "image/png": "[encoded data removed]",
      "text/plain": [
       "<matplotlib.figure.Figure at 0x8c13080>"
      ]
     },
     "metadata": {},
     "output_type": "display_data"
    }
   ],
   "source": [
    "a = np.array([1, 2])\n",
    "b = np.array([2, 0])\n",
    "a2 = np.dot(a, b)/np.linalg.norm(b) * np.array([1, 0])\n",
    "a1 = a - a2\n",
    "\n",
    "plt.annotate('', xy=a, xytext=(0,0), arrowprops=dict(facecolor='gray'))\n",
    "plt.annotate('', xy=b, xytext=(0,0), arrowprops=dict(facecolor='gray'))\n",
    "plt.annotate('', xy=a2, xytext=(0,0), arrowprops=dict(facecolor='green'))\n",
    "plt.annotate('', xy=a1, xytext=(0,0), arrowprops=dict(facecolor='green'))\n",
    "\n",
    "plt.plot(0, 0, 'ro', ms=10)\n",
    "plt.plot(a[0], a[1], 'ro', ms=10)\n",
    "plt.plot(b[0], b[1], 'ro', ms=10)\n",
    "\n",
    "plt.text(0.35, 1.15, \"$a$\", fontdict={\"size\": 18})\n",
    "plt.text(1.55, 0.15, \"$b$\", fontdict={\"size\": 18})\n",
    "plt.text(-0.35, 1.05, \"$a_1$\", fontdict={\"size\": 18})\n",
    "plt.text(0.50, 0.15, \"$a_2$\", fontdict={\"size\": 18})\n",
    "\n",
    "plt.xticks(np.arange(-2, 4))\n",
    "plt.yticks(np.arange(-1, 4))\n",
    "plt.xlim(-1.5, 3.5)\n",
    "plt.ylim(-0.5, 3)\n",
    "plt.grid()\n",
    "plt.show()"
   ]
  },
  {
   "cell_type": "code",
   "execution_count": 24,
   "metadata": {},
   "outputs": [
    {
     "data": {
      "text/plain": [
       "array([ 1.,  2.])"
      ]
     },
     "execution_count": 24,
     "metadata": {},
     "output_type": "execute_result"
    }
   ],
   "source": [
    "a = np.array([1, 2])\n",
    "b = np.array([2, 0])\n",
    "a2 = np.dot(b.T, a)/np.linalg.norm(b)\n",
    "a1 = a - a2\n",
    "a1+a2"
   ]
  },
  {
   "cell_type": "code",
   "execution_count": null,
   "metadata": {},
   "outputs": [],
   "source": [
    "\"\"\"\n",
    "벡터의 선형 종속과 선형 독립\n",
    "벡터들의 선형 조합이 0이 되는 모두 0이 아닌 스칼라값들이 \n",
    "존재하면 그 벡터들은 선형 종속(linearly dependent)이라고 한다.\n",
    "\n",
    "\n",
    "벡터들의 선형 조합이 0이 되는 모두 0이 아닌 스칼라값들이 존재하지 않으면 \n",
    "그 벡터들은 선형 독립(linearly independent)이라고 한다.\n",
    "\"\"\""
   ]
  },
  {
   "cell_type": "code",
   "execution_count": 41,
   "metadata": {},
   "outputs": [
    {
     "data": {
      "text/plain": [
       "(array([1, 2]), array([3, 3]), array([10, 14]), array([ 0.,  0.]))"
      ]
     },
     "execution_count": 41,
     "metadata": {},
     "output_type": "execute_result"
    }
   ],
   "source": [
    "a = np.array([1, 2])\n",
    "b = np.array([3, 3])\n",
    "c = np.array([10, 14])\n",
    "2 * a + b - 0.5 * c\n",
    "a, b, c, 2 * a + b - 0.5 * c"
   ]
  },
  {
   "cell_type": "code",
   "execution_count": null,
   "metadata": {},
   "outputs": [],
   "source": [
    "\"\"\"\n",
    "열 랭크\n",
    "\n",
    "행렬의 열 벡터 중 서로 독립인 열 벡터의 최대 갯수를 \n",
    "열 랭크(column rank) 혹은 랭크(rank)라고 한다.\n",
    "\n",
    "예를 들어 다음 행렬의 랭크는 2이다.\n",
    "array([[ 1,  5,  6],\n",
    "       [ 2,  6,  8],\n",
    "       [ 3, 11, 14]])\n",
    "\"\"\""
   ]
  },
  {
   "cell_type": "code",
   "execution_count": 49,
   "metadata": {},
   "outputs": [
    {
     "data": {
      "text/plain": [
       "2"
      ]
     },
     "execution_count": 49,
     "metadata": {},
     "output_type": "execute_result"
    }
   ],
   "source": [
    "# umpy의 linalg 서브 패키지의 matrix_rank 명령으로 랭크를 계산할 수 있다.\n",
    "A = np.array([[1, 5, 6], [2, 6, 8], [3, 11, 14]])\n",
    "A\n",
    "np.linalg.matrix_rank(A)"
   ]
  }
 ],
 "metadata": {
  "kernelspec": {
   "display_name": "Python 2",
   "language": "python",
   "name": "python2"
  },
  "language_info": {
   "codemirror_mode": {
    "name": "ipython",
    "version": 2
   },
   "file_extension": ".py",
   "mimetype": "text/x-python",
   "name": "python",
   "nbconvert_exporter": "python",
   "pygments_lexer": "ipython2",
   "version": "2.7.6"
  }
 },
 "nbformat": 4,
 "nbformat_minor": 0
}
