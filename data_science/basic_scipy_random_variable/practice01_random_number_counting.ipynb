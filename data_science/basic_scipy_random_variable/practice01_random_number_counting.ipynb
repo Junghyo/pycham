{
 "cells": [
  {
   "cell_type": "code",
   "execution_count": 136,
   "metadata": {
    "collapsed": true
   },
   "outputs": [],
   "source": [
    "import numpy as np\n",
    "import pandas as pd\n",
    "import matplotlib as mpl\n",
    "import matplotlib.pylab as plt\n",
    "import scipy as sp\n",
    "import scipy.stats as st\n",
    "import seaborn as sns"
   ]
  },
  {
   "cell_type": "code",
   "execution_count": null,
   "metadata": {},
   "outputs": [],
   "source": [
    "\"\"\"\n",
    "seed 설정\n",
    "\n",
    "같은 알고리즘을 여러번 실행하더라도 다른 숫자가 나오도록 \n",
    "시작 숫자는 현재 시간 등을 사용해서 매번 바꿔준다. \n",
    "이런 시작 숫자를 시드(seed)라고 한다.\n",
    "\n",
    "따라서 시드를 사람이 수동으로 설정한다면 \n",
    "그 다음에 만들어지는 난수들은 예측할 수 있다.\n",
    "\n",
    "파이썬에서 시드를 설정하는 명령은 seed이다. \n",
    "인수로는 0과 같거나 큰 정수를 넣어준다.\n",
    "\"\"\""
   ]
  },
  {
   "cell_type": "code",
   "execution_count": 11,
   "metadata": {},
   "outputs": [
    {
     "data": {
      "text/plain": [
       "array([ 0.5488135 ,  0.71518937,  0.60276338,  0.54488318,  0.4236548 ])"
      ]
     },
     "execution_count": 11,
     "metadata": {},
     "output_type": "execute_result"
    }
   ],
   "source": [
    "# 난수 고정\n",
    "np.random.seed(0)\n",
    "# rand 명령은 0과 1사이의 난수를 발생시키는 명령으로 \n",
    "# 인수로 받은 숫자 횟수만큼 난수를 발생시킨다.\n",
    "np.random.rand(5)"
   ]
  },
  {
   "cell_type": "code",
   "execution_count": 16,
   "metadata": {},
   "outputs": [
    {
     "data": {
      "text/plain": [
       "array([ 0.5488135 ,  0.71518937,  0.60276338,  0.54488318,  0.4236548 ])"
      ]
     },
     "execution_count": 16,
     "metadata": {},
     "output_type": "execute_result"
    }
   ],
   "source": [
    "np.random.seed(0)\n",
    "np.random.rand(5)\n",
    "# 같은 숫자가 나옴"
   ]
  },
  {
   "cell_type": "code",
   "execution_count": 29,
   "metadata": {},
   "outputs": [
    {
     "name": "stdout",
     "output_type": "stream",
     "text": [
      "[0 1 2 3 4 5 6 7 8 9]\n[9 7 8 1 0 6 5 2 3 4]\n"
     ]
    }
   ],
   "source": [
    "# shuffle : 기존의 데이터 순서 바꾸기\n",
    "x1 = np.arange(10)\n",
    "print(x1)\n",
    "np.random.shuffle(x1)\n",
    "print(x1)\n",
    "# 순서가 random하게 바뀜"
   ]
  },
  {
   "cell_type": "code",
   "execution_count": null,
   "metadata": {},
   "outputs": [],
   "source": [
    "\"\"\"\n",
    "기존의 데이터에서 샘플링하기\n",
    "이미 있는 데이터 집합에서 일부를 선택하는 것을 샘플링(sampling)이라고 한다. \n",
    "샘플링에는 choice 명령을 사용한다. \n",
    "\n",
    "choice 명령은 다음과 같은 인수를 가질 수 있다.\n",
    "\n",
    "numpy.random.choice(a, size=None, replace=True, p=None)\n",
    "\n",
    "a : 배열이면 원래의 데이터, 정수이면 range(a) 명령으로 데이터 생성\n",
    "size : 정수. 샘플 숫자\n",
    "replace : 불리언. True이면 한번 선택한 데이터를 다시 선택 가능\n",
    "p : 배열. 각 데이터가 선택될 수 있는 확률\n",
    "\"\"\""
   ]
  },
  {
   "cell_type": "code",
   "execution_count": 32,
   "metadata": {},
   "outputs": [
    {
     "data": {
      "text/plain": [
       "array([3, 4, 1, 0, 2])"
      ]
     },
     "execution_count": 32,
     "metadata": {},
     "output_type": "execute_result"
    }
   ],
   "source": [
    "# 0~4 까지 5개 데이터 random으로 추출(중복 불가)\n",
    "np.random.choice(5, 5, replace=False)"
   ]
  },
  {
   "cell_type": "code",
   "execution_count": 44,
   "metadata": {},
   "outputs": [
    {
     "data": {
      "text/plain": [
       "array([1, 1, 4])"
      ]
     },
     "execution_count": 44,
     "metadata": {},
     "output_type": "execute_result"
    }
   ],
   "source": [
    "# 1~5까지 3개 데이터 random 선택 (중복추출 가능)\n",
    "np.random.choice(range(1, 6), 3, replace=True)"
   ]
  },
  {
   "cell_type": "code",
   "execution_count": 47,
   "metadata": {},
   "outputs": [
    {
     "data": {
      "text/plain": [
       "array([1, 1, 1, 4, 1, 3, 3, 1, 5, 4])"
      ]
     },
     "execution_count": 47,
     "metadata": {},
     "output_type": "execute_result"
    }
   ],
   "source": [
    "# 반복해서 10개 선택\n",
    "np.random.choice(range(1, 6), 10, replace=True)"
   ]
  },
  {
   "cell_type": "code",
   "execution_count": 52,
   "metadata": {},
   "outputs": [
    {
     "data": {
      "text/plain": [
       "array([5, 2, 5, 2, 4, 2, 5, 5, 4, 4])"
      ]
     },
     "execution_count": 52,
     "metadata": {},
     "output_type": "execute_result"
    }
   ],
   "source": [
    "# 1~5까지 10개 중복 선택 ( 각 숫자당 확률을 다르게 setting)\n",
    "np.random.choice(range(1, 6), 10, p=[0.1, 0.3, 0, 0.4, 0.2])"
   ]
  },
  {
   "cell_type": "code",
   "execution_count": null,
   "metadata": {},
   "outputs": [],
   "source": [
    "\"\"\"\n",
    "난수 생성\n",
    "\n",
    "numpy의 random 서브패키지에는 난수를 생성하는 명령이 4가지가 있다.\n",
    "\n",
    "rand: 0부터 1사이의 균일 분포\n",
    "randn: 가우시안 표준 정규 분포\n",
    "randint: 균일 분포의 정수 난수\n",
    "\"\"\""
   ]
  },
  {
   "cell_type": "code",
   "execution_count": 53,
   "metadata": {},
   "outputs": [
    {
     "data": {
      "text/plain": [
       "array([ 0.069167  ,  0.69742877,  0.45354268,  0.7220556 ,  0.86638233,\n        0.97552151,  0.85580334,  0.01171408,  0.35997806,  0.72999056])"
      ]
     },
     "execution_count": 53,
     "metadata": {},
     "output_type": "execute_result"
    }
   ],
   "source": [
    "# rand : 0부터 1사이에서 균일한 확률 분포로 실수 난수를 생성한다.\n",
    "np.random.rand(10)"
   ]
  },
  {
   "cell_type": "code",
   "execution_count": 54,
   "metadata": {},
   "outputs": [
    {
     "name": "stdout",
     "output_type": "stream",
     "text": [
      "[[ 0.17162968  0.52103661  0.05433799  0.19999652  0.01852179]\n [ 0.7936977   0.22392469  0.34535168  0.92808129  0.7044144 ]\n [ 0.03183893  0.16469416  0.6214784   0.57722859  0.23789282]]\n(3, 5)\n"
     ]
    }
   ],
   "source": [
    "# 균일분포 3행 5열 생성\n",
    "y = np.random.rand(3, 5)\n",
    "print(y)\n",
    "print(y.shape)"
   ]
  },
  {
   "cell_type": "code",
   "execution_count": 90,
   "metadata": {},
   "outputs": [],
   "source": [
    "# randn : 기댓값이 0이고 표준편차가 1인 \n",
    "# 가우시안 표준 정규 분포를 따르는 난수를 생성\n",
    "x = np.random.randn(100)\n",
    "x.sort()\n"
   ]
  },
  {
   "cell_type": "code",
   "execution_count": 93,
   "metadata": {},
   "outputs": [
    {
     "data": {
      "image/png": "[encoded data removed]",
      "text/plain": [
       "<matplotlib.figure.Figure at 0xba74ef0>"
      ]
     },
     "metadata": {},
     "output_type": "display_data"
    }
   ],
   "source": [
    "# x로 확률밀도함수를 정의\n",
    "y = st.norm.pdf(x)\n",
    "plt.plot(x, y)\n",
    "plt.show()"
   ]
  },
  {
   "cell_type": "code",
   "execution_count": 94,
   "metadata": {},
   "outputs": [
    {
     "data": {
      "text/plain": [
       "array([8, 1, 9, 4, 8, 9, 3, 1, 6, 4])"
      ]
     },
     "execution_count": 94,
     "metadata": {},
     "output_type": "execute_result"
    }
   ],
   "source": [
    "# numpy.random.randint(low, high=None, size=None)\n",
    "# 중복 가능\n",
    "# 0~9까지 10개 뽑기\n",
    "np.random.randint(10, size=10)"
   ]
  },
  {
   "cell_type": "code",
   "execution_count": 114,
   "metadata": {},
   "outputs": [
    {
     "data": {
      "text/plain": [
       "array([ 7, 18, 14, 10, 10,  6, 15, 16,  8,  5])"
      ]
     },
     "execution_count": 114,
     "metadata": {},
     "output_type": "execute_result"
    }
   ],
   "source": [
    "# 1 ~ 20 까지 10개 뽑기(random)\n",
    "y = np.random.randint(1, 20, size=10)\n",
    "y\n"
   ]
  },
  {
   "cell_type": "code",
   "execution_count": 140,
   "metadata": {},
   "outputs": [
    {
     "data": {
      "text/plain": [
       "array([[13, 13, 11, 15, 14],\n       [13, 19, 13, 17, 18],\n       [14, 13, 12, 19, 19]])"
      ]
     },
     "execution_count": 140,
     "metadata": {},
     "output_type": "execute_result"
    }
   ],
   "source": [
    "# 10~20까지 랜덤하게 수를 뽑아 3행 5열로 \n",
    "x = np.random.randint(10, 20, (3, 5))\n",
    "x\n"
   ]
  },
  {
   "cell_type": "code",
   "execution_count": 139,
   "metadata": {},
   "outputs": [],
   "source": [
    "\"\"\"\n",
    " 정수 데이터 counting\n",
    " \n",
    "이렇게 발생시킨 난수가 실수값이면 히스토그램 등을 사용하여 분석하면 된다.\n",
    "\n",
    "만약 난수가 정수값이면 \n",
    "unique 명령이나 \n",
    "bincount 명령으로 데이터 값을 분석할 수 있다. \n",
    "\n",
    "이 명령들은 random 서브패키지가 아니라 numpy 바로 아래에 포함된 명령이다.\n",
    "\n",
    "unique 명령은 데이터에서 중복된 값을 제거하고\n",
    " 중복되지 않는 값의 리스트를 출력한다. \n",
    " \n",
    " return_counts 인수를 True 로 설정하면 각 값을 가진 데이터 갯수도 출력한다.\n",
    "\"\"\""
   ]
  },
  {
   "cell_type": "code",
   "execution_count": 141,
   "metadata": {},
   "outputs": [
    {
     "data": {
      "text/plain": [
       "array([11, 12, 13, 14, 15, 17, 18, 19])"
      ]
     },
     "execution_count": 141,
     "metadata": {},
     "output_type": "execute_result"
    }
   ],
   "source": [
    "# unique : 각각의 고유값들 표시(중복값은 하나만 표시)\n",
    "np.unique(x)"
   ]
  },
  {
   "cell_type": "code",
   "execution_count": 162,
   "metadata": {},
   "outputs": [
    {
     "name": "stdout",
     "output_type": "stream",
     "text": [
      "(array([11, 12, 13, 14, 15, 17, 18, 19]), array([ 2, 12,  0,  4,  3,  8,  9,  6], dtype=int64))\n(array([11, 12, 13, 14, 15, 17, 18, 19]), array([1, 1, 5, 2, 1, 1, 1, 3], dtype=int64))\n"
     ]
    }
   ],
   "source": [
    "# return_index = True : 해당 값들의 index return\n",
    "print(np.unique(x, return_index=True))\n",
    "# 해당 값들의 빈도수까지 return\n",
    "print(np.unique(x, return_counts=True))\n"
   ]
  },
  {
   "cell_type": "code",
   "execution_count": null,
   "metadata": {},
   "outputs": [],
   "source": [
    "\"\"\"\n",
    "그러나 unique()는 데이터에 존재하는 값에 대해서만 갯수를 세므로 \n",
    "데이터 값이 나올 수 있음에도 불구하고 데이터가 하나도 없는 경우에는 \n",
    "정보를 주지 않는다. \n",
    "\n",
    "예를 들어 주사위를 10번 던졌는데 6이 한 번도 나오지 않으면 \n",
    "이 값을 0으로 세어주지 않는다.\n",
    "\n",
    "따라서 데이터가 주사위를 던졌을 때 나오는 수처럼 \n",
    "특정 범위안의 수인 경우에는 bincount에 minlength 인수를 \n",
    "설정하여 쓰는 것이 더 편리하다. \n",
    "이 때는 0 부터 minlength - 1 까지의 숫자에 대해 각각 카운트를 한다. \n",
    "데이터가 없을 경우에는 카운트 값이 0이 된다.\n",
    "\n",
    "\"\"\""
   ]
  },
  {
   "cell_type": "code",
   "execution_count": 176,
   "metadata": {},
   "outputs": [
    {
     "name": "stdout",
     "output_type": "stream",
     "text": [
      "[5 6 1 4 4]\n"
     ]
    }
   ],
   "source": [
    "np.random.seed(0)\n",
    "# 주사위 5번 던진 눈금들의 값\n",
    "x = np.random.randint(1, 7, 5)\n",
    "print(x)"
   ]
  },
  {
   "cell_type": "code",
   "execution_count": 181,
   "metadata": {},
   "outputs": [
    {
     "data": {
      "text/plain": [
       "array([0, 1, 0, 0, 2, 1, 1], dtype=int64)"
      ]
     },
     "execution_count": 181,
     "metadata": {},
     "output_type": "execute_result"
    }
   ],
   "source": [
    "# bincount : count세기. 해당 값이 나올 수 있는 숫자임에도 나오지 않은 \n",
    "# 데이터 값은 0으로 return\n",
    "np.bincount(x)\n",
    "\n",
    "# 여기서 맨 앞 숫자는 index 0으로 의미가 없음"
   ]
  },
  {
   "cell_type": "code",
   "execution_count": 184,
   "metadata": {},
   "outputs": [],
   "source": [
    ""
   ]
  }
 ],
 "metadata": {
  "kernelspec": {
   "display_name": "Python 2",
   "language": "python",
   "name": "python2"
  },
  "language_info": {
   "codemirror_mode": {
    "name": "ipython",
    "version": 2
   },
   "file_extension": ".py",
   "mimetype": "text/x-python",
   "name": "python",
   "nbconvert_exporter": "python",
   "pygments_lexer": "ipython2",
   "version": "2.7.6"
  }
 },
 "nbformat": 4,
 "nbformat_minor": 0
}
