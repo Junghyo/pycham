{
 "cells": [
  {
   "cell_type": "code",
   "execution_count": null,
   "metadata": {
    "collapsed": true
   },
   "outputs": [],
   "source": [
    "\"\"\"\n",
    "binomial distribution\n",
    "\n",
    "성공확률이  θ인 베르누이 시도를  N번 하는 경우를 생각해 보자. \n",
    "가장 운이 좋을 때에는  N번 모두 성공할 것이고 가장 운이 나쁜 경우에는 \n",
    "한 번도 성공하지 못할 겻이다.  \n",
    "N번 중 성공한 횟수를 확률 변수  X라고 한다면  \n",
    "X의 값은 0 부터  N까지의 정수 중 하나가 될 것이다.\n",
    "\n",
    "이러한 확률 변수를 \n",
    "이항 분포(binomial distribution)를 따르는 확률 변수라고 한다.\n",
    "\n",
    "n : 총 시도 횟수\n",
    "p : 성공확률\n",
    "\n",
    "E(X) : np\n",
    "V(X) : np(1-p)\n",
    "\n",
    "\"\"\""
   ]
  },
  {
   "cell_type": "code",
   "execution_count": 1,
   "metadata": {},
   "outputs": [],
   "source": [
    "import numpy as np\n",
    "import pandas as pd\n",
    "import matplotlib as mpl\n",
    "import matplotlib.pylab as plt\n",
    "import seaborn as sns\n",
    "import scipy as sp\n",
    "import scipy.stats as stats\n",
    "from matplotlib import font_manager, rc\n",
    "font_name= font_manager.FontProperties(fname=\"c:/Windows/Fonts/malgun.ttf\").get_name()\n",
    "rc('font', family=font_name)"
   ]
  },
  {
   "cell_type": "code",
   "execution_count": null,
   "metadata": {},
   "outputs": [],
   "source": [
    "\"\"\"\n",
    "scipy를 사용한 베르누이 분포의 시뮬레이션\n",
    "\n",
    "scipy의 stats 서브 패키지에 있는 binom 클래스는 이항 분포 클래스이다.\n",
    "n 인수와 p 인수를 사용하여 모수를 설정한다.\n",
    "\"\"\""
   ]
  },
  {
   "cell_type": "code",
   "execution_count": 74,
   "metadata": {},
   "outputs": [
    {
     "data": {
      "text/plain": [
       "<scipy.stats._distn_infrastructure.rv_frozen at 0xc29f6a0>"
      ]
     },
     "execution_count": 74,
     "metadata": {},
     "output_type": "execute_result"
    }
   ],
   "source": [
    "# 모수 설정\n",
    "# 총 10번 시도, 성공 확률 0.6\n",
    "n = 10\n",
    "p = 0.6\n",
    "rv = stats.binom(n=10, p=0.6)\n",
    "rv"
   ]
  },
  {
   "cell_type": "code",
   "execution_count": 13,
   "metadata": {},
   "outputs": [
    {
     "data": {
      "image/png": "[encoded data removed]",
      "text/plain": [
       "<matplotlib.figure.Figure at 0xbadc208>"
      ]
     },
     "metadata": {},
     "output_type": "display_data"
    }
   ],
   "source": [
    "# pmf : 확률 질량 함수 (probability mass function)\n",
    "x = np.arange(n+1)\n",
    "plt.bar(x, rv.pmf(x))\n",
    "plt.ylabel(\"P(X)\")\n",
    "plt.title(\"pmf of binomial distribution\")\n",
    "plt.grid()\n",
    "plt.show()"
   ]
  },
  {
   "cell_type": "code",
   "execution_count": 37,
   "metadata": {},
   "outputs": [
    {
     "data": {
      "image/png": "[encoded data removed]",
      "text/plain": [
       "<matplotlib.figure.Figure at 0xbbfcc88>"
      ]
     },
     "metadata": {},
     "output_type": "display_data"
    }
   ],
   "source": [
    "# simulation : 1000 trial\n",
    "np.random.seed(0)\n",
    "x = rv.rvs(1000)\n",
    "\n",
    "# seaborn conterplot\n",
    "sns.countplot(x)\n",
    "plt.show()"
   ]
  },
  {
   "cell_type": "code",
   "execution_count": 59,
   "metadata": {},
   "outputs": [
    {
     "data": {
      "text/html": [
       "<div>\n",
       "<style>\n",
       "    .dataframe thead tr:only-child th {\n",
       "        text-align: right;\n",
       "    }\n",
       "\n",
       "    .dataframe thead th {\n",
       "        text-align: left;\n",
       "    }\n",
       "\n",
       "    .dataframe tbody tr th {\n",
       "        vertical-align: top;\n",
       "    }\n",
       "</style>\n",
       "<table border=\"1\" class=\"dataframe\">\n",
       "  <thead>\n",
       "    <tr style=\"text-align: right;\">\n",
       "      <th>type</th>\n",
       "      <th>simulation</th>\n",
       "      <th>theoretic</th>\n",
       "    </tr>\n",
       "    <tr>\n",
       "      <th>num of success</th>\n",
       "      <th></th>\n",
       "      <th></th>\n",
       "    </tr>\n",
       "  </thead>\n",
       "  <tbody>\n",
       "    <tr>\n",
       "      <th>0</th>\n",
       "      <td>0.000</td>\n",
       "      <td>0.000105</td>\n",
       "    </tr>\n",
       "    <tr>\n",
       "      <th>1</th>\n",
       "      <td>0.003</td>\n",
       "      <td>0.001573</td>\n",
       "    </tr>\n",
       "    <tr>\n",
       "      <th>2</th>\n",
       "      <td>0.008</td>\n",
       "      <td>0.010617</td>\n",
       "    </tr>\n",
       "    <tr>\n",
       "      <th>3</th>\n",
       "      <td>0.050</td>\n",
       "      <td>0.042467</td>\n",
       "    </tr>\n",
       "    <tr>\n",
       "      <th>4</th>\n",
       "      <td>0.115</td>\n",
       "      <td>0.111477</td>\n",
       "    </tr>\n",
       "    <tr>\n",
       "      <th>5</th>\n",
       "      <td>0.182</td>\n",
       "      <td>0.200658</td>\n",
       "    </tr>\n",
       "    <tr>\n",
       "      <th>6</th>\n",
       "      <td>0.244</td>\n",
       "      <td>0.250823</td>\n",
       "    </tr>\n",
       "    <tr>\n",
       "      <th>7</th>\n",
       "      <td>0.226</td>\n",
       "      <td>0.214991</td>\n",
       "    </tr>\n",
       "    <tr>\n",
       "      <th>8</th>\n",
       "      <td>0.130</td>\n",
       "      <td>0.120932</td>\n",
       "    </tr>\n",
       "    <tr>\n",
       "      <th>9</th>\n",
       "      <td>0.036</td>\n",
       "      <td>0.040311</td>\n",
       "    </tr>\n",
       "    <tr>\n",
       "      <th>10</th>\n",
       "      <td>0.006</td>\n",
       "      <td>0.006047</td>\n",
       "    </tr>\n",
       "  </tbody>\n",
       "</table>\n",
       "</div>"
      ],
      "text/plain": [
       "<div>\n",
       "<style>\n",
       "    .dataframe thead tr:only-child th {\n",
       "        text-align: right;\n",
       "    }\n",
       "\n",
       "    .dataframe thead th {\n",
       "        text-align: left;\n",
       "    }\n",
       "\n",
       "    .dataframe tbody tr th {\n",
       "        vertical-align: top;\n",
       "    }\n",
       "</style>\n",
       "<table border=\"1\" class=\"dataframe\">\n",
       "  <thead>\n",
       "    <tr style=\"text-align: right;\">\n",
       "      <th>type</th>\n",
       "      <th>simulation</th>\n",
       "      <th>theoretic</th>\n",
       "    </tr>\n",
       "    <tr>\n",
       "      <th>num of success</th>\n",
       "      <th></th>\n",
       "      <th></th>\n",
       "    </tr>\n",
       "  </thead>\n",
       "  <tbody>\n",
       "    <tr>\n",
       "      <th>0</th>\n",
       "      <td>0.000</td>\n",
       "      <td>0.000105</td>\n",
       "    </tr>\n",
       "    <tr>\n",
       "      <th>1</th>\n",
       "      <td>0.003</td>\n",
       "      <td>0.001573</td>\n",
       "    </tr>\n",
       "    <tr>\n",
       "      <th>2</th>\n",
       "      <td>0.008</td>\n",
       "      <td>0.010617</td>\n",
       "    </tr>\n",
       "    <tr>\n",
       "      <th>3</th>\n",
       "      <td>0.050</td>\n",
       "      <td>0.042467</td>\n",
       "    </tr>\n",
       "    <tr>\n",
       "      <th>4</th>\n",
       "      <td>0.115</td>\n",
       "      <td>0.111477</td>\n",
       "    </tr>\n",
       "    <tr>\n",
       "      <th>5</th>\n",
       "      <td>0.182</td>\n",
       "      <td>0.200658</td>\n",
       "    </tr>\n",
       "    <tr>\n",
       "      <th>6</th>\n",
       "      <td>0.244</td>\n",
       "      <td>0.250823</td>\n",
       "    </tr>\n",
       "    <tr>\n",
       "      <th>7</th>\n",
       "      <td>0.226</td>\n",
       "      <td>0.214991</td>\n",
       "    </tr>\n",
       "    <tr>\n",
       "      <th>8</th>\n",
       "      <td>0.130</td>\n",
       "      <td>0.120932</td>\n",
       "    </tr>\n",
       "    <tr>\n",
       "      <th>9</th>\n",
       "      <td>0.036</td>\n",
       "      <td>0.040311</td>\n",
       "    </tr>\n",
       "    <tr>\n",
       "      <th>10</th>\n",
       "      <td>0.006</td>\n",
       "      <td>0.006047</td>\n",
       "    </tr>\n",
       "  </tbody>\n",
       "</table>\n",
       "</div>"
      ]
     },
     "execution_count": 59,
     "metadata": {},
     "output_type": "execute_result"
    }
   ],
   "source": [
    "y = np.bincount(x, minlength=n+1)/len(x)\n",
    "xx = np.arange(n+1)\n",
    "df = pd.DataFrame(\n",
    "    {\n",
    "        \"theoretic\": rv.pmf(xx),\n",
    "        \"simulation\": y\n",
    "    }\n",
    ")\n",
    "df = df.stack().reset_index()\n",
    "df.columns = [\"num of success\", \"type\", \"ratio\"]\n",
    "df.pivot_table(\"ratio\", \"num of success\", \"type\")\n"
   ]
  },
  {
   "cell_type": "code",
   "execution_count": 60,
   "metadata": {},
   "outputs": [
    {
     "data": {
      "image/png": "[encoded data removed]",
      "text/plain": [
       "<matplotlib.figure.Figure at 0xba3d710>"
      ]
     },
     "metadata": {},
     "output_type": "display_data"
    }
   ],
   "source": [
    "sns.barplot(x=\"num of success\", y=\"ratio\", hue=\"type\", data=df)\n",
    "plt.show()"
   ]
  },
  {
   "cell_type": "code",
   "execution_count": 75,
   "metadata": {},
   "outputs": [
    {
     "name": "stdout",
     "output_type": "stream",
     "text": [
      "6.0\n2.4000000000000004\n6.009\n2.460919\n"
     ]
    }
   ],
   "source": [
    "np.random.seed(0)\n",
    "x = rv.rvs(1000)\n",
    "\n",
    "p = 0.6\n",
    "print(10 * p)\n",
    "print(10 * p * (1 - p))\n",
    "print(x.mean())\n",
    "print(x.var())"
   ]
  }
 ],
 "metadata": {
  "kernelspec": {
   "display_name": "Python 2",
   "language": "python",
   "name": "python2"
  },
  "language_info": {
   "codemirror_mode": {
    "name": "ipython",
    "version": 2
   },
   "file_extension": ".py",
   "mimetype": "text/x-python",
   "name": "python",
   "nbconvert_exporter": "python",
   "pygments_lexer": "ipython2",
   "version": "2.7.6"
  }
 },
 "nbformat": 4,
 "nbformat_minor": 0
}
