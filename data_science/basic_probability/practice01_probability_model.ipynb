{
 "cells": [
  {
   "cell_type": "code",
   "execution_count": 1,
   "metadata": {
    "collapsed": true
   },
   "outputs": [],
   "source": [
    "from __future__ import division\n",
    "from IPython.display import display\n",
    "from sympy.interactive import printing\n",
    "printing.init_printing(use_latex=\"mathjax\")"
   ]
  },
  {
   "cell_type": "code",
   "execution_count": 50,
   "metadata": {
    "collapsed": true
   },
   "outputs": [],
   "source": [
    "import numpy as np\n",
    "import pandas as pd\n",
    "import matplotlib as mpl\n",
    "import matplotlib.pylab as plt\n",
    "import scipy as sp\n"
   ]
  },
  {
   "cell_type": "code",
   "execution_count": null,
   "metadata": {},
   "outputs": [],
   "source": [
    "\"\"\"\n",
    "확률 모형이란\n",
    "\n",
    "데이터 분포 묘사의 문제점\n",
    "기술 통계 등의 방법으로 자료의 분포를 기술하는 방법은 불확실하며 \n",
    "대략적인 정보만을 전달할 뿐이며 자세한 혹은 완벽한 정보를 전달하기 어렵다.\n",
    "\n",
    "예를 들어 다음과 같이 1,000개의 데이터가 있다. \n",
    "데이터 생성에는 scipy의 확률 분포 명령을 이용하였다.\n",
    "\"\"\""
   ]
  },
  {
   "cell_type": "code",
   "execution_count": 4,
   "metadata": {},
   "outputs": [],
   "source": [
    "sp.random.seed(0)\n",
    "x = sp.random.normal(size=1000)"
   ]
  },
  {
   "cell_type": "code",
   "execution_count": 5,
   "metadata": {},
   "outputs": [
    {
     "data": {
      "image/png": "[encoded data removed]",
      "text/plain": [
       "<matplotlib.figure.Figure at 0xb960588>"
      ]
     },
     "metadata": {},
     "output_type": "display_data"
    }
   ],
   "source": [
    "ns, bins, ps = plt.hist(x, bins=10)\n",
    "plt.grid()\n",
    "plt.show()"
   ]
  },
  {
   "cell_type": "code",
   "execution_count": 6,
   "metadata": {},
   "outputs": [
    {
     "data": {
      "text/html": [
       "<div>\n",
       "<style>\n",
       "    .dataframe thead tr:only-child th {\n",
       "        text-align: right;\n",
       "    }\n",
       "\n",
       "    .dataframe thead th {\n",
       "        text-align: left;\n",
       "    }\n",
       "\n",
       "    .dataframe tbody tr th {\n",
       "        vertical-align: top;\n",
       "    }\n",
       "</style>\n",
       "<table border=\"1\" class=\"dataframe\">\n",
       "  <thead>\n",
       "    <tr style=\"text-align: right;\">\n",
       "      <th></th>\n",
       "      <th>0</th>\n",
       "      <th>1</th>\n",
       "      <th>2</th>\n",
       "      <th>3</th>\n",
       "      <th>4</th>\n",
       "      <th>5</th>\n",
       "      <th>6</th>\n",
       "      <th>7</th>\n",
       "      <th>8</th>\n",
       "      <th>9</th>\n",
       "      <th>10</th>\n",
       "    </tr>\n",
       "  </thead>\n",
       "  <tbody>\n",
       "    <tr>\n",
       "      <th>0</th>\n",
       "      <td>-3.046143</td>\n",
       "      <td>-2.465593</td>\n",
       "      <td>-1.885043</td>\n",
       "      <td>-1.304494</td>\n",
       "      <td>-0.723944</td>\n",
       "      <td>-0.143394</td>\n",
       "      <td>0.437156</td>\n",
       "      <td>1.017706</td>\n",
       "      <td>1.598255</td>\n",
       "      <td>2.178805</td>\n",
       "      <td>2.759355</td>\n",
       "    </tr>\n",
       "    <tr>\n",
       "      <th>1</th>\n",
       "      <td>0.009000</td>\n",
       "      <td>0.020000</td>\n",
       "      <td>0.070000</td>\n",
       "      <td>0.146000</td>\n",
       "      <td>0.217000</td>\n",
       "      <td>0.239000</td>\n",
       "      <td>0.160000</td>\n",
       "      <td>0.086000</td>\n",
       "      <td>0.038000</td>\n",
       "      <td>0.015000</td>\n",
       "      <td>NaN</td>\n",
       "    </tr>\n",
       "  </tbody>\n",
       "</table>\n",
       "</div>"
      ],
      "text/plain": [
       "<div>\n",
       "<style>\n",
       "    .dataframe thead tr:only-child th {\n",
       "        text-align: right;\n",
       "    }\n",
       "\n",
       "    .dataframe thead th {\n",
       "        text-align: left;\n",
       "    }\n",
       "\n",
       "    .dataframe tbody tr th {\n",
       "        vertical-align: top;\n",
       "    }\n",
       "</style>\n",
       "<table border=\"1\" class=\"dataframe\">\n",
       "  <thead>\n",
       "    <tr style=\"text-align: right;\">\n",
       "      <th></th>\n",
       "      <th>0</th>\n",
       "      <th>1</th>\n",
       "      <th>2</th>\n",
       "      <th>3</th>\n",
       "      <th>4</th>\n",
       "      <th>5</th>\n",
       "      <th>6</th>\n",
       "      <th>7</th>\n",
       "      <th>8</th>\n",
       "      <th>9</th>\n",
       "      <th>10</th>\n",
       "    </tr>\n",
       "  </thead>\n",
       "  <tbody>\n",
       "    <tr>\n",
       "      <th>0</th>\n",
       "      <td>-3.046143</td>\n",
       "      <td>-2.465593</td>\n",
       "      <td>-1.885043</td>\n",
       "      <td>-1.304494</td>\n",
       "      <td>-0.723944</td>\n",
       "      <td>-0.143394</td>\n",
       "      <td>0.437156</td>\n",
       "      <td>1.017706</td>\n",
       "      <td>1.598255</td>\n",
       "      <td>2.178805</td>\n",
       "      <td>2.759355</td>\n",
       "    </tr>\n",
       "    <tr>\n",
       "      <th>1</th>\n",
       "      <td>0.009000</td>\n",
       "      <td>0.020000</td>\n",
       "      <td>0.070000</td>\n",
       "      <td>0.146000</td>\n",
       "      <td>0.217000</td>\n",
       "      <td>0.239000</td>\n",
       "      <td>0.160000</td>\n",
       "      <td>0.086000</td>\n",
       "      <td>0.038000</td>\n",
       "      <td>0.015000</td>\n",
       "      <td>NaN</td>\n",
       "    </tr>\n",
       "  </tbody>\n",
       "</table>\n",
       "</div>"
      ]
     },
     "execution_count": 6,
     "metadata": {},
     "output_type": "execute_result"
    }
   ],
   "source": [
    "pd.DataFrame([bins, ns/1000])"
   ]
  },
  {
   "cell_type": "code",
   "execution_count": null,
   "metadata": {
    "collapsed": true
   },
   "outputs": [],
   "source": [
    "\"\"\"\n",
    "\n",
    "이 히스토그램에서 -0.143394 부터 0.437156 사이의 값이 \n",
    "전체의 약 24%를 차지하고 있음을 알 수 있다.\n",
    "\n",
    "그럼 만약 -0.01 부터 0.01 사이의 구간에 대한 정보를 얻고 싶다면? \n",
    "더 세부적인 구간에 대해 정보를 구하고 싶다면 \n",
    "히스토그램의 구간을 더 작게 나누어야 한다.\n",
    "\"\"\""
   ]
  },
  {
   "cell_type": "code",
   "execution_count": 9,
   "metadata": {},
   "outputs": [
    {
     "data": {
      "image/png": "[encoded data removed]",
      "text/plain": [
       "<matplotlib.figure.Figure at 0xbe89240>"
      ]
     },
     "metadata": {},
     "output_type": "display_data"
    }
   ],
   "source": [
    "ns, bins, ps = plt.hist(x, bins=100)\n",
    "plt.show()"
   ]
  },
  {
   "cell_type": "code",
   "execution_count": null,
   "metadata": {},
   "outputs": [],
   "source": [
    "\"\"\"\n",
    "\n",
    "정확한 묘사를 위해 구간의 수를 증가시키면 몇 가지 문제가 발생한다.\n",
    "\n",
    "우선 구간의 간격이 작아지면서 하나의 구간에 있는 자료의 수가 점점 적어진다.\n",
    "만약 구간 수가 무한대에 가깝다면 하나의 구간 폭은 0으로 수렴하고 \n",
    "해당 구간의 자료 수도 0으로 수렴할 것이다. \n",
    "따라서 분포의 상대적인 모양을 살펴보기 힘들어진다.\n",
    "\n",
    "더 큰 문제는 분포를 묘사하기 위한 정보가 증가한다는 점이다. \n",
    "데이터의 분포를 묘사하는 이유는 적은 갯수의 숫자를 통해 \n",
    "데이터의 전반적인 모습을 빠르게 파악하기 위한 것인데 \n",
    "묘사를 위한 정보의 양이 증가하면 원래의 목적을 잃어버린다.\n",
    "\"\"\""
   ]
  },
  {
   "cell_type": "code",
   "execution_count": null,
   "metadata": {},
   "outputs": [],
   "source": [
    "\"\"\"\n",
    "확률 모형과 데이터 생성\n",
    "\n",
    "이러한 문제를 해결하기 위해 만들어진 것이 확률 모형(probability model)이다.\n",
    "확률 모형은 추후 설명할 확률 변수(random variable)라는 것을 이용하여 \n",
    "데이터 분포를 수학적으로 정의하는 방법을 말한다.\n",
    "\n",
    "확률 모형론에서는 데이터 그 자체에는 의미가 없으며 \n",
    "데이터의 분포 특성만이 중요하다고 생각한다. \n",
    "따라서 분포 특성이 같은 데이터는 실질적으로 동일한 정보를 주는 데이터라고 본다.\n",
    "\n",
    "우리는 보통 조사(research) 과정을 통해 데이터를 하나 하나 수집한다. \n",
    "이러한 과정은 주사위를 던지는 행위에 비유할 수 있다. \n",
    "즉 조사를 통해 데이터를 하나 확보하는 일은 주사위를 던져 \n",
    "위를 향하는 눈금의 숫자를 종이에 적는 일과 같다고 보는 것이다.\n",
    "\"\"\""
   ]
  },
  {
   "cell_type": "code",
   "execution_count": 11,
   "metadata": {},
   "outputs": [
    {
     "data": {
      "text/plain": [
       "array([5, 6, 1, 4, 4, 4, 2, 4, 6, 3, 5, 1, 1, 5, 3, 2, 1, 2, 6, 2, 6, 1, 2,\n       5, 4, 1, 4, 6, 1, 3, 4, 1, 2, 4, 6, 4, 4, 1, 2, 2, 2, 1, 3, 5, 4, 4,\n       3, 5, 3, 1, 1, 5, 6, 6, 1, 5, 2, 5, 2, 3, 3, 1, 2, 2, 2, 2, 4, 4, 3,\n       4, 1, 4, 6, 5, 2, 3, 5, 4, 5, 5, 5, 4, 5, 5, 5, 1, 5, 4, 3, 6, 6, 6,\n       1, 2, 6, 2, 4, 1, 6, 1])"
      ]
     },
     "execution_count": 11,
     "metadata": {},
     "output_type": "execute_result"
    }
   ],
   "source": [
    "# 1~6 주사위를 100번 던진다고 가정한 데이터\n",
    "sp.random.seed(0)\n",
    "x = sp.random.randint(1, 7, 100)\n",
    "x"
   ]
  },
  {
   "cell_type": "code",
   "execution_count": 39,
   "metadata": {},
   "outputs": [
    {
     "data": {
      "text/plain": [
       "1    19\n2    18\n3    11\n4    20\n5    18\n6    14\ndtype: int64"
      ]
     },
     "execution_count": 39,
     "metadata": {},
     "output_type": "execute_result"
    }
   ],
   "source": [
    "s = pd.Series(x)\n",
    "s\n",
    "s1 = pd.Series(s.value_counts().sort_index())\n",
    "s1"
   ]
  },
  {
   "cell_type": "code",
   "execution_count": 47,
   "metadata": {},
   "outputs": [
    {
     "data": {
      "image/png": "[encoded data removed]",
      "text/plain": [
       "<matplotlib.figure.Figure at 0xc029940>"
      ]
     },
     "metadata": {},
     "output_type": "display_data"
    }
   ],
   "source": [
    "# 주사위 눈금 빈도수 bar plot 표현\n",
    "plt.bar(s1.index, s1)\n",
    "plt.yticks(range(0, 21, 2))\n",
    "plt.show()"
   ]
  },
  {
   "cell_type": "code",
   "execution_count": null,
   "metadata": {},
   "outputs": [],
   "source": [
    "\"\"\"\n",
    "확률 분포 함수\n",
    "\n",
    "그러면 확률 모형에서는 데이터를 생성하는 주사위, 즉 확률 변수의 확률적 특성은 \n",
    "어떻게 정의할까?\n",
    "\n",
    "이 확률적 특성을 정의하는 것이 \n",
    "확률 분포 함수(probability distribution function) \n",
    "또는 확률 밀도 함수(probability density function)라고 불리우는 수학 함수이다. 이 때 이 함수들의 계수를 모수(parameter)라고 부른다.\n",
    "\n",
    "\"\"\""
   ]
  },
  {
   "cell_type": "code",
   "execution_count": 70,
   "metadata": {},
   "outputs": [
    {
     "data": {
      "image/png": "[encoded data removed]",
      "text/plain": [
       "<matplotlib.figure.Figure at 0xc5aaba8>"
      ]
     },
     "metadata": {},
     "output_type": "display_data"
    }
   ],
   "source": [
    "#  scipy를 사용하여 \n",
    "# 평균 0, 표준편차 1인 \n",
    "# 표준 정규 분포(standard normal distribution)의 모양을 그린것이다.\n",
    "x = np.linspace(-3, 3, 100)\n",
    "y = sp.stats.norm.pdf(x)\n",
    "plt.plot(x, y)\n",
    "plt.show()"
   ]
  }
 ],
 "metadata": {
  "kernelspec": {
   "display_name": "Python 3",
   "language": "python",
   "name": "python3"
  },
  "language_info": {
   "codemirror_mode": {
    "name": "ipython",
    "version": 3
   },
   "file_extension": ".py",
   "mimetype": "text/x-python",
   "name": "python",
   "nbconvert_exporter": "python",
   "pygments_lexer": "ipython3",
   "version": "3.6.1"
  }
 },
 "nbformat": 4,
 "nbformat_minor": 1
}
